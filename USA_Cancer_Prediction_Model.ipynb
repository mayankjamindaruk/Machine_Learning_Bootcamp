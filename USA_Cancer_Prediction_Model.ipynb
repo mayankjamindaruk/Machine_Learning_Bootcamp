{
  "nbformat": 4,
  "nbformat_minor": 0,
  "metadata": {
    "colab": {
      "name": "USA Cancer Prediction Model.ipynb",
      "provenance": [],
      "collapsed_sections": [],
      "authorship_tag": "ABX9TyMJAKxyK8ec4wTxTXTm8C1W",
      "include_colab_link": true
    },
    "kernelspec": {
      "name": "python3",
      "display_name": "Python 3"
    }
  },
  "cells": [
    {
      "cell_type": "markdown",
      "metadata": {
        "id": "view-in-github",
        "colab_type": "text"
      },
      "source": [
        "<a href=\"https://colab.research.google.com/github/mayankjamindaruk/Machine_Learning_Bootcamp/blob/master/USA_Cancer_Prediction_Model.ipynb\" target=\"_parent\"><img src=\"https://colab.research.google.com/assets/colab-badge.svg\" alt=\"Open In Colab\"/></a>"
      ]
    },
    {
      "cell_type": "markdown",
      "metadata": {
        "id": "imZMwT6cC9x2"
      },
      "source": [
        "This is created by Mayank for cancer prediction for Dphi Datathon, I am doing all the suggestions in version 2."
      ]
    },
    {
      "cell_type": "markdown",
      "metadata": {
        "id": "niUzlubPDVi6"
      },
      "source": [
        "## Task 1\r\n",
        "\r\n",
        "I intend to get all the libraries called up here\r\n"
      ]
    },
    {
      "cell_type": "code",
      "metadata": {
        "id": "iC6ZWPW25fz4"
      },
      "source": [
        "# the below code is for displaying the output from all lines of python code within a single cell\r\n",
        "from IPython.core.interactiveshell import InteractiveShell\r\n",
        "InteractiveShell.ast_node_interactivity = \"all\"\r\n",
        "\r\n",
        "# A fundamental package for linear algebra and multidimensional arrays\r\n",
        "import pandas as pd                  \r\n",
        "\r\n",
        "# Data analysis and data manipulating tool\r\n",
        "import numpy as np                   \r\n",
        "\r\n",
        "# Library to generate random numbers\r\n",
        "import random                        \r\n",
        "\r\n",
        "# Collection is a Python module that implements specialized container datatypes providing \r\n",
        "# Counter is a dict subclass for counting hashable objects\r\n",
        "from collections import Counter      \r\n",
        "                                     \r\n",
        "# Visualization libraries\r\n",
        "import matplotlib.pyplot as plt\r\n",
        "import seaborn as sns\r\n",
        "\r\n",
        "# To ignore warnings in the notebook\r\n",
        "import warnings\r\n",
        "warnings.filterwarnings(\"ignore\")\r\n",
        "\r\n",
        "# to display up to 500 rows in the output of the jupyter notebook cell\r\n",
        "pd.set_option('display.max_rows', 500)"
      ],
      "execution_count": 254,
      "outputs": []
    },
    {
      "cell_type": "markdown",
      "metadata": {
        "id": "RWK_-zrADi7_"
      },
      "source": [
        "Let's import the training data set and understand the data size\r\n"
      ]
    },
    {
      "cell_type": "code",
      "metadata": {
        "colab": {
          "base_uri": "https://localhost:8080/"
        },
        "id": "q8VPc6H26h9W",
        "outputId": "e1fb7a15-867c-4a41-947d-77df253f253b"
      },
      "source": [
        "# import training data as pandas dataframe\r\n",
        "# the data is in csv - comma separated file. Hence we use the function 'read_csv'\r\n",
        "\r\n",
        "cancer_data  = pd.read_csv(\"https://raw.githubusercontent.com/dphi-official/Datasets/master/cancer_death_rate/Training_set_label.csv\" )\r\n",
        "\r\n",
        "# the below code will print the number of rows and columns\r\n",
        "cancer_data.shape"
      ],
      "execution_count": 255,
      "outputs": [
        {
          "output_type": "execute_result",
          "data": {
            "text/plain": [
              "(3051, 34)"
            ]
          },
          "metadata": {
            "tags": []
          },
          "execution_count": 255
        }
      ]
    },
    {
      "cell_type": "markdown",
      "metadata": {
        "id": "oKCbLRaWFEYO"
      },
      "source": [
        "Let's import the TESTING data set and understand the data size\r\n"
      ]
    },
    {
      "cell_type": "code",
      "metadata": {
        "colab": {
          "base_uri": "https://localhost:8080/"
        },
        "id": "j8JN_Fhr7-nW",
        "outputId": "3050e5b5-0253-4317-c233-cd192124c7ee"
      },
      "source": [
        "cancer_test = pd.read_csv('https://raw.githubusercontent.com/dphi-official/Datasets/master/cancer_death_rate/Testing_set_label.csv')\r\n",
        "\r\n",
        "cancer_test.shape"
      ],
      "execution_count": 256,
      "outputs": [
        {
          "output_type": "execute_result",
          "data": {
            "text/plain": [
              "(762, 33)"
            ]
          },
          "metadata": {
            "tags": []
          },
          "execution_count": 256
        }
      ]
    },
    {
      "cell_type": "markdown",
      "metadata": {
        "id": "PlqXCimPIUKt"
      },
      "source": [
        "## Task 2\r\n",
        "\r\n",
        "Now, lets explore the data types of the input training data.\r\n",
        "\r\n",
        "About data copied:\r\n",
        "About the data\r\n",
        "The data is collected from cancer.gov and the US Census American Community Survey. There are 34 columns including the target column. Some of the columns are listed below:\r\n",
        "\r\n",
        "TARGET_deathRate: Dependent variable. Mean per capita (100,000) cancer mortalities(a)\r\n",
        "avgAnnCount: Mean number of reported cases of cancer diagnosed annually(a)\r\n",
        "avgDeathsPerYear: Mean number of reported mortalities due to cancer(a)\r\n",
        "incidenceRate: Mean per capita (100,000) cancer diagoses(a)\r\n",
        "medianIncome: Median income per county (b)\r\n",
        "popEst2015: Population of county (b)\r\n",
        "povertyPercent: Percent of populace in poverty (b)\r\n",
        "studyPerCap: Per capita number of cancer-related clinical trials per county (a)\r\n",
        "binnedInc: Median income per capita binned by decile (b)\r\n",
        "MedianAge: Median age of county residents (b)\r\n",
        "MedianAgeMale: Median age of male county residents (b)\r\n",
        "MedianAgeFemale: Median age of female county residents (b)\r\n",
        "Geography: County name (b)\r\n",
        "AvgHouseholdSize: Mean household size of county (b)\r\n",
        "PercentMarried: Percent of county residents who are married (b)\r\n",
        "PctNoHS18_24: Percent of county residents ages 18-24 highest education attained: less than high school (b)\r\n",
        "PctHS18_24: Percent of county residents ages 18-24 highest education attained: high school diploma (b)\r\n",
        "PctSomeCol18_24: Percent of county residents ages 18-24 highest education attained: some college (b)\r\n",
        "PctBachDeg18_24: Percent of county residents ages 18-24 highest education attained: bachelor's degree (b)\r\n",
        "PctHS25_Over: Percent of county residents ages 25 and over highest education attained: high school diploma (b)\r\n",
        "PctBachDeg25_Over: Percent of county residents ages 25 and over highest education attained: bachelor's degree (b)\r\n",
        "PctEmployed16_Over: Percent of county residents ages 16 and over employed (b)\r\n",
        "PctUnemployed16_Over: Percent of county residents ages 16 and over unemployed (b)\r\n",
        "PctPrivateCoverage: Percent of county residents with private health coverage (b)\r\n",
        "PctPrivateCoverageAlone: Percent of county residents with private health coverage alone (no public assistance) (b)\r\n",
        "PctEmpPrivCoverage: Percent of county residents with employee-provided private health coverage (b)\r\n",
        "PctPublicCoverage: Percent of county residents with government-provided health coverage (b)\r\n",
        "PctPubliceCoverageAlone: Percent of county residents with government-provided health coverage alone (b)\r\n",
        "PctWhite: Percent of county residents who identify as White (b)\r\n",
        "PctBlack: Percent of county residents who identify as Black (b)\r\n",
        "PctAsian: Percent of county residents who identify as Asian (b)\r\n",
        "PctOtherRace: Percent of county residents who identify in a category which is not White, Black, or Asian (b)\r\n",
        "PctMarriedHouseholds: Percent of married households (b)\r\n",
        "BirthRate: Number of live births relative to number of women in county (b)\r\n",
        "(a): years 2010-2016\r\n",
        "\r\n",
        "(b): 2013 Census Estimates"
      ]
    },
    {
      "cell_type": "code",
      "metadata": {
        "colab": {
          "base_uri": "https://localhost:8080/"
        },
        "id": "GNoJp15A8IP7",
        "outputId": "77942b3b-0fff-4758-9594-c98bb2974e9f"
      },
      "source": [
        "cancer_data.dtypes"
      ],
      "execution_count": 257,
      "outputs": [
        {
          "output_type": "execute_result",
          "data": {
            "text/plain": [
              "avgAnnCount                float64\n",
              "avgDeathsPerYear             int64\n",
              "incidenceRate              float64\n",
              "medIncome                    int64\n",
              "popEst2015                   int64\n",
              "povertyPercent             float64\n",
              "studyPerCap                float64\n",
              "binnedInc                   object\n",
              "MedianAge                  float64\n",
              "MedianAgeMale              float64\n",
              "MedianAgeFemale            float64\n",
              "Geography                   object\n",
              "AvgHouseholdSize           float64\n",
              "PercentMarried             float64\n",
              "PctNoHS18_24               float64\n",
              "PctHS18_24                 float64\n",
              "PctSomeCol18_24            float64\n",
              "PctBachDeg18_24            float64\n",
              "PctHS25_Over               float64\n",
              "PctBachDeg25_Over          float64\n",
              "PctEmployed16_Over         float64\n",
              "PctUnemployed16_Over       float64\n",
              "PctPrivateCoverage         float64\n",
              "PctPrivateCoverageAlone    float64\n",
              "PctEmpPrivCoverage         float64\n",
              "PctPublicCoverage          float64\n",
              "PctPublicCoverageAlone     float64\n",
              "PctWhite                   float64\n",
              "PctBlack                   float64\n",
              "PctAsian                   float64\n",
              "PctOtherRace               float64\n",
              "PctMarriedHouseholds       float64\n",
              "BirthRate                  float64\n",
              "TARGET_deathRate           float64\n",
              "dtype: object"
            ]
          },
          "metadata": {
            "tags": []
          },
          "execution_count": 257
        }
      ]
    },
    {
      "cell_type": "markdown",
      "metadata": {
        "id": "nUedFkReH5Rm"
      },
      "source": [
        "Now, lets explore the data types of the input **TESTING** data.\r\n",
        "\r\n"
      ]
    },
    {
      "cell_type": "code",
      "metadata": {
        "colab": {
          "base_uri": "https://localhost:8080/"
        },
        "id": "Ihm1YNWz8IaS",
        "outputId": "7553e93c-dc83-430c-b303-6af952ec3ace"
      },
      "source": [
        "cancer_test.dtypes"
      ],
      "execution_count": 258,
      "outputs": [
        {
          "output_type": "execute_result",
          "data": {
            "text/plain": [
              "avgAnnCount                float64\n",
              "avgDeathsPerYear             int64\n",
              "incidenceRate              float64\n",
              "medIncome                    int64\n",
              "popEst2015                   int64\n",
              "povertyPercent             float64\n",
              "studyPerCap                float64\n",
              "binnedInc                   object\n",
              "MedianAge                  float64\n",
              "MedianAgeMale              float64\n",
              "MedianAgeFemale            float64\n",
              "Geography                   object\n",
              "AvgHouseholdSize           float64\n",
              "PercentMarried             float64\n",
              "PctNoHS18_24               float64\n",
              "PctHS18_24                 float64\n",
              "PctSomeCol18_24            float64\n",
              "PctBachDeg18_24            float64\n",
              "PctHS25_Over               float64\n",
              "PctBachDeg25_Over          float64\n",
              "PctEmployed16_Over         float64\n",
              "PctUnemployed16_Over       float64\n",
              "PctPrivateCoverage         float64\n",
              "PctPrivateCoverageAlone    float64\n",
              "PctEmpPrivCoverage         float64\n",
              "PctPublicCoverage          float64\n",
              "PctPublicCoverageAlone     float64\n",
              "PctWhite                   float64\n",
              "PctBlack                   float64\n",
              "PctAsian                   float64\n",
              "PctOtherRace               float64\n",
              "PctMarriedHouseholds       float64\n",
              "BirthRate                  float64\n",
              "dtype: object"
            ]
          },
          "metadata": {
            "tags": []
          },
          "execution_count": 258
        }
      ]
    },
    {
      "cell_type": "code",
      "metadata": {
        "colab": {
          "base_uri": "https://localhost:8080/"
        },
        "id": "8j9w3WrIiTgm",
        "outputId": "aada2f8c-5afe-4d8a-8ce7-df696f11ea95"
      },
      "source": [
        "cancer_test.shape"
      ],
      "execution_count": 259,
      "outputs": [
        {
          "output_type": "execute_result",
          "data": {
            "text/plain": [
              "(762, 33)"
            ]
          },
          "metadata": {
            "tags": []
          },
          "execution_count": 259
        }
      ]
    },
    {
      "cell_type": "markdown",
      "metadata": {
        "id": "9YoZ3lPtIRmE"
      },
      "source": [
        "Lets now check a few sample of data that how does it look for data exploration.\r\n",
        "\r\n",
        "\r\n",
        "1.   There is a huge variance in the data values, 'avgDeathsPerYear' is single digit but MedIncome is 5 digits.\r\n",
        "2.   Some of the values are zero eg 'studyPerCap'\r\n",
        "\r\n"
      ]
    },
    {
      "cell_type": "code",
      "metadata": {
        "colab": {
          "base_uri": "https://localhost:8080/",
          "height": 716
        },
        "id": "tCERu3928SAD",
        "outputId": "03802911-3460-4039-c526-38057a6fde30"
      },
      "source": [
        "cancer_data.head(10)"
      ],
      "execution_count": 260,
      "outputs": [
        {
          "output_type": "execute_result",
          "data": {
            "text/html": [
              "<div>\n",
              "<style scoped>\n",
              "    .dataframe tbody tr th:only-of-type {\n",
              "        vertical-align: middle;\n",
              "    }\n",
              "\n",
              "    .dataframe tbody tr th {\n",
              "        vertical-align: top;\n",
              "    }\n",
              "\n",
              "    .dataframe thead th {\n",
              "        text-align: right;\n",
              "    }\n",
              "</style>\n",
              "<table border=\"1\" class=\"dataframe\">\n",
              "  <thead>\n",
              "    <tr style=\"text-align: right;\">\n",
              "      <th></th>\n",
              "      <th>avgAnnCount</th>\n",
              "      <th>avgDeathsPerYear</th>\n",
              "      <th>incidenceRate</th>\n",
              "      <th>medIncome</th>\n",
              "      <th>popEst2015</th>\n",
              "      <th>povertyPercent</th>\n",
              "      <th>studyPerCap</th>\n",
              "      <th>binnedInc</th>\n",
              "      <th>MedianAge</th>\n",
              "      <th>MedianAgeMale</th>\n",
              "      <th>MedianAgeFemale</th>\n",
              "      <th>Geography</th>\n",
              "      <th>AvgHouseholdSize</th>\n",
              "      <th>PercentMarried</th>\n",
              "      <th>PctNoHS18_24</th>\n",
              "      <th>PctHS18_24</th>\n",
              "      <th>PctSomeCol18_24</th>\n",
              "      <th>PctBachDeg18_24</th>\n",
              "      <th>PctHS25_Over</th>\n",
              "      <th>PctBachDeg25_Over</th>\n",
              "      <th>PctEmployed16_Over</th>\n",
              "      <th>PctUnemployed16_Over</th>\n",
              "      <th>PctPrivateCoverage</th>\n",
              "      <th>PctPrivateCoverageAlone</th>\n",
              "      <th>PctEmpPrivCoverage</th>\n",
              "      <th>PctPublicCoverage</th>\n",
              "      <th>PctPublicCoverageAlone</th>\n",
              "      <th>PctWhite</th>\n",
              "      <th>PctBlack</th>\n",
              "      <th>PctAsian</th>\n",
              "      <th>PctOtherRace</th>\n",
              "      <th>PctMarriedHouseholds</th>\n",
              "      <th>BirthRate</th>\n",
              "      <th>TARGET_deathRate</th>\n",
              "    </tr>\n",
              "  </thead>\n",
              "  <tbody>\n",
              "    <tr>\n",
              "      <th>0</th>\n",
              "      <td>19.0</td>\n",
              "      <td>8</td>\n",
              "      <td>481.5</td>\n",
              "      <td>50038</td>\n",
              "      <td>2704</td>\n",
              "      <td>11.1</td>\n",
              "      <td>0.000000</td>\n",
              "      <td>(48021.6, 51046.4]</td>\n",
              "      <td>48.4</td>\n",
              "      <td>49.6</td>\n",
              "      <td>46.4</td>\n",
              "      <td>Hettinger County, North Dakota</td>\n",
              "      <td>2.250</td>\n",
              "      <td>65.9</td>\n",
              "      <td>10.8</td>\n",
              "      <td>25.0</td>\n",
              "      <td>57.4</td>\n",
              "      <td>6.8</td>\n",
              "      <td>37.1</td>\n",
              "      <td>12.2</td>\n",
              "      <td>57.4</td>\n",
              "      <td>1.1</td>\n",
              "      <td>81.2</td>\n",
              "      <td>56.0</td>\n",
              "      <td>35.7</td>\n",
              "      <td>34.7</td>\n",
              "      <td>9.9</td>\n",
              "      <td>96.032049</td>\n",
              "      <td>0.724914</td>\n",
              "      <td>0.000000</td>\n",
              "      <td>0.000000</td>\n",
              "      <td>62.511457</td>\n",
              "      <td>15.157116</td>\n",
              "      <td>160.3</td>\n",
              "    </tr>\n",
              "    <tr>\n",
              "      <th>1</th>\n",
              "      <td>88.0</td>\n",
              "      <td>34</td>\n",
              "      <td>486.0</td>\n",
              "      <td>59399</td>\n",
              "      <td>14844</td>\n",
              "      <td>9.7</td>\n",
              "      <td>0.000000</td>\n",
              "      <td>(54545.6, 61494.5]</td>\n",
              "      <td>41.9</td>\n",
              "      <td>41.3</td>\n",
              "      <td>43.2</td>\n",
              "      <td>Mills County, Iowa</td>\n",
              "      <td>2.630</td>\n",
              "      <td>58.6</td>\n",
              "      <td>22.3</td>\n",
              "      <td>29.1</td>\n",
              "      <td>NaN</td>\n",
              "      <td>1.1</td>\n",
              "      <td>35.9</td>\n",
              "      <td>16.0</td>\n",
              "      <td>60.4</td>\n",
              "      <td>3.8</td>\n",
              "      <td>76.7</td>\n",
              "      <td>NaN</td>\n",
              "      <td>50.8</td>\n",
              "      <td>32.1</td>\n",
              "      <td>12.8</td>\n",
              "      <td>97.537344</td>\n",
              "      <td>0.719957</td>\n",
              "      <td>0.080743</td>\n",
              "      <td>0.040371</td>\n",
              "      <td>61.641045</td>\n",
              "      <td>3.293510</td>\n",
              "      <td>194.9</td>\n",
              "    </tr>\n",
              "    <tr>\n",
              "      <th>2</th>\n",
              "      <td>195.0</td>\n",
              "      <td>83</td>\n",
              "      <td>475.7</td>\n",
              "      <td>39721</td>\n",
              "      <td>25164</td>\n",
              "      <td>18.5</td>\n",
              "      <td>0.000000</td>\n",
              "      <td>(37413.8, 40362.7]</td>\n",
              "      <td>48.9</td>\n",
              "      <td>47.9</td>\n",
              "      <td>49.9</td>\n",
              "      <td>Gladwin County, Michigan</td>\n",
              "      <td>2.300</td>\n",
              "      <td>57.2</td>\n",
              "      <td>24.9</td>\n",
              "      <td>36.2</td>\n",
              "      <td>NaN</td>\n",
              "      <td>3.5</td>\n",
              "      <td>40.2</td>\n",
              "      <td>7.6</td>\n",
              "      <td>41.2</td>\n",
              "      <td>11.0</td>\n",
              "      <td>61.6</td>\n",
              "      <td>NaN</td>\n",
              "      <td>32.1</td>\n",
              "      <td>49.8</td>\n",
              "      <td>21.6</td>\n",
              "      <td>97.576566</td>\n",
              "      <td>0.360770</td>\n",
              "      <td>0.411749</td>\n",
              "      <td>0.082350</td>\n",
              "      <td>53.978102</td>\n",
              "      <td>6.390328</td>\n",
              "      <td>196.5</td>\n",
              "    </tr>\n",
              "    <tr>\n",
              "      <th>3</th>\n",
              "      <td>116.0</td>\n",
              "      <td>55</td>\n",
              "      <td>496.6</td>\n",
              "      <td>30299</td>\n",
              "      <td>17917</td>\n",
              "      <td>28.1</td>\n",
              "      <td>0.000000</td>\n",
              "      <td>[22640, 34218.1]</td>\n",
              "      <td>44.2</td>\n",
              "      <td>42.7</td>\n",
              "      <td>45.2</td>\n",
              "      <td>Fentress County, Tennessee</td>\n",
              "      <td>2.430</td>\n",
              "      <td>53.0</td>\n",
              "      <td>10.9</td>\n",
              "      <td>51.8</td>\n",
              "      <td>NaN</td>\n",
              "      <td>5.3</td>\n",
              "      <td>44.2</td>\n",
              "      <td>7.0</td>\n",
              "      <td>41.6</td>\n",
              "      <td>10.4</td>\n",
              "      <td>45.2</td>\n",
              "      <td>NaN</td>\n",
              "      <td>24.2</td>\n",
              "      <td>53.2</td>\n",
              "      <td>33.0</td>\n",
              "      <td>97.908650</td>\n",
              "      <td>0.161731</td>\n",
              "      <td>0.306731</td>\n",
              "      <td>0.340193</td>\n",
              "      <td>51.013143</td>\n",
              "      <td>5.124836</td>\n",
              "      <td>230.9</td>\n",
              "    </tr>\n",
              "    <tr>\n",
              "      <th>4</th>\n",
              "      <td>80.0</td>\n",
              "      <td>35</td>\n",
              "      <td>372.0</td>\n",
              "      <td>39625</td>\n",
              "      <td>14058</td>\n",
              "      <td>17.4</td>\n",
              "      <td>0.000000</td>\n",
              "      <td>(37413.8, 40362.7]</td>\n",
              "      <td>45.0</td>\n",
              "      <td>42.2</td>\n",
              "      <td>48.0</td>\n",
              "      <td>Las Animas County, Colorado</td>\n",
              "      <td>2.360</td>\n",
              "      <td>52.2</td>\n",
              "      <td>12.6</td>\n",
              "      <td>31.2</td>\n",
              "      <td>NaN</td>\n",
              "      <td>0.2</td>\n",
              "      <td>28.3</td>\n",
              "      <td>10.5</td>\n",
              "      <td>49.3</td>\n",
              "      <td>9.2</td>\n",
              "      <td>56.6</td>\n",
              "      <td>NaN</td>\n",
              "      <td>33.4</td>\n",
              "      <td>43.0</td>\n",
              "      <td>24.7</td>\n",
              "      <td>82.672551</td>\n",
              "      <td>1.834103</td>\n",
              "      <td>0.682617</td>\n",
              "      <td>8.253465</td>\n",
              "      <td>50.566426</td>\n",
              "      <td>3.897033</td>\n",
              "      <td>162.2</td>\n",
              "    </tr>\n",
              "    <tr>\n",
              "      <th>5</th>\n",
              "      <td>49.0</td>\n",
              "      <td>24</td>\n",
              "      <td>437.7</td>\n",
              "      <td>27596</td>\n",
              "      <td>9122</td>\n",
              "      <td>32.5</td>\n",
              "      <td>0.000000</td>\n",
              "      <td>[22640, 34218.1]</td>\n",
              "      <td>36.8</td>\n",
              "      <td>35.6</td>\n",
              "      <td>42.9</td>\n",
              "      <td>Wilkinson County, Mississippi</td>\n",
              "      <td>2.600</td>\n",
              "      <td>34.4</td>\n",
              "      <td>28.5</td>\n",
              "      <td>40.8</td>\n",
              "      <td>NaN</td>\n",
              "      <td>7.3</td>\n",
              "      <td>36.1</td>\n",
              "      <td>10.0</td>\n",
              "      <td>39.0</td>\n",
              "      <td>9.7</td>\n",
              "      <td>42.3</td>\n",
              "      <td>32.7</td>\n",
              "      <td>27.9</td>\n",
              "      <td>48.2</td>\n",
              "      <td>32.0</td>\n",
              "      <td>28.871054</td>\n",
              "      <td>70.658106</td>\n",
              "      <td>0.000000</td>\n",
              "      <td>0.470840</td>\n",
              "      <td>36.054846</td>\n",
              "      <td>2.790179</td>\n",
              "      <td>219.7</td>\n",
              "    </tr>\n",
              "    <tr>\n",
              "      <th>6</th>\n",
              "      <td>44.0</td>\n",
              "      <td>14</td>\n",
              "      <td>506.7</td>\n",
              "      <td>55758</td>\n",
              "      <td>6309</td>\n",
              "      <td>11.3</td>\n",
              "      <td>0.000000</td>\n",
              "      <td>(54545.6, 61494.5]</td>\n",
              "      <td>43.2</td>\n",
              "      <td>42.5</td>\n",
              "      <td>43.7</td>\n",
              "      <td>Clay County, Nebraska</td>\n",
              "      <td>0.024</td>\n",
              "      <td>61.2</td>\n",
              "      <td>25.2</td>\n",
              "      <td>28.1</td>\n",
              "      <td>40.6</td>\n",
              "      <td>6.1</td>\n",
              "      <td>32.6</td>\n",
              "      <td>14.2</td>\n",
              "      <td>63.1</td>\n",
              "      <td>2.8</td>\n",
              "      <td>69.5</td>\n",
              "      <td>NaN</td>\n",
              "      <td>37.3</td>\n",
              "      <td>32.5</td>\n",
              "      <td>15.8</td>\n",
              "      <td>96.772172</td>\n",
              "      <td>0.454403</td>\n",
              "      <td>0.376058</td>\n",
              "      <td>0.893137</td>\n",
              "      <td>57.241116</td>\n",
              "      <td>8.012821</td>\n",
              "      <td>148.9</td>\n",
              "    </tr>\n",
              "    <tr>\n",
              "      <th>7</th>\n",
              "      <td>419.0</td>\n",
              "      <td>189</td>\n",
              "      <td>426.3</td>\n",
              "      <td>39922</td>\n",
              "      <td>82005</td>\n",
              "      <td>17.2</td>\n",
              "      <td>512.163892</td>\n",
              "      <td>(37413.8, 40362.7]</td>\n",
              "      <td>40.5</td>\n",
              "      <td>39.4</td>\n",
              "      <td>41.9</td>\n",
              "      <td>Cullman County, Alabama</td>\n",
              "      <td>2.550</td>\n",
              "      <td>57.6</td>\n",
              "      <td>20.6</td>\n",
              "      <td>30.6</td>\n",
              "      <td>44.7</td>\n",
              "      <td>4.1</td>\n",
              "      <td>34.7</td>\n",
              "      <td>9.1</td>\n",
              "      <td>49.7</td>\n",
              "      <td>7.3</td>\n",
              "      <td>62.6</td>\n",
              "      <td>47.9</td>\n",
              "      <td>42.1</td>\n",
              "      <td>35.3</td>\n",
              "      <td>19.0</td>\n",
              "      <td>95.693201</td>\n",
              "      <td>1.190638</td>\n",
              "      <td>0.557031</td>\n",
              "      <td>0.737356</td>\n",
              "      <td>54.850257</td>\n",
              "      <td>3.913309</td>\n",
              "      <td>187.9</td>\n",
              "    </tr>\n",
              "    <tr>\n",
              "      <th>8</th>\n",
              "      <td>929.0</td>\n",
              "      <td>355</td>\n",
              "      <td>507.3</td>\n",
              "      <td>42728</td>\n",
              "      <td>152692</td>\n",
              "      <td>18.0</td>\n",
              "      <td>438.791816</td>\n",
              "      <td>(42724.4, 45201]</td>\n",
              "      <td>41.3</td>\n",
              "      <td>39.9</td>\n",
              "      <td>42.8</td>\n",
              "      <td>Penobscot County, Maine</td>\n",
              "      <td>2.360</td>\n",
              "      <td>48.0</td>\n",
              "      <td>10.2</td>\n",
              "      <td>21.9</td>\n",
              "      <td>58.4</td>\n",
              "      <td>9.5</td>\n",
              "      <td>34.9</td>\n",
              "      <td>15.6</td>\n",
              "      <td>56.1</td>\n",
              "      <td>7.8</td>\n",
              "      <td>63.3</td>\n",
              "      <td>NaN</td>\n",
              "      <td>42.4</td>\n",
              "      <td>39.4</td>\n",
              "      <td>20.7</td>\n",
              "      <td>95.200636</td>\n",
              "      <td>0.825746</td>\n",
              "      <td>1.099474</td>\n",
              "      <td>0.158371</td>\n",
              "      <td>48.025753</td>\n",
              "      <td>4.133114</td>\n",
              "      <td>187.5</td>\n",
              "    </tr>\n",
              "    <tr>\n",
              "      <th>9</th>\n",
              "      <td>1081.0</td>\n",
              "      <td>367</td>\n",
              "      <td>490.9</td>\n",
              "      <td>53733</td>\n",
              "      <td>212284</td>\n",
              "      <td>15.7</td>\n",
              "      <td>249.665542</td>\n",
              "      <td>(51046.4, 54545.6]</td>\n",
              "      <td>36.5</td>\n",
              "      <td>35.6</td>\n",
              "      <td>37.5</td>\n",
              "      <td>Whatcom County, Washington</td>\n",
              "      <td>2.530</td>\n",
              "      <td>47.5</td>\n",
              "      <td>9.4</td>\n",
              "      <td>22.1</td>\n",
              "      <td>NaN</td>\n",
              "      <td>7.7</td>\n",
              "      <td>23.0</td>\n",
              "      <td>21.3</td>\n",
              "      <td>57.8</td>\n",
              "      <td>8.2</td>\n",
              "      <td>68.7</td>\n",
              "      <td>54.6</td>\n",
              "      <td>44.8</td>\n",
              "      <td>31.9</td>\n",
              "      <td>17.4</td>\n",
              "      <td>85.470304</td>\n",
              "      <td>0.880734</td>\n",
              "      <td>3.925157</td>\n",
              "      <td>2.425881</td>\n",
              "      <td>48.068750</td>\n",
              "      <td>4.472986</td>\n",
              "      <td>163.3</td>\n",
              "    </tr>\n",
              "  </tbody>\n",
              "</table>\n",
              "</div>"
            ],
            "text/plain": [
              "   avgAnnCount  avgDeathsPerYear  ...  BirthRate  TARGET_deathRate\n",
              "0         19.0                 8  ...  15.157116             160.3\n",
              "1         88.0                34  ...   3.293510             194.9\n",
              "2        195.0                83  ...   6.390328             196.5\n",
              "3        116.0                55  ...   5.124836             230.9\n",
              "4         80.0                35  ...   3.897033             162.2\n",
              "5         49.0                24  ...   2.790179             219.7\n",
              "6         44.0                14  ...   8.012821             148.9\n",
              "7        419.0               189  ...   3.913309             187.9\n",
              "8        929.0               355  ...   4.133114             187.5\n",
              "9       1081.0               367  ...   4.472986             163.3\n",
              "\n",
              "[10 rows x 34 columns]"
            ]
          },
          "metadata": {
            "tags": []
          },
          "execution_count": 260
        }
      ]
    },
    {
      "cell_type": "markdown",
      "metadata": {
        "id": "gplIBvrLKC4F"
      },
      "source": [
        "Checking if there are any missing values, we saw in the head there are definitely some."
      ]
    },
    {
      "cell_type": "code",
      "metadata": {
        "colab": {
          "base_uri": "https://localhost:8080/"
        },
        "id": "PWqF9wzY8SJy",
        "outputId": "dca89a17-27eb-4e2c-a528-4e6a19183e53"
      },
      "source": [
        "cancer_data.isnull().sum()"
      ],
      "execution_count": 261,
      "outputs": [
        {
          "output_type": "execute_result",
          "data": {
            "text/plain": [
              "avgAnnCount                   0\n",
              "avgDeathsPerYear              0\n",
              "incidenceRate                 0\n",
              "medIncome                     0\n",
              "popEst2015                    0\n",
              "povertyPercent                0\n",
              "studyPerCap                   0\n",
              "binnedInc                     0\n",
              "MedianAge                     0\n",
              "MedianAgeMale                 0\n",
              "MedianAgeFemale               0\n",
              "Geography                     0\n",
              "AvgHouseholdSize              0\n",
              "PercentMarried                0\n",
              "PctNoHS18_24                  0\n",
              "PctHS18_24                    0\n",
              "PctSomeCol18_24            2266\n",
              "PctBachDeg18_24               0\n",
              "PctHS25_Over                  0\n",
              "PctBachDeg25_Over             0\n",
              "PctEmployed16_Over          152\n",
              "PctUnemployed16_Over          0\n",
              "PctPrivateCoverage            0\n",
              "PctPrivateCoverageAlone     604\n",
              "PctEmpPrivCoverage            0\n",
              "PctPublicCoverage             0\n",
              "PctPublicCoverageAlone        0\n",
              "PctWhite                      0\n",
              "PctBlack                      0\n",
              "PctAsian                      0\n",
              "PctOtherRace                  0\n",
              "PctMarriedHouseholds          0\n",
              "BirthRate                     0\n",
              "TARGET_deathRate              0\n",
              "dtype: int64"
            ]
          },
          "metadata": {
            "tags": []
          },
          "execution_count": 261
        }
      ]
    },
    {
      "cell_type": "code",
      "metadata": {
        "colab": {
          "base_uri": "https://localhost:8080/"
        },
        "id": "jx4ZtKXNGHdQ",
        "outputId": "ffe923ca-1bf8-49c7-b0c3-6c7435d16e54"
      },
      "source": [
        "cancer_test.isnull().sum()"
      ],
      "execution_count": 262,
      "outputs": [
        {
          "output_type": "execute_result",
          "data": {
            "text/plain": [
              "avgAnnCount                  0\n",
              "avgDeathsPerYear             0\n",
              "incidenceRate                0\n",
              "medIncome                    0\n",
              "popEst2015                   0\n",
              "povertyPercent               0\n",
              "studyPerCap                  0\n",
              "binnedInc                    0\n",
              "MedianAge                    0\n",
              "MedianAgeMale                0\n",
              "MedianAgeFemale              0\n",
              "Geography                    0\n",
              "AvgHouseholdSize             0\n",
              "PercentMarried               0\n",
              "PctNoHS18_24                 0\n",
              "PctHS18_24                   0\n",
              "PctSomeCol18_24            580\n",
              "PctBachDeg18_24              0\n",
              "PctHS25_Over                 0\n",
              "PctBachDeg25_Over            0\n",
              "PctEmployed16_Over          33\n",
              "PctUnemployed16_Over         0\n",
              "PctPrivateCoverage           0\n",
              "PctPrivateCoverageAlone    148\n",
              "PctEmpPrivCoverage           0\n",
              "PctPublicCoverage            0\n",
              "PctPublicCoverageAlone       0\n",
              "PctWhite                     0\n",
              "PctBlack                     0\n",
              "PctAsian                     0\n",
              "PctOtherRace                 0\n",
              "PctMarriedHouseholds         0\n",
              "BirthRate                    0\n",
              "dtype: int64"
            ]
          },
          "metadata": {
            "tags": []
          },
          "execution_count": 262
        }
      ]
    },
    {
      "cell_type": "markdown",
      "metadata": {
        "id": "cdMVlfsSNY72"
      },
      "source": [
        "Exploratory Data Analysis - EDA"
      ]
    },
    {
      "cell_type": "code",
      "metadata": {
        "colab": {
          "base_uri": "https://localhost:8080/",
          "height": 304
        },
        "id": "qnh0Nz3tsvFk",
        "outputId": "760005d9-1276-40aa-9e2a-483306b4b71e"
      },
      "source": [
        "cancer_data.describe()"
      ],
      "execution_count": 263,
      "outputs": [
        {
          "output_type": "execute_result",
          "data": {
            "text/html": [
              "<div>\n",
              "<style scoped>\n",
              "    .dataframe tbody tr th:only-of-type {\n",
              "        vertical-align: middle;\n",
              "    }\n",
              "\n",
              "    .dataframe tbody tr th {\n",
              "        vertical-align: top;\n",
              "    }\n",
              "\n",
              "    .dataframe thead th {\n",
              "        text-align: right;\n",
              "    }\n",
              "</style>\n",
              "<table border=\"1\" class=\"dataframe\">\n",
              "  <thead>\n",
              "    <tr style=\"text-align: right;\">\n",
              "      <th></th>\n",
              "      <th>avgAnnCount</th>\n",
              "      <th>avgDeathsPerYear</th>\n",
              "      <th>incidenceRate</th>\n",
              "      <th>medIncome</th>\n",
              "      <th>popEst2015</th>\n",
              "      <th>povertyPercent</th>\n",
              "      <th>studyPerCap</th>\n",
              "      <th>MedianAge</th>\n",
              "      <th>MedianAgeMale</th>\n",
              "      <th>MedianAgeFemale</th>\n",
              "      <th>AvgHouseholdSize</th>\n",
              "      <th>PercentMarried</th>\n",
              "      <th>PctNoHS18_24</th>\n",
              "      <th>PctHS18_24</th>\n",
              "      <th>PctSomeCol18_24</th>\n",
              "      <th>PctBachDeg18_24</th>\n",
              "      <th>PctHS25_Over</th>\n",
              "      <th>PctBachDeg25_Over</th>\n",
              "      <th>PctEmployed16_Over</th>\n",
              "      <th>PctUnemployed16_Over</th>\n",
              "      <th>PctPrivateCoverage</th>\n",
              "      <th>PctPrivateCoverageAlone</th>\n",
              "      <th>PctEmpPrivCoverage</th>\n",
              "      <th>PctPublicCoverage</th>\n",
              "      <th>PctPublicCoverageAlone</th>\n",
              "      <th>PctWhite</th>\n",
              "      <th>PctBlack</th>\n",
              "      <th>PctAsian</th>\n",
              "      <th>PctOtherRace</th>\n",
              "      <th>PctMarriedHouseholds</th>\n",
              "      <th>BirthRate</th>\n",
              "      <th>TARGET_deathRate</th>\n",
              "    </tr>\n",
              "  </thead>\n",
              "  <tbody>\n",
              "    <tr>\n",
              "      <th>count</th>\n",
              "      <td>3051.000000</td>\n",
              "      <td>3051.000000</td>\n",
              "      <td>3051.000000</td>\n",
              "      <td>3051.000000</td>\n",
              "      <td>3.051000e+03</td>\n",
              "      <td>3051.000000</td>\n",
              "      <td>3051.000000</td>\n",
              "      <td>3051.000000</td>\n",
              "      <td>3051.000000</td>\n",
              "      <td>3051.000000</td>\n",
              "      <td>3051.000000</td>\n",
              "      <td>3051.000000</td>\n",
              "      <td>3051.000000</td>\n",
              "      <td>3051.000000</td>\n",
              "      <td>785.000000</td>\n",
              "      <td>3051.000000</td>\n",
              "      <td>3051.000000</td>\n",
              "      <td>3051.000000</td>\n",
              "      <td>2899.000000</td>\n",
              "      <td>3051.000000</td>\n",
              "      <td>3051.000000</td>\n",
              "      <td>2447.000000</td>\n",
              "      <td>3051.000000</td>\n",
              "      <td>3051.000000</td>\n",
              "      <td>3051.000000</td>\n",
              "      <td>3051.000000</td>\n",
              "      <td>3051.000000</td>\n",
              "      <td>3051.000000</td>\n",
              "      <td>3051.000000</td>\n",
              "      <td>3051.000000</td>\n",
              "      <td>3051.000000</td>\n",
              "      <td>3051.000000</td>\n",
              "    </tr>\n",
              "    <tr>\n",
              "      <th>mean</th>\n",
              "      <td>570.668154</td>\n",
              "      <td>176.000983</td>\n",
              "      <td>449.007042</td>\n",
              "      <td>46902.917076</td>\n",
              "      <td>9.495799e+04</td>\n",
              "      <td>16.880367</td>\n",
              "      <td>158.695936</td>\n",
              "      <td>44.303540</td>\n",
              "      <td>39.600885</td>\n",
              "      <td>42.234579</td>\n",
              "      <td>2.473048</td>\n",
              "      <td>51.885480</td>\n",
              "      <td>18.225139</td>\n",
              "      <td>34.920190</td>\n",
              "      <td>41.247898</td>\n",
              "      <td>6.131957</td>\n",
              "      <td>34.909440</td>\n",
              "      <td>13.212750</td>\n",
              "      <td>54.115626</td>\n",
              "      <td>7.841069</td>\n",
              "      <td>64.519338</td>\n",
              "      <td>48.573314</td>\n",
              "      <td>41.342347</td>\n",
              "      <td>36.287545</td>\n",
              "      <td>19.198820</td>\n",
              "      <td>84.005243</td>\n",
              "      <td>9.166570</td>\n",
              "      <td>1.198561</td>\n",
              "      <td>1.864829</td>\n",
              "      <td>51.355837</td>\n",
              "      <td>5.608851</td>\n",
              "      <td>178.909767</td>\n",
              "    </tr>\n",
              "    <tr>\n",
              "      <th>std</th>\n",
              "      <td>1250.546532</td>\n",
              "      <td>445.042777</td>\n",
              "      <td>52.886386</td>\n",
              "      <td>11902.460659</td>\n",
              "      <td>2.761007e+05</td>\n",
              "      <td>6.340462</td>\n",
              "      <td>544.035590</td>\n",
              "      <td>38.704107</td>\n",
              "      <td>5.177629</td>\n",
              "      <td>5.253474</td>\n",
              "      <td>0.429926</td>\n",
              "      <td>6.812846</td>\n",
              "      <td>8.105799</td>\n",
              "      <td>9.021475</td>\n",
              "      <td>11.107006</td>\n",
              "      <td>4.552222</td>\n",
              "      <td>7.015728</td>\n",
              "      <td>5.360342</td>\n",
              "      <td>8.267656</td>\n",
              "      <td>3.454863</td>\n",
              "      <td>10.511932</td>\n",
              "      <td>10.011218</td>\n",
              "      <td>9.327793</td>\n",
              "      <td>7.748442</td>\n",
              "      <td>6.023164</td>\n",
              "      <td>16.126982</td>\n",
              "      <td>14.676772</td>\n",
              "      <td>2.369931</td>\n",
              "      <td>3.235204</td>\n",
              "      <td>6.524964</td>\n",
              "      <td>1.955201</td>\n",
              "      <td>27.570075</td>\n",
              "    </tr>\n",
              "    <tr>\n",
              "      <th>min</th>\n",
              "      <td>6.000000</td>\n",
              "      <td>3.000000</td>\n",
              "      <td>211.100000</td>\n",
              "      <td>22640.000000</td>\n",
              "      <td>8.270000e+02</td>\n",
              "      <td>3.200000</td>\n",
              "      <td>0.000000</td>\n",
              "      <td>22.300000</td>\n",
              "      <td>22.400000</td>\n",
              "      <td>22.300000</td>\n",
              "      <td>0.022100</td>\n",
              "      <td>25.100000</td>\n",
              "      <td>0.000000</td>\n",
              "      <td>0.000000</td>\n",
              "      <td>7.100000</td>\n",
              "      <td>0.000000</td>\n",
              "      <td>7.500000</td>\n",
              "      <td>3.200000</td>\n",
              "      <td>17.600000</td>\n",
              "      <td>0.400000</td>\n",
              "      <td>23.400000</td>\n",
              "      <td>16.800000</td>\n",
              "      <td>14.300000</td>\n",
              "      <td>11.800000</td>\n",
              "      <td>2.600000</td>\n",
              "      <td>11.008762</td>\n",
              "      <td>0.000000</td>\n",
              "      <td>0.000000</td>\n",
              "      <td>0.000000</td>\n",
              "      <td>23.915652</td>\n",
              "      <td>0.000000</td>\n",
              "      <td>66.300000</td>\n",
              "    </tr>\n",
              "    <tr>\n",
              "      <th>25%</th>\n",
              "      <td>80.000000</td>\n",
              "      <td>29.000000</td>\n",
              "      <td>421.800000</td>\n",
              "      <td>38752.000000</td>\n",
              "      <td>1.236850e+04</td>\n",
              "      <td>12.200000</td>\n",
              "      <td>0.000000</td>\n",
              "      <td>37.900000</td>\n",
              "      <td>36.400000</td>\n",
              "      <td>39.200000</td>\n",
              "      <td>2.370000</td>\n",
              "      <td>47.800000</td>\n",
              "      <td>12.800000</td>\n",
              "      <td>29.300000</td>\n",
              "      <td>34.000000</td>\n",
              "      <td>3.100000</td>\n",
              "      <td>30.650000</td>\n",
              "      <td>9.300000</td>\n",
              "      <td>48.600000</td>\n",
              "      <td>5.500000</td>\n",
              "      <td>57.500000</td>\n",
              "      <td>41.300000</td>\n",
              "      <td>34.700000</td>\n",
              "      <td>31.000000</td>\n",
              "      <td>14.900000</td>\n",
              "      <td>78.012571</td>\n",
              "      <td>0.616576</td>\n",
              "      <td>0.261748</td>\n",
              "      <td>0.282825</td>\n",
              "      <td>47.736828</td>\n",
              "      <td>4.499936</td>\n",
              "      <td>161.400000</td>\n",
              "    </tr>\n",
              "    <tr>\n",
              "      <th>50%</th>\n",
              "      <td>171.000000</td>\n",
              "      <td>62.000000</td>\n",
              "      <td>453.549422</td>\n",
              "      <td>45098.000000</td>\n",
              "      <td>2.677700e+04</td>\n",
              "      <td>15.900000</td>\n",
              "      <td>0.000000</td>\n",
              "      <td>41.000000</td>\n",
              "      <td>39.500000</td>\n",
              "      <td>42.400000</td>\n",
              "      <td>2.500000</td>\n",
              "      <td>52.500000</td>\n",
              "      <td>17.200000</td>\n",
              "      <td>34.700000</td>\n",
              "      <td>41.000000</td>\n",
              "      <td>5.300000</td>\n",
              "      <td>35.400000</td>\n",
              "      <td>12.300000</td>\n",
              "      <td>54.400000</td>\n",
              "      <td>7.600000</td>\n",
              "      <td>65.300000</td>\n",
              "      <td>48.700000</td>\n",
              "      <td>41.300000</td>\n",
              "      <td>36.300000</td>\n",
              "      <td>18.800000</td>\n",
              "      <td>90.318790</td>\n",
              "      <td>2.276756</td>\n",
              "      <td>0.557031</td>\n",
              "      <td>0.791571</td>\n",
              "      <td>51.757925</td>\n",
              "      <td>5.384471</td>\n",
              "      <td>178.300000</td>\n",
              "    </tr>\n",
              "    <tr>\n",
              "      <th>75%</th>\n",
              "      <td>508.000000</td>\n",
              "      <td>148.000000</td>\n",
              "      <td>481.300000</td>\n",
              "      <td>52410.500000</td>\n",
              "      <td>6.853600e+04</td>\n",
              "      <td>20.400000</td>\n",
              "      <td>86.581336</td>\n",
              "      <td>43.900000</td>\n",
              "      <td>42.500000</td>\n",
              "      <td>45.300000</td>\n",
              "      <td>2.630000</td>\n",
              "      <td>56.500000</td>\n",
              "      <td>22.600000</td>\n",
              "      <td>40.700000</td>\n",
              "      <td>46.900000</td>\n",
              "      <td>8.100000</td>\n",
              "      <td>39.700000</td>\n",
              "      <td>16.100000</td>\n",
              "      <td>60.300000</td>\n",
              "      <td>9.700000</td>\n",
              "      <td>72.200000</td>\n",
              "      <td>55.700000</td>\n",
              "      <td>47.700000</td>\n",
              "      <td>41.400000</td>\n",
              "      <td>23.000000</td>\n",
              "      <td>95.577396</td>\n",
              "      <td>10.326954</td>\n",
              "      <td>1.189955</td>\n",
              "      <td>2.080241</td>\n",
              "      <td>55.465803</td>\n",
              "      <td>6.473896</td>\n",
              "      <td>195.500000</td>\n",
              "    </tr>\n",
              "    <tr>\n",
              "      <th>max</th>\n",
              "      <td>24965.000000</td>\n",
              "      <td>9445.000000</td>\n",
              "      <td>1206.900000</td>\n",
              "      <td>125635.000000</td>\n",
              "      <td>5.238216e+06</td>\n",
              "      <td>47.000000</td>\n",
              "      <td>9762.308998</td>\n",
              "      <td>525.600000</td>\n",
              "      <td>64.700000</td>\n",
              "      <td>65.700000</td>\n",
              "      <td>3.930000</td>\n",
              "      <td>72.500000</td>\n",
              "      <td>64.100000</td>\n",
              "      <td>72.500000</td>\n",
              "      <td>79.000000</td>\n",
              "      <td>51.800000</td>\n",
              "      <td>54.800000</td>\n",
              "      <td>40.400000</td>\n",
              "      <td>76.500000</td>\n",
              "      <td>29.400000</td>\n",
              "      <td>92.300000</td>\n",
              "      <td>78.900000</td>\n",
              "      <td>70.700000</td>\n",
              "      <td>65.100000</td>\n",
              "      <td>46.600000</td>\n",
              "      <td>100.000000</td>\n",
              "      <td>84.866024</td>\n",
              "      <td>35.640183</td>\n",
              "      <td>38.743747</td>\n",
              "      <td>71.703057</td>\n",
              "      <td>21.326165</td>\n",
              "      <td>362.800000</td>\n",
              "    </tr>\n",
              "  </tbody>\n",
              "</table>\n",
              "</div>"
            ],
            "text/plain": [
              "        avgAnnCount  avgDeathsPerYear  ...    BirthRate  TARGET_deathRate\n",
              "count   3051.000000       3051.000000  ...  3051.000000       3051.000000\n",
              "mean     570.668154        176.000983  ...     5.608851        178.909767\n",
              "std     1250.546532        445.042777  ...     1.955201         27.570075\n",
              "min        6.000000          3.000000  ...     0.000000         66.300000\n",
              "25%       80.000000         29.000000  ...     4.499936        161.400000\n",
              "50%      171.000000         62.000000  ...     5.384471        178.300000\n",
              "75%      508.000000        148.000000  ...     6.473896        195.500000\n",
              "max    24965.000000       9445.000000  ...    21.326165        362.800000\n",
              "\n",
              "[8 rows x 32 columns]"
            ]
          },
          "metadata": {
            "tags": []
          },
          "execution_count": 263
        }
      ]
    },
    {
      "cell_type": "markdown",
      "metadata": {
        "id": "KBxhurfLQ54Z"
      },
      "source": [
        "So it shows three columns are missing lets analyze and strategy to handling.\r\n",
        "\r\n",
        "\r\n",
        "1.   PctNoHS18_24: Percent of county residents ages 18-24 highest education attained: less than high school (b): This is percentage so we can put a mean there.\r\n",
        "\r\n",
        "2.   PctEmployed16_Over: Percent of county residents ages 16 and over employed (b). Same Strategy here\r\n",
        "\r\n",
        "3. PctPrivateCoverageAlone: Percent of county residents with private health coverage alone (no public assistance) (b). Same Strategy\r\n",
        "\r\n"
      ]
    },
    {
      "cell_type": "code",
      "metadata": {
        "id": "Jmjsq1H3UoJh"
      },
      "source": [
        "cancer_data['PctSomeCol18_24'].fillna('41.247898', downcast='float64', inplace = True)\r\n",
        "cancer_data['PctEmployed16_Over'].fillna(cancer_data['PctEmployed16_Over'].mean, downcast='float64', inplace = True)\r\n",
        "cancer_data['PctPrivateCoverageAlone'].fillna(cancer_data['PctPrivateCoverageAlone'].mean, downcast='float', inplace = True)\r\n",
        "\r\n",
        "cancer_test['PctSomeCol18_24'].fillna(cancer_test['PctSomeCol18_24'].mean, downcast='float', inplace = True)\r\n",
        "cancer_test['PctEmployed16_Over'].fillna(cancer_test['PctEmployed16_Over'].mean, downcast='float', inplace = True)\r\n",
        "cancer_test['PctPrivateCoverageAlone'].fillna(cancer_test['PctPrivateCoverageAlone'].mean, downcast='float', inplace = True)"
      ],
      "execution_count": 264,
      "outputs": []
    },
    {
      "cell_type": "code",
      "metadata": {
        "colab": {
          "base_uri": "https://localhost:8080/"
        },
        "id": "BWXC2ExMGac_",
        "outputId": "36e6aae5-a58e-42cc-d510-6e0eb994c1df"
      },
      "source": [
        "cancer_data.isnull().sum()"
      ],
      "execution_count": 265,
      "outputs": [
        {
          "output_type": "execute_result",
          "data": {
            "text/plain": [
              "avgAnnCount                0\n",
              "avgDeathsPerYear           0\n",
              "incidenceRate              0\n",
              "medIncome                  0\n",
              "popEst2015                 0\n",
              "povertyPercent             0\n",
              "studyPerCap                0\n",
              "binnedInc                  0\n",
              "MedianAge                  0\n",
              "MedianAgeMale              0\n",
              "MedianAgeFemale            0\n",
              "Geography                  0\n",
              "AvgHouseholdSize           0\n",
              "PercentMarried             0\n",
              "PctNoHS18_24               0\n",
              "PctHS18_24                 0\n",
              "PctSomeCol18_24            0\n",
              "PctBachDeg18_24            0\n",
              "PctHS25_Over               0\n",
              "PctBachDeg25_Over          0\n",
              "PctEmployed16_Over         0\n",
              "PctUnemployed16_Over       0\n",
              "PctPrivateCoverage         0\n",
              "PctPrivateCoverageAlone    0\n",
              "PctEmpPrivCoverage         0\n",
              "PctPublicCoverage          0\n",
              "PctPublicCoverageAlone     0\n",
              "PctWhite                   0\n",
              "PctBlack                   0\n",
              "PctAsian                   0\n",
              "PctOtherRace               0\n",
              "PctMarriedHouseholds       0\n",
              "BirthRate                  0\n",
              "TARGET_deathRate           0\n",
              "dtype: int64"
            ]
          },
          "metadata": {
            "tags": []
          },
          "execution_count": 265
        }
      ]
    },
    {
      "cell_type": "code",
      "metadata": {
        "colab": {
          "base_uri": "https://localhost:8080/"
        },
        "id": "1zuERqZBGuzo",
        "outputId": "aaa5611c-595c-4e3c-caba-5f64bad7742e"
      },
      "source": [
        "cancer_test.isnull().sum()"
      ],
      "execution_count": 266,
      "outputs": [
        {
          "output_type": "execute_result",
          "data": {
            "text/plain": [
              "avgAnnCount                0\n",
              "avgDeathsPerYear           0\n",
              "incidenceRate              0\n",
              "medIncome                  0\n",
              "popEst2015                 0\n",
              "povertyPercent             0\n",
              "studyPerCap                0\n",
              "binnedInc                  0\n",
              "MedianAge                  0\n",
              "MedianAgeMale              0\n",
              "MedianAgeFemale            0\n",
              "Geography                  0\n",
              "AvgHouseholdSize           0\n",
              "PercentMarried             0\n",
              "PctNoHS18_24               0\n",
              "PctHS18_24                 0\n",
              "PctSomeCol18_24            0\n",
              "PctBachDeg18_24            0\n",
              "PctHS25_Over               0\n",
              "PctBachDeg25_Over          0\n",
              "PctEmployed16_Over         0\n",
              "PctUnemployed16_Over       0\n",
              "PctPrivateCoverage         0\n",
              "PctPrivateCoverageAlone    0\n",
              "PctEmpPrivCoverage         0\n",
              "PctPublicCoverage          0\n",
              "PctPublicCoverageAlone     0\n",
              "PctWhite                   0\n",
              "PctBlack                   0\n",
              "PctAsian                   0\n",
              "PctOtherRace               0\n",
              "PctMarriedHouseholds       0\n",
              "BirthRate                  0\n",
              "dtype: int64"
            ]
          },
          "metadata": {
            "tags": []
          },
          "execution_count": 266
        }
      ]
    },
    {
      "cell_type": "code",
      "metadata": {
        "colab": {
          "base_uri": "https://localhost:8080/"
        },
        "id": "lwWLu1lc_lAF",
        "outputId": "521b159b-a0aa-4215-b461-253c661c8692"
      },
      "source": [
        "input = cancer_data.copy()\r\n",
        "input.shape"
      ],
      "execution_count": 267,
      "outputs": [
        {
          "output_type": "execute_result",
          "data": {
            "text/plain": [
              "(3051, 34)"
            ]
          },
          "metadata": {
            "tags": []
          },
          "execution_count": 267
        }
      ]
    },
    {
      "cell_type": "code",
      "metadata": {
        "id": "boZCE2dUHZAY"
      },
      "source": [
        "#abc = cancer_data['binnedInc']"
      ],
      "execution_count": 268,
      "outputs": []
    },
    {
      "cell_type": "code",
      "metadata": {
        "id": "SzyiuBhyLKoo"
      },
      "source": [
        "#for i in abc.index:\r\n",
        "#    print(abc[i].split(',')[0].head()"
      ],
      "execution_count": 269,
      "outputs": []
    },
    {
      "cell_type": "markdown",
      "metadata": {
        "id": "CJdDqUVreoO8"
      },
      "source": [
        "Removing the object items"
      ]
    },
    {
      "cell_type": "code",
      "metadata": {
        "id": "bEeYcGTFCbMv",
        "colab": {
          "base_uri": "https://localhost:8080/"
        },
        "outputId": "99f2e53b-3c40-4fa1-8e8c-82ae120490dd"
      },
      "source": [
        "del input['binnedInc']\r\n",
        "del input['Geography']\r\n",
        "\r\n",
        "input.shape"
      ],
      "execution_count": 270,
      "outputs": [
        {
          "output_type": "execute_result",
          "data": {
            "text/plain": [
              "(3051, 32)"
            ]
          },
          "metadata": {
            "tags": []
          },
          "execution_count": 270
        }
      ]
    },
    {
      "cell_type": "code",
      "metadata": {
        "colab": {
          "base_uri": "https://localhost:8080/"
        },
        "id": "MOsBoMpWb82i",
        "outputId": "db85e6dd-185b-444f-a015-c87ece344465"
      },
      "source": [
        "del cancer_test['binnedInc']\r\n",
        "del cancer_test['Geography']\r\n",
        "\r\n",
        "cancer_test.shape"
      ],
      "execution_count": 271,
      "outputs": [
        {
          "output_type": "execute_result",
          "data": {
            "text/plain": [
              "(762, 31)"
            ]
          },
          "metadata": {
            "tags": []
          },
          "execution_count": 271
        }
      ]
    },
    {
      "cell_type": "code",
      "metadata": {
        "colab": {
          "base_uri": "https://localhost:8080/"
        },
        "id": "QwHZokgVCDEq",
        "outputId": "6260cc0b-5ba8-4318-f1fc-17a6ddd6af93"
      },
      "source": [
        "input.dtypes"
      ],
      "execution_count": 272,
      "outputs": [
        {
          "output_type": "execute_result",
          "data": {
            "text/plain": [
              "avgAnnCount                float64\n",
              "avgDeathsPerYear             int64\n",
              "incidenceRate              float64\n",
              "medIncome                    int64\n",
              "popEst2015                   int64\n",
              "povertyPercent             float64\n",
              "studyPerCap                float64\n",
              "MedianAge                  float64\n",
              "MedianAgeMale              float64\n",
              "MedianAgeFemale            float64\n",
              "AvgHouseholdSize           float64\n",
              "PercentMarried             float64\n",
              "PctNoHS18_24               float64\n",
              "PctHS18_24                 float64\n",
              "PctSomeCol18_24             object\n",
              "PctBachDeg18_24            float64\n",
              "PctHS25_Over               float64\n",
              "PctBachDeg25_Over          float64\n",
              "PctEmployed16_Over          object\n",
              "PctUnemployed16_Over       float64\n",
              "PctPrivateCoverage         float64\n",
              "PctPrivateCoverageAlone     object\n",
              "PctEmpPrivCoverage         float64\n",
              "PctPublicCoverage          float64\n",
              "PctPublicCoverageAlone     float64\n",
              "PctWhite                   float64\n",
              "PctBlack                   float64\n",
              "PctAsian                   float64\n",
              "PctOtherRace               float64\n",
              "PctMarriedHouseholds       float64\n",
              "BirthRate                  float64\n",
              "TARGET_deathRate           float64\n",
              "dtype: object"
            ]
          },
          "metadata": {
            "tags": []
          },
          "execution_count": 272
        }
      ]
    },
    {
      "cell_type": "code",
      "metadata": {
        "id": "zfPivEh4gEO4"
      },
      "source": [
        "input = input.select_dtypes(include=[np.number]).fillna(0)\r\n",
        "cancer_test = cancer_test.select_dtypes(include=[np.number]).fillna(0)"
      ],
      "execution_count": 273,
      "outputs": []
    },
    {
      "cell_type": "code",
      "metadata": {
        "colab": {
          "base_uri": "https://localhost:8080/"
        },
        "id": "M9laxKf8g7Mq",
        "outputId": "96e0f182-929d-4e83-cb68-3c5639f7a197"
      },
      "source": [
        "input.dtypes"
      ],
      "execution_count": 274,
      "outputs": [
        {
          "output_type": "execute_result",
          "data": {
            "text/plain": [
              "avgAnnCount               float64\n",
              "avgDeathsPerYear            int64\n",
              "incidenceRate             float64\n",
              "medIncome                   int64\n",
              "popEst2015                  int64\n",
              "povertyPercent            float64\n",
              "studyPerCap               float64\n",
              "MedianAge                 float64\n",
              "MedianAgeMale             float64\n",
              "MedianAgeFemale           float64\n",
              "AvgHouseholdSize          float64\n",
              "PercentMarried            float64\n",
              "PctNoHS18_24              float64\n",
              "PctHS18_24                float64\n",
              "PctBachDeg18_24           float64\n",
              "PctHS25_Over              float64\n",
              "PctBachDeg25_Over         float64\n",
              "PctUnemployed16_Over      float64\n",
              "PctPrivateCoverage        float64\n",
              "PctEmpPrivCoverage        float64\n",
              "PctPublicCoverage         float64\n",
              "PctPublicCoverageAlone    float64\n",
              "PctWhite                  float64\n",
              "PctBlack                  float64\n",
              "PctAsian                  float64\n",
              "PctOtherRace              float64\n",
              "PctMarriedHouseholds      float64\n",
              "BirthRate                 float64\n",
              "TARGET_deathRate          float64\n",
              "dtype: object"
            ]
          },
          "metadata": {
            "tags": []
          },
          "execution_count": 274
        }
      ]
    },
    {
      "cell_type": "code",
      "metadata": {
        "colab": {
          "base_uri": "https://localhost:8080/",
          "height": 215
        },
        "id": "99MlfMpQDBOk",
        "outputId": "9cc26644-8d90-43d4-af5e-e52a67cbea94"
      },
      "source": [
        "input.head()"
      ],
      "execution_count": 275,
      "outputs": [
        {
          "output_type": "execute_result",
          "data": {
            "text/html": [
              "<div>\n",
              "<style scoped>\n",
              "    .dataframe tbody tr th:only-of-type {\n",
              "        vertical-align: middle;\n",
              "    }\n",
              "\n",
              "    .dataframe tbody tr th {\n",
              "        vertical-align: top;\n",
              "    }\n",
              "\n",
              "    .dataframe thead th {\n",
              "        text-align: right;\n",
              "    }\n",
              "</style>\n",
              "<table border=\"1\" class=\"dataframe\">\n",
              "  <thead>\n",
              "    <tr style=\"text-align: right;\">\n",
              "      <th></th>\n",
              "      <th>avgAnnCount</th>\n",
              "      <th>avgDeathsPerYear</th>\n",
              "      <th>incidenceRate</th>\n",
              "      <th>medIncome</th>\n",
              "      <th>popEst2015</th>\n",
              "      <th>povertyPercent</th>\n",
              "      <th>studyPerCap</th>\n",
              "      <th>MedianAge</th>\n",
              "      <th>MedianAgeMale</th>\n",
              "      <th>MedianAgeFemale</th>\n",
              "      <th>AvgHouseholdSize</th>\n",
              "      <th>PercentMarried</th>\n",
              "      <th>PctNoHS18_24</th>\n",
              "      <th>PctHS18_24</th>\n",
              "      <th>PctBachDeg18_24</th>\n",
              "      <th>PctHS25_Over</th>\n",
              "      <th>PctBachDeg25_Over</th>\n",
              "      <th>PctUnemployed16_Over</th>\n",
              "      <th>PctPrivateCoverage</th>\n",
              "      <th>PctEmpPrivCoverage</th>\n",
              "      <th>PctPublicCoverage</th>\n",
              "      <th>PctPublicCoverageAlone</th>\n",
              "      <th>PctWhite</th>\n",
              "      <th>PctBlack</th>\n",
              "      <th>PctAsian</th>\n",
              "      <th>PctOtherRace</th>\n",
              "      <th>PctMarriedHouseholds</th>\n",
              "      <th>BirthRate</th>\n",
              "      <th>TARGET_deathRate</th>\n",
              "    </tr>\n",
              "  </thead>\n",
              "  <tbody>\n",
              "    <tr>\n",
              "      <th>0</th>\n",
              "      <td>19.0</td>\n",
              "      <td>8</td>\n",
              "      <td>481.5</td>\n",
              "      <td>50038</td>\n",
              "      <td>2704</td>\n",
              "      <td>11.1</td>\n",
              "      <td>0.0</td>\n",
              "      <td>48.4</td>\n",
              "      <td>49.6</td>\n",
              "      <td>46.4</td>\n",
              "      <td>2.25</td>\n",
              "      <td>65.9</td>\n",
              "      <td>10.8</td>\n",
              "      <td>25.0</td>\n",
              "      <td>6.8</td>\n",
              "      <td>37.1</td>\n",
              "      <td>12.2</td>\n",
              "      <td>1.1</td>\n",
              "      <td>81.2</td>\n",
              "      <td>35.7</td>\n",
              "      <td>34.7</td>\n",
              "      <td>9.9</td>\n",
              "      <td>96.032049</td>\n",
              "      <td>0.724914</td>\n",
              "      <td>0.000000</td>\n",
              "      <td>0.000000</td>\n",
              "      <td>62.511457</td>\n",
              "      <td>15.157116</td>\n",
              "      <td>160.3</td>\n",
              "    </tr>\n",
              "    <tr>\n",
              "      <th>1</th>\n",
              "      <td>88.0</td>\n",
              "      <td>34</td>\n",
              "      <td>486.0</td>\n",
              "      <td>59399</td>\n",
              "      <td>14844</td>\n",
              "      <td>9.7</td>\n",
              "      <td>0.0</td>\n",
              "      <td>41.9</td>\n",
              "      <td>41.3</td>\n",
              "      <td>43.2</td>\n",
              "      <td>2.63</td>\n",
              "      <td>58.6</td>\n",
              "      <td>22.3</td>\n",
              "      <td>29.1</td>\n",
              "      <td>1.1</td>\n",
              "      <td>35.9</td>\n",
              "      <td>16.0</td>\n",
              "      <td>3.8</td>\n",
              "      <td>76.7</td>\n",
              "      <td>50.8</td>\n",
              "      <td>32.1</td>\n",
              "      <td>12.8</td>\n",
              "      <td>97.537344</td>\n",
              "      <td>0.719957</td>\n",
              "      <td>0.080743</td>\n",
              "      <td>0.040371</td>\n",
              "      <td>61.641045</td>\n",
              "      <td>3.293510</td>\n",
              "      <td>194.9</td>\n",
              "    </tr>\n",
              "    <tr>\n",
              "      <th>2</th>\n",
              "      <td>195.0</td>\n",
              "      <td>83</td>\n",
              "      <td>475.7</td>\n",
              "      <td>39721</td>\n",
              "      <td>25164</td>\n",
              "      <td>18.5</td>\n",
              "      <td>0.0</td>\n",
              "      <td>48.9</td>\n",
              "      <td>47.9</td>\n",
              "      <td>49.9</td>\n",
              "      <td>2.30</td>\n",
              "      <td>57.2</td>\n",
              "      <td>24.9</td>\n",
              "      <td>36.2</td>\n",
              "      <td>3.5</td>\n",
              "      <td>40.2</td>\n",
              "      <td>7.6</td>\n",
              "      <td>11.0</td>\n",
              "      <td>61.6</td>\n",
              "      <td>32.1</td>\n",
              "      <td>49.8</td>\n",
              "      <td>21.6</td>\n",
              "      <td>97.576566</td>\n",
              "      <td>0.360770</td>\n",
              "      <td>0.411749</td>\n",
              "      <td>0.082350</td>\n",
              "      <td>53.978102</td>\n",
              "      <td>6.390328</td>\n",
              "      <td>196.5</td>\n",
              "    </tr>\n",
              "    <tr>\n",
              "      <th>3</th>\n",
              "      <td>116.0</td>\n",
              "      <td>55</td>\n",
              "      <td>496.6</td>\n",
              "      <td>30299</td>\n",
              "      <td>17917</td>\n",
              "      <td>28.1</td>\n",
              "      <td>0.0</td>\n",
              "      <td>44.2</td>\n",
              "      <td>42.7</td>\n",
              "      <td>45.2</td>\n",
              "      <td>2.43</td>\n",
              "      <td>53.0</td>\n",
              "      <td>10.9</td>\n",
              "      <td>51.8</td>\n",
              "      <td>5.3</td>\n",
              "      <td>44.2</td>\n",
              "      <td>7.0</td>\n",
              "      <td>10.4</td>\n",
              "      <td>45.2</td>\n",
              "      <td>24.2</td>\n",
              "      <td>53.2</td>\n",
              "      <td>33.0</td>\n",
              "      <td>97.908650</td>\n",
              "      <td>0.161731</td>\n",
              "      <td>0.306731</td>\n",
              "      <td>0.340193</td>\n",
              "      <td>51.013143</td>\n",
              "      <td>5.124836</td>\n",
              "      <td>230.9</td>\n",
              "    </tr>\n",
              "    <tr>\n",
              "      <th>4</th>\n",
              "      <td>80.0</td>\n",
              "      <td>35</td>\n",
              "      <td>372.0</td>\n",
              "      <td>39625</td>\n",
              "      <td>14058</td>\n",
              "      <td>17.4</td>\n",
              "      <td>0.0</td>\n",
              "      <td>45.0</td>\n",
              "      <td>42.2</td>\n",
              "      <td>48.0</td>\n",
              "      <td>2.36</td>\n",
              "      <td>52.2</td>\n",
              "      <td>12.6</td>\n",
              "      <td>31.2</td>\n",
              "      <td>0.2</td>\n",
              "      <td>28.3</td>\n",
              "      <td>10.5</td>\n",
              "      <td>9.2</td>\n",
              "      <td>56.6</td>\n",
              "      <td>33.4</td>\n",
              "      <td>43.0</td>\n",
              "      <td>24.7</td>\n",
              "      <td>82.672551</td>\n",
              "      <td>1.834103</td>\n",
              "      <td>0.682617</td>\n",
              "      <td>8.253465</td>\n",
              "      <td>50.566426</td>\n",
              "      <td>3.897033</td>\n",
              "      <td>162.2</td>\n",
              "    </tr>\n",
              "  </tbody>\n",
              "</table>\n",
              "</div>"
            ],
            "text/plain": [
              "   avgAnnCount  avgDeathsPerYear  ...  BirthRate  TARGET_deathRate\n",
              "0         19.0                 8  ...  15.157116             160.3\n",
              "1         88.0                34  ...   3.293510             194.9\n",
              "2        195.0                83  ...   6.390328             196.5\n",
              "3        116.0                55  ...   5.124836             230.9\n",
              "4         80.0                35  ...   3.897033             162.2\n",
              "\n",
              "[5 rows x 29 columns]"
            ]
          },
          "metadata": {
            "tags": []
          },
          "execution_count": 275
        }
      ]
    },
    {
      "cell_type": "code",
      "metadata": {
        "colab": {
          "base_uri": "https://localhost:8080/",
          "height": 690
        },
        "id": "wXwCNB9qcT-e",
        "outputId": "de3cd43d-6d45-49ae-9278-aa20b91df360"
      },
      "source": [
        "test_data.dtypes\r\n",
        "test_data.head(5)"
      ],
      "execution_count": 276,
      "outputs": [
        {
          "output_type": "execute_result",
          "data": {
            "text/plain": [
              "avgAnnCount               float64\n",
              "avgDeathsPerYear            int64\n",
              "incidenceRate             float64\n",
              "medIncome                   int64\n",
              "popEst2015                  int64\n",
              "povertyPercent            float64\n",
              "studyPerCap               float64\n",
              "MedianAgeFemale           float64\n",
              "AvgHouseholdSize          float64\n",
              "PercentMarried            float64\n",
              "PctNoHS18_24              float64\n",
              "PctHS18_24                float64\n",
              "PctBachDeg18_24           float64\n",
              "PctHS25_Over              float64\n",
              "PctBachDeg25_Over         float64\n",
              "PctUnemployed16_Over      float64\n",
              "PctPrivateCoverage        float64\n",
              "PctEmpPrivCoverage        float64\n",
              "PctPublicCoverage         float64\n",
              "PctPublicCoverageAlone    float64\n",
              "PctWhite                  float64\n",
              "PctBlack                  float64\n",
              "PctAsian                  float64\n",
              "PctOtherRace              float64\n",
              "PctMarriedHouseholds      float64\n",
              "BirthRate                 float64\n",
              "dtype: object"
            ]
          },
          "metadata": {
            "tags": []
          },
          "execution_count": 276
        },
        {
          "output_type": "execute_result",
          "data": {
            "text/html": [
              "<div>\n",
              "<style scoped>\n",
              "    .dataframe tbody tr th:only-of-type {\n",
              "        vertical-align: middle;\n",
              "    }\n",
              "\n",
              "    .dataframe tbody tr th {\n",
              "        vertical-align: top;\n",
              "    }\n",
              "\n",
              "    .dataframe thead th {\n",
              "        text-align: right;\n",
              "    }\n",
              "</style>\n",
              "<table border=\"1\" class=\"dataframe\">\n",
              "  <thead>\n",
              "    <tr style=\"text-align: right;\">\n",
              "      <th></th>\n",
              "      <th>avgAnnCount</th>\n",
              "      <th>avgDeathsPerYear</th>\n",
              "      <th>incidenceRate</th>\n",
              "      <th>medIncome</th>\n",
              "      <th>popEst2015</th>\n",
              "      <th>povertyPercent</th>\n",
              "      <th>studyPerCap</th>\n",
              "      <th>MedianAgeFemale</th>\n",
              "      <th>AvgHouseholdSize</th>\n",
              "      <th>PercentMarried</th>\n",
              "      <th>PctNoHS18_24</th>\n",
              "      <th>PctHS18_24</th>\n",
              "      <th>PctBachDeg18_24</th>\n",
              "      <th>PctHS25_Over</th>\n",
              "      <th>PctBachDeg25_Over</th>\n",
              "      <th>PctUnemployed16_Over</th>\n",
              "      <th>PctPrivateCoverage</th>\n",
              "      <th>PctEmpPrivCoverage</th>\n",
              "      <th>PctPublicCoverage</th>\n",
              "      <th>PctPublicCoverageAlone</th>\n",
              "      <th>PctWhite</th>\n",
              "      <th>PctBlack</th>\n",
              "      <th>PctAsian</th>\n",
              "      <th>PctOtherRace</th>\n",
              "      <th>PctMarriedHouseholds</th>\n",
              "      <th>BirthRate</th>\n",
              "    </tr>\n",
              "  </thead>\n",
              "  <tbody>\n",
              "    <tr>\n",
              "      <th>0</th>\n",
              "      <td>2092.000000</td>\n",
              "      <td>763</td>\n",
              "      <td>341.000000</td>\n",
              "      <td>34368</td>\n",
              "      <td>842304</td>\n",
              "      <td>33.5</td>\n",
              "      <td>42.739913</td>\n",
              "      <td>30.1</td>\n",
              "      <td>3.62</td>\n",
              "      <td>51.0</td>\n",
              "      <td>22.3</td>\n",
              "      <td>29.0</td>\n",
              "      <td>5.1</td>\n",
              "      <td>23.2</td>\n",
              "      <td>11.9</td>\n",
              "      <td>9.9</td>\n",
              "      <td>32.6</td>\n",
              "      <td>22.9</td>\n",
              "      <td>37.3</td>\n",
              "      <td>28.2</td>\n",
              "      <td>91.409724</td>\n",
              "      <td>0.620104</td>\n",
              "      <td>1.041848</td>\n",
              "      <td>5.804689</td>\n",
              "      <td>56.335344</td>\n",
              "      <td>6.825886</td>\n",
              "    </tr>\n",
              "    <tr>\n",
              "      <th>1</th>\n",
              "      <td>94.000000</td>\n",
              "      <td>41</td>\n",
              "      <td>445.200000</td>\n",
              "      <td>35615</td>\n",
              "      <td>16704</td>\n",
              "      <td>21.5</td>\n",
              "      <td>0.000000</td>\n",
              "      <td>42.1</td>\n",
              "      <td>2.68</td>\n",
              "      <td>52.0</td>\n",
              "      <td>9.8</td>\n",
              "      <td>36.1</td>\n",
              "      <td>8.3</td>\n",
              "      <td>47.1</td>\n",
              "      <td>7.9</td>\n",
              "      <td>9.0</td>\n",
              "      <td>55.6</td>\n",
              "      <td>36.5</td>\n",
              "      <td>44.8</td>\n",
              "      <td>26.4</td>\n",
              "      <td>96.844181</td>\n",
              "      <td>0.836770</td>\n",
              "      <td>0.376547</td>\n",
              "      <td>0.029885</td>\n",
              "      <td>55.288859</td>\n",
              "      <td>2.292861</td>\n",
              "    </tr>\n",
              "    <tr>\n",
              "      <th>2</th>\n",
              "      <td>126.000000</td>\n",
              "      <td>43</td>\n",
              "      <td>425.700000</td>\n",
              "      <td>76672</td>\n",
              "      <td>32154</td>\n",
              "      <td>7.6</td>\n",
              "      <td>31.100330</td>\n",
              "      <td>36.0</td>\n",
              "      <td>2.44</td>\n",
              "      <td>55.8</td>\n",
              "      <td>13.0</td>\n",
              "      <td>26.8</td>\n",
              "      <td>10.0</td>\n",
              "      <td>30.5</td>\n",
              "      <td>17.5</td>\n",
              "      <td>2.8</td>\n",
              "      <td>83.3</td>\n",
              "      <td>55.9</td>\n",
              "      <td>19.6</td>\n",
              "      <td>5.9</td>\n",
              "      <td>92.626100</td>\n",
              "      <td>1.114294</td>\n",
              "      <td>1.257510</td>\n",
              "      <td>1.844348</td>\n",
              "      <td>52.614465</td>\n",
              "      <td>10.502567</td>\n",
              "    </tr>\n",
              "    <tr>\n",
              "      <th>3</th>\n",
              "      <td>1962.667684</td>\n",
              "      <td>16</td>\n",
              "      <td>453.549422</td>\n",
              "      <td>45856</td>\n",
              "      <td>5428</td>\n",
              "      <td>11.4</td>\n",
              "      <td>0.000000</td>\n",
              "      <td>45.5</td>\n",
              "      <td>2.29</td>\n",
              "      <td>60.5</td>\n",
              "      <td>33.2</td>\n",
              "      <td>13.9</td>\n",
              "      <td>7.6</td>\n",
              "      <td>35.3</td>\n",
              "      <td>15.5</td>\n",
              "      <td>4.3</td>\n",
              "      <td>75.8</td>\n",
              "      <td>44.5</td>\n",
              "      <td>33.4</td>\n",
              "      <td>15.5</td>\n",
              "      <td>96.855117</td>\n",
              "      <td>0.381749</td>\n",
              "      <td>0.181785</td>\n",
              "      <td>0.163607</td>\n",
              "      <td>55.044700</td>\n",
              "      <td>9.342231</td>\n",
              "    </tr>\n",
              "    <tr>\n",
              "      <th>4</th>\n",
              "      <td>1962.667684</td>\n",
              "      <td>4</td>\n",
              "      <td>453.549422</td>\n",
              "      <td>53739</td>\n",
              "      <td>1670</td>\n",
              "      <td>10.9</td>\n",
              "      <td>0.000000</td>\n",
              "      <td>44.4</td>\n",
              "      <td>2.07</td>\n",
              "      <td>55.9</td>\n",
              "      <td>25.2</td>\n",
              "      <td>31.1</td>\n",
              "      <td>3.0</td>\n",
              "      <td>29.7</td>\n",
              "      <td>15.5</td>\n",
              "      <td>2.4</td>\n",
              "      <td>78.2</td>\n",
              "      <td>48.6</td>\n",
              "      <td>29.2</td>\n",
              "      <td>11.2</td>\n",
              "      <td>98.327360</td>\n",
              "      <td>0.358423</td>\n",
              "      <td>0.000000</td>\n",
              "      <td>0.000000</td>\n",
              "      <td>47.826087</td>\n",
              "      <td>10.029499</td>\n",
              "    </tr>\n",
              "  </tbody>\n",
              "</table>\n",
              "</div>"
            ],
            "text/plain": [
              "   avgAnnCount  avgDeathsPerYear  ...  PctMarriedHouseholds  BirthRate\n",
              "0  2092.000000               763  ...             56.335344   6.825886\n",
              "1    94.000000                41  ...             55.288859   2.292861\n",
              "2   126.000000                43  ...             52.614465  10.502567\n",
              "3  1962.667684                16  ...             55.044700   9.342231\n",
              "4  1962.667684                 4  ...             47.826087  10.029499\n",
              "\n",
              "[5 rows x 26 columns]"
            ]
          },
          "metadata": {
            "tags": []
          },
          "execution_count": 276
        }
      ]
    },
    {
      "cell_type": "markdown",
      "metadata": {
        "id": "P-Eh-1rcoLnV"
      },
      "source": [
        "### Feature Selection"
      ]
    },
    {
      "cell_type": "code",
      "metadata": {
        "colab": {
          "base_uri": "https://localhost:8080/",
          "height": 389
        },
        "id": "Tfo99o8koQW1",
        "outputId": "57dce2d7-5d92-4259-fc86-3567a1705002"
      },
      "source": [
        "import seaborn as sns\r\n",
        "\r\n",
        "input_corr_matrix = input.corr()\r\n",
        "sns.heatmap(data=input_corr_matrix, annot=False)"
      ],
      "execution_count": 277,
      "outputs": [
        {
          "output_type": "execute_result",
          "data": {
            "text/plain": [
              "<matplotlib.axes._subplots.AxesSubplot at 0x7fcc9e846c50>"
            ]
          },
          "metadata": {
            "tags": []
          },
          "execution_count": 277
        },
        {
          "output_type": "display_data",
          "data": {
            "image/png": "[encoded data removed]",
            "text/plain": [
              "<Figure size 432x288 with 2 Axes>"
            ]
          },
          "metadata": {
            "tags": [],
            "needs_background": "light"
          }
        }
      ]
    },
    {
      "cell_type": "code",
      "metadata": {
        "colab": {
          "base_uri": "https://localhost:8080/"
        },
        "id": "tJsI1pv_o1iZ",
        "outputId": "0dcc47c7-28bf-4982-b022-168294f42172"
      },
      "source": [
        "#printing all the correlations in descending order\r\n",
        "input_corr_matrix['TARGET_deathRate'].sort_values(ascending=False)"
      ],
      "execution_count": 278,
      "outputs": [
        {
          "output_type": "execute_result",
          "data": {
            "text/plain": [
              "TARGET_deathRate          1.000000\n",
              "incidenceRate             0.467683\n",
              "PctPublicCoverageAlone    0.456804\n",
              "povertyPercent            0.427118\n",
              "PctPublicCoverage         0.422291\n",
              "PctHS25_Over              0.403449\n",
              "PctUnemployed16_Over      0.379085\n",
              "PctHS18_24                0.284328\n",
              "PctBlack                  0.250954\n",
              "PctNoHS18_24              0.075815\n",
              "MedianAgeFemale           0.034693\n",
              "MedianAge                 0.002772\n",
              "MedianAgeMale            -0.002006\n",
              "studyPerCap              -0.023890\n",
              "AvgHouseholdSize         -0.030288\n",
              "avgDeathsPerYear         -0.074008\n",
              "BirthRate                -0.088322\n",
              "popEst2015               -0.111470\n",
              "avgAnnCount              -0.130745\n",
              "PctWhite                 -0.173265\n",
              "PctOtherRace             -0.189210\n",
              "PctAsian                 -0.202352\n",
              "PctEmpPrivCoverage       -0.257117\n",
              "PercentMarried           -0.262946\n",
              "PctBachDeg18_24          -0.292220\n",
              "PctMarriedHouseholds     -0.298414\n",
              "PctPrivateCoverage       -0.382859\n",
              "medIncome                -0.433311\n",
              "PctBachDeg25_Over        -0.480939\n",
              "Name: TARGET_deathRate, dtype: float64"
            ]
          },
          "metadata": {
            "tags": []
          },
          "execution_count": 278
        }
      ]
    },
    {
      "cell_type": "markdown",
      "metadata": {
        "id": "pMJPwWMbIOu4"
      },
      "source": [
        "Below I am trying my code to break the objects, I have some idea but not fully functional now."
      ]
    },
    {
      "cell_type": "code",
      "metadata": {
        "id": "7n0d2q9mBSPm"
      },
      "source": [
        "#from sklearn.feature_selection import VarianceThreshold\r\n",
        "\r\n",
        "#var = VarianceThreshold()\r\n",
        "\r\n",
        "# Perform variance thresholding\r\n",
        "#var.fit_transform(input)\r\n",
        "\r\n",
        "# Print the name and variance of each feature\r\n",
        "#for feature in zip(input.columns, var.variances_):\r\n",
        "#    print(feature)"
      ],
      "execution_count": 279,
      "outputs": []
    },
    {
      "cell_type": "markdown",
      "metadata": {
        "id": "PiahXfMQIXCV"
      },
      "source": [
        "I am creating a copy of the input data so that I can do different feature selections"
      ]
    },
    {
      "cell_type": "code",
      "metadata": {
        "colab": {
          "base_uri": "https://localhost:8080/"
        },
        "id": "JJtdEax6TiGh",
        "outputId": "8d9c3f39-0426-4e14-b5d6-51fe46c01e9b"
      },
      "source": [
        "inputCopy1 = input.copy()\r\n",
        "inputCopy1.shape"
      ],
      "execution_count": 280,
      "outputs": [
        {
          "output_type": "execute_result",
          "data": {
            "text/plain": [
              "(3051, 29)"
            ]
          },
          "metadata": {
            "tags": []
          },
          "execution_count": 280
        }
      ]
    },
    {
      "cell_type": "code",
      "metadata": {
        "id": "3O6YlGhpMqki"
      },
      "source": [
        "# This is least contributing due to mimimum variance so dropping AvgHouseholdSize\r\n",
        "\r\n",
        "del input['MedianAge']"
      ],
      "execution_count": 281,
      "outputs": []
    },
    {
      "cell_type": "code",
      "metadata": {
        "id": "nZOa1OmHO0IJ"
      },
      "source": [
        "del input['MedianAgeMale']"
      ],
      "execution_count": 282,
      "outputs": []
    },
    {
      "cell_type": "code",
      "metadata": {
        "id": "0BofmjpQcjXc"
      },
      "source": [
        "\r\n",
        "del cancer_test['MedianAge']\r\n",
        "del cancer_test['MedianAgeMale']"
      ],
      "execution_count": 283,
      "outputs": []
    },
    {
      "cell_type": "code",
      "metadata": {
        "colab": {
          "base_uri": "https://localhost:8080/"
        },
        "id": "av59izdDM3iP",
        "outputId": "5fc6b512-7db3-44d9-c76c-e045a45b47f1"
      },
      "source": [
        "from sklearn import model_selection\r\n",
        "\r\n",
        "#create train and test split\r\n",
        "input_train, input_test = model_selection.train_test_split(input,test_size=0.2,random_state=1)\r\n",
        "print(\"Shape of the original input data: \", input.shape)\r\n",
        "print(\"Shape of the input train data = \", input_train.shape)\r\n",
        "print(\"Shape of the input test data = \", input_test.shape)\r\n",
        "\r\n",
        "#Resetting index for prediction time\r\n",
        "input_train = input_train.reset_index(drop=True)\r\n",
        "input_test = input_test.reset_index(drop=True)"
      ],
      "execution_count": 284,
      "outputs": [
        {
          "output_type": "stream",
          "text": [
            "Shape of the original input data:  (3051, 27)\n",
            "Shape of the input train data =  (2440, 27)\n",
            "Shape of the input test data =  (611, 27)\n"
          ],
          "name": "stdout"
        }
      ]
    },
    {
      "cell_type": "markdown",
      "metadata": {
        "id": "iPQk8gqIIeOp"
      },
      "source": [
        "Now I will do feature selection for anothe copy, here I will just take top contributing ones ie more than 0.4 contribution/impact\r\n"
      ]
    },
    {
      "cell_type": "code",
      "metadata": {
        "colab": {
          "base_uri": "https://localhost:8080/"
        },
        "id": "djaKBS47I-fW",
        "outputId": "c198b1ec-6161-4db8-d045-ea8228c1117a"
      },
      "source": [
        "inputCopy1.shape\r\n",
        "\r\n",
        "del inputCopy1['PctUnemployed16_Over']\r\n",
        "del inputCopy1['PctHS18_24']\r\n",
        "del inputCopy1['PctBlack']\r\n",
        "del inputCopy1['PctNoHS18_24']\r\n",
        "del inputCopy1['MedianAgeFemale']\r\n",
        "del inputCopy1['MedianAgeMale']\r\n",
        "del inputCopy1['studyPerCap']\r\n",
        "del inputCopy1['AvgHouseholdSize']\r\n",
        "del inputCopy1['avgDeathsPerYear']\r\n",
        "del inputCopy1['BirthRate']\r\n",
        "del inputCopy1['popEst2015']\r\n",
        "del inputCopy1['avgAnnCount']\r\n",
        "del inputCopy1['PctWhite']\r\n",
        "del inputCopy1['PctOtherRace']\r\n",
        "del inputCopy1['PctAsian']\r\n",
        "del inputCopy1['PctEmpPrivCoverage']\r\n",
        "del inputCopy1['PercentMarried']\r\n",
        "del inputCopy1['PctBachDeg18_24']\r\n",
        "del inputCopy1['PctMarriedHouseholds']\r\n",
        "del inputCopy1['PctPrivateCoverage']\r\n",
        "del inputCopy1['MedianAge']\r\n",
        "\r\n",
        "inputCopy1.shape"
      ],
      "execution_count": 285,
      "outputs": [
        {
          "output_type": "execute_result",
          "data": {
            "text/plain": [
              "(3051, 29)"
            ]
          },
          "metadata": {
            "tags": []
          },
          "execution_count": 285
        },
        {
          "output_type": "execute_result",
          "data": {
            "text/plain": [
              "(3051, 8)"
            ]
          },
          "metadata": {
            "tags": []
          },
          "execution_count": 285
        }
      ]
    },
    {
      "cell_type": "code",
      "metadata": {
        "colab": {
          "base_uri": "https://localhost:8080/",
          "height": 195
        },
        "id": "-h6F923BK3BX",
        "outputId": "826df3b1-762d-4381-8d44-3dcc06dc1766"
      },
      "source": [
        "inputCopy1.head()"
      ],
      "execution_count": 286,
      "outputs": [
        {
          "output_type": "execute_result",
          "data": {
            "text/html": [
              "<div>\n",
              "<style scoped>\n",
              "    .dataframe tbody tr th:only-of-type {\n",
              "        vertical-align: middle;\n",
              "    }\n",
              "\n",
              "    .dataframe tbody tr th {\n",
              "        vertical-align: top;\n",
              "    }\n",
              "\n",
              "    .dataframe thead th {\n",
              "        text-align: right;\n",
              "    }\n",
              "</style>\n",
              "<table border=\"1\" class=\"dataframe\">\n",
              "  <thead>\n",
              "    <tr style=\"text-align: right;\">\n",
              "      <th></th>\n",
              "      <th>incidenceRate</th>\n",
              "      <th>medIncome</th>\n",
              "      <th>povertyPercent</th>\n",
              "      <th>PctHS25_Over</th>\n",
              "      <th>PctBachDeg25_Over</th>\n",
              "      <th>PctPublicCoverage</th>\n",
              "      <th>PctPublicCoverageAlone</th>\n",
              "      <th>TARGET_deathRate</th>\n",
              "    </tr>\n",
              "  </thead>\n",
              "  <tbody>\n",
              "    <tr>\n",
              "      <th>0</th>\n",
              "      <td>481.5</td>\n",
              "      <td>50038</td>\n",
              "      <td>11.1</td>\n",
              "      <td>37.1</td>\n",
              "      <td>12.2</td>\n",
              "      <td>34.7</td>\n",
              "      <td>9.9</td>\n",
              "      <td>160.3</td>\n",
              "    </tr>\n",
              "    <tr>\n",
              "      <th>1</th>\n",
              "      <td>486.0</td>\n",
              "      <td>59399</td>\n",
              "      <td>9.7</td>\n",
              "      <td>35.9</td>\n",
              "      <td>16.0</td>\n",
              "      <td>32.1</td>\n",
              "      <td>12.8</td>\n",
              "      <td>194.9</td>\n",
              "    </tr>\n",
              "    <tr>\n",
              "      <th>2</th>\n",
              "      <td>475.7</td>\n",
              "      <td>39721</td>\n",
              "      <td>18.5</td>\n",
              "      <td>40.2</td>\n",
              "      <td>7.6</td>\n",
              "      <td>49.8</td>\n",
              "      <td>21.6</td>\n",
              "      <td>196.5</td>\n",
              "    </tr>\n",
              "    <tr>\n",
              "      <th>3</th>\n",
              "      <td>496.6</td>\n",
              "      <td>30299</td>\n",
              "      <td>28.1</td>\n",
              "      <td>44.2</td>\n",
              "      <td>7.0</td>\n",
              "      <td>53.2</td>\n",
              "      <td>33.0</td>\n",
              "      <td>230.9</td>\n",
              "    </tr>\n",
              "    <tr>\n",
              "      <th>4</th>\n",
              "      <td>372.0</td>\n",
              "      <td>39625</td>\n",
              "      <td>17.4</td>\n",
              "      <td>28.3</td>\n",
              "      <td>10.5</td>\n",
              "      <td>43.0</td>\n",
              "      <td>24.7</td>\n",
              "      <td>162.2</td>\n",
              "    </tr>\n",
              "  </tbody>\n",
              "</table>\n",
              "</div>"
            ],
            "text/plain": [
              "   incidenceRate  medIncome  ...  PctPublicCoverageAlone  TARGET_deathRate\n",
              "0          481.5      50038  ...                     9.9             160.3\n",
              "1          486.0      59399  ...                    12.8             194.9\n",
              "2          475.7      39721  ...                    21.6             196.5\n",
              "3          496.6      30299  ...                    33.0             230.9\n",
              "4          372.0      39625  ...                    24.7             162.2\n",
              "\n",
              "[5 rows x 8 columns]"
            ]
          },
          "metadata": {
            "tags": []
          },
          "execution_count": 286
        }
      ]
    },
    {
      "cell_type": "markdown",
      "metadata": {
        "id": "yD3kBerMPBdv"
      },
      "source": [
        "Seperating Labels and attributes"
      ]
    },
    {
      "cell_type": "code",
      "metadata": {
        "colab": {
          "base_uri": "https://localhost:8080/"
        },
        "id": "yVANRiecPD8p",
        "outputId": "f77d4999-8c31-4280-aae2-1817538ab48c"
      },
      "source": [
        "from sklearn import model_selection\r\n",
        "\r\n",
        "#create train and test split\r\n",
        "inputCopy1_train, inputCopy1_test = model_selection.train_test_split(inputCopy1,test_size=0.2,random_state=1)\r\n",
        "print(\"Shape of the original inputCopy1 data: \", inputCopy1.shape)\r\n",
        "print(\"Shape of the inputCopy1 train data = \", inputCopy1_train.shape)\r\n",
        "print(\"Shape of the inputCopy1 test data = \", inputCopy1_test.shape)\r\n",
        "\r\n",
        "#Resetting index for prediction time\r\n",
        "inputCopy1_train = inputCopy1_train.reset_index(drop=True)\r\n",
        "inputCopy1_test = inputCopy1_test.reset_index(drop=True)\r\n"
      ],
      "execution_count": 287,
      "outputs": [
        {
          "output_type": "stream",
          "text": [
            "Shape of the original inputCopy1 data:  (3051, 8)\n",
            "Shape of the inputCopy1 train data =  (2440, 8)\n",
            "Shape of the inputCopy1 test data =  (611, 8)\n"
          ],
          "name": "stdout"
        }
      ]
    },
    {
      "cell_type": "markdown",
      "metadata": {
        "id": "BaLL4_EqMdQJ"
      },
      "source": [
        "## Task 3\r\n",
        "\r\n",
        "### Build any Machine Learning Model of your choice"
      ]
    },
    {
      "cell_type": "markdown",
      "metadata": {
        "id": "eiVeoFi7qmOh"
      },
      "source": [
        "Seperating the features and Label for model building."
      ]
    },
    {
      "cell_type": "code",
      "metadata": {
        "colab": {
          "base_uri": "https://localhost:8080/"
        },
        "id": "4hHgs3b0qkP-",
        "outputId": "9fdc822c-c09d-419a-f397-b184b0f8cac8"
      },
      "source": [
        "input_train_label = input_train['TARGET_deathRate']\r\n",
        "input_train_label.shape\r\n",
        "input_train_label.head(7)"
      ],
      "execution_count": 288,
      "outputs": [
        {
          "output_type": "execute_result",
          "data": {
            "text/plain": [
              "(2440,)"
            ]
          },
          "metadata": {
            "tags": []
          },
          "execution_count": 288
        },
        {
          "output_type": "execute_result",
          "data": {
            "text/plain": [
              "0    156.0\n",
              "1    169.7\n",
              "2    194.4\n",
              "3    161.2\n",
              "4    189.8\n",
              "5    176.3\n",
              "6    200.2\n",
              "Name: TARGET_deathRate, dtype: float64"
            ]
          },
          "metadata": {
            "tags": []
          },
          "execution_count": 288
        }
      ]
    },
    {
      "cell_type": "code",
      "metadata": {
        "colab": {
          "base_uri": "https://localhost:8080/"
        },
        "id": "h-1Jno9XrNIu",
        "outputId": "dfb3b2cd-77b7-4e99-9ca6-213ee6e92b2d"
      },
      "source": [
        "input_train_features = input_train.copy()\r\n",
        "input_train_features.shape\r\n",
        "del input_train_features['TARGET_deathRate']\r\n",
        "input_train_features.shape"
      ],
      "execution_count": 289,
      "outputs": [
        {
          "output_type": "execute_result",
          "data": {
            "text/plain": [
              "(2440, 27)"
            ]
          },
          "metadata": {
            "tags": []
          },
          "execution_count": 289
        },
        {
          "output_type": "execute_result",
          "data": {
            "text/plain": [
              "(2440, 26)"
            ]
          },
          "metadata": {
            "tags": []
          },
          "execution_count": 289
        }
      ]
    },
    {
      "cell_type": "markdown",
      "metadata": {
        "id": "Zh30VT-sOot3"
      },
      "source": [
        "Now doing for the other attribute data selection"
      ]
    },
    {
      "cell_type": "code",
      "metadata": {
        "colab": {
          "base_uri": "https://localhost:8080/"
        },
        "id": "qEbKXnyAOsUC",
        "outputId": "45fb5100-edb8-489e-ba1c-6e8f6e249430"
      },
      "source": [
        "inputCopy1_train_label = inputCopy1_train['TARGET_deathRate']\r\n",
        "inputCopy1_train_features = inputCopy1_train.copy()\r\n",
        "inputCopy1_train_features.shape\r\n",
        "del inputCopy1_train_features['TARGET_deathRate']\r\n",
        "inputCopy1_train_features.shape"
      ],
      "execution_count": 290,
      "outputs": [
        {
          "output_type": "execute_result",
          "data": {
            "text/plain": [
              "(2440, 8)"
            ]
          },
          "metadata": {
            "tags": []
          },
          "execution_count": 290
        },
        {
          "output_type": "execute_result",
          "data": {
            "text/plain": [
              "(2440, 7)"
            ]
          },
          "metadata": {
            "tags": []
          },
          "execution_count": 290
        }
      ]
    },
    {
      "cell_type": "code",
      "metadata": {
        "colab": {
          "base_uri": "https://localhost:8080/"
        },
        "id": "6Y3CEfBEXuSJ",
        "outputId": "7de02063-8c73-46bf-e172-5c6848d0501c"
      },
      "source": [
        "\r\n",
        "inputCopy1_test_label = inputCopy1_test['TARGET_deathRate']\r\n",
        "inputCopy1_test_features = inputCopy1_test.copy()\r\n",
        "inputCopy1_test_features.shape\r\n",
        "del inputCopy1_test_features['TARGET_deathRate']\r\n",
        "inputCopy1_test_features.shape"
      ],
      "execution_count": 291,
      "outputs": [
        {
          "output_type": "execute_result",
          "data": {
            "text/plain": [
              "(611, 8)"
            ]
          },
          "metadata": {
            "tags": []
          },
          "execution_count": 291
        },
        {
          "output_type": "execute_result",
          "data": {
            "text/plain": [
              "(611, 7)"
            ]
          },
          "metadata": {
            "tags": []
          },
          "execution_count": 291
        }
      ]
    },
    {
      "cell_type": "markdown",
      "metadata": {
        "id": "zi73xZSXkx41"
      },
      "source": [
        "### Evaluate your model with various Evaluation Metrics"
      ]
    },
    {
      "cell_type": "code",
      "metadata": {
        "colab": {
          "base_uri": "https://localhost:8080/"
        },
        "id": "VauhL_v3NIqw",
        "outputId": "0b0157b5-7be6-4472-c85e-bbd2204f7b17"
      },
      "source": [
        "\r\n",
        "from sklearn.linear_model import LinearRegression\r\n",
        "\r\n",
        "# create the model object\r\n",
        "lr = LinearRegression()\r\n",
        "\r\n",
        "# fit the model on train data\r\n",
        "lr.fit(input_train_features, input_train_label)"
      ],
      "execution_count": 292,
      "outputs": [
        {
          "output_type": "execute_result",
          "data": {
            "text/plain": [
              "LinearRegression(copy_X=True, fit_intercept=True, n_jobs=None, normalize=False)"
            ]
          },
          "metadata": {
            "tags": []
          },
          "execution_count": 292
        }
      ]
    },
    {
      "cell_type": "code",
      "metadata": {
        "colab": {
          "base_uri": "https://localhost:8080/"
        },
        "id": "DlH8zNDRvqZ_",
        "outputId": "e58304a3-3468-4cd4-fa22-d24ca1b0398b"
      },
      "source": [
        "input_test_label = input_test['TARGET_deathRate']\r\n",
        "input_test_label.shape\r\n",
        "input_test_label.head(7)\r\n",
        "\r\n",
        "\r\n",
        "input_test_features = input_test.copy()\r\n",
        "print('Printing shapes')\r\n",
        "input_test_features.shape\r\n",
        "\r\n",
        "del input_test_features['TARGET_deathRate']\r\n",
        "input_test_features.shape"
      ],
      "execution_count": 293,
      "outputs": [
        {
          "output_type": "execute_result",
          "data": {
            "text/plain": [
              "(611,)"
            ]
          },
          "metadata": {
            "tags": []
          },
          "execution_count": 293
        },
        {
          "output_type": "execute_result",
          "data": {
            "text/plain": [
              "0    148.9\n",
              "1    129.3\n",
              "2    153.6\n",
              "3    235.8\n",
              "4    194.8\n",
              "5    186.8\n",
              "6    176.6\n",
              "Name: TARGET_deathRate, dtype: float64"
            ]
          },
          "metadata": {
            "tags": []
          },
          "execution_count": 293
        },
        {
          "output_type": "stream",
          "text": [
            "Printing shapes\n"
          ],
          "name": "stdout"
        },
        {
          "output_type": "execute_result",
          "data": {
            "text/plain": [
              "(611, 27)"
            ]
          },
          "metadata": {
            "tags": []
          },
          "execution_count": 293
        },
        {
          "output_type": "execute_result",
          "data": {
            "text/plain": [
              "(611, 26)"
            ]
          },
          "metadata": {
            "tags": []
          },
          "execution_count": 293
        }
      ]
    },
    {
      "cell_type": "code",
      "metadata": {
        "colab": {
          "base_uri": "https://localhost:8080/",
          "height": 195
        },
        "id": "qhhm75lUQoND",
        "outputId": "ae38af74-95f8-4fbe-d767-cbfca5fc4ebe"
      },
      "source": [
        "#Predictions on the Test data\r\n",
        "predictions_lr = lr.predict(input_test_features)\r\n",
        "\r\n",
        "#Putting the above predictions and probabilities together to create a readable df\r\n",
        "lr_df = pd.DataFrame(predictions_lr.reshape(len(predictions_lr),1))\r\n",
        "lr_df.rename(columns={0:'prediction'}, inplace=True)\r\n",
        "lr_df.head(5)"
      ],
      "execution_count": 294,
      "outputs": [
        {
          "output_type": "execute_result",
          "data": {
            "text/html": [
              "<div>\n",
              "<style scoped>\n",
              "    .dataframe tbody tr th:only-of-type {\n",
              "        vertical-align: middle;\n",
              "    }\n",
              "\n",
              "    .dataframe tbody tr th {\n",
              "        vertical-align: top;\n",
              "    }\n",
              "\n",
              "    .dataframe thead th {\n",
              "        text-align: right;\n",
              "    }\n",
              "</style>\n",
              "<table border=\"1\" class=\"dataframe\">\n",
              "  <thead>\n",
              "    <tr style=\"text-align: right;\">\n",
              "      <th></th>\n",
              "      <th>prediction</th>\n",
              "    </tr>\n",
              "  </thead>\n",
              "  <tbody>\n",
              "    <tr>\n",
              "      <th>0</th>\n",
              "      <td>174.208833</td>\n",
              "    </tr>\n",
              "    <tr>\n",
              "      <th>1</th>\n",
              "      <td>141.332317</td>\n",
              "    </tr>\n",
              "    <tr>\n",
              "      <th>2</th>\n",
              "      <td>161.091438</td>\n",
              "    </tr>\n",
              "    <tr>\n",
              "      <th>3</th>\n",
              "      <td>228.578123</td>\n",
              "    </tr>\n",
              "    <tr>\n",
              "      <th>4</th>\n",
              "      <td>192.698420</td>\n",
              "    </tr>\n",
              "  </tbody>\n",
              "</table>\n",
              "</div>"
            ],
            "text/plain": [
              "   prediction\n",
              "0  174.208833\n",
              "1  141.332317\n",
              "2  161.091438\n",
              "3  228.578123\n",
              "4  192.698420"
            ]
          },
          "metadata": {
            "tags": []
          },
          "execution_count": 294
        }
      ]
    },
    {
      "cell_type": "markdown",
      "metadata": {
        "id": "pn0akD6lUjZB"
      },
      "source": [
        "Now performing same model and prediction for other data set"
      ]
    },
    {
      "cell_type": "code",
      "metadata": {
        "id": "1Oa5N28XvRGU",
        "colab": {
          "base_uri": "https://localhost:8080/",
          "height": 213
        },
        "outputId": "0ab62c18-9faf-4c91-92c8-3be5aed30654"
      },
      "source": [
        "# create the model object\r\n",
        "lrCopy = LinearRegression()\r\n",
        "\r\n",
        "# fit the model on train data\r\n",
        "lrCopy.fit(inputCopy1_train_features, inputCopy1_train_label)\r\n",
        "\r\n",
        "#Predictions on the Test data\r\n",
        "predictions_lrCopy = lrCopy.predict(inputCopy1_test_features)\r\n",
        "\r\n",
        "#Putting the above predictions and probabilities together to create a readable df\r\n",
        "lr_dfCopy = pd.DataFrame(predictions_lrCopy.reshape(len(predictions_lrCopy),1))\r\n",
        "lr_dfCopy.rename(columns={0:'prediction'}, inplace=True)\r\n",
        "lr_dfCopy.head(5)"
      ],
      "execution_count": 295,
      "outputs": [
        {
          "output_type": "execute_result",
          "data": {
            "text/plain": [
              "LinearRegression(copy_X=True, fit_intercept=True, n_jobs=None, normalize=False)"
            ]
          },
          "metadata": {
            "tags": []
          },
          "execution_count": 295
        },
        {
          "output_type": "execute_result",
          "data": {
            "text/html": [
              "<div>\n",
              "<style scoped>\n",
              "    .dataframe tbody tr th:only-of-type {\n",
              "        vertical-align: middle;\n",
              "    }\n",
              "\n",
              "    .dataframe tbody tr th {\n",
              "        vertical-align: top;\n",
              "    }\n",
              "\n",
              "    .dataframe thead th {\n",
              "        text-align: right;\n",
              "    }\n",
              "</style>\n",
              "<table border=\"1\" class=\"dataframe\">\n",
              "  <thead>\n",
              "    <tr style=\"text-align: right;\">\n",
              "      <th></th>\n",
              "      <th>prediction</th>\n",
              "    </tr>\n",
              "  </thead>\n",
              "  <tbody>\n",
              "    <tr>\n",
              "      <th>0</th>\n",
              "      <td>183.126327</td>\n",
              "    </tr>\n",
              "    <tr>\n",
              "      <th>1</th>\n",
              "      <td>142.446331</td>\n",
              "    </tr>\n",
              "    <tr>\n",
              "      <th>2</th>\n",
              "      <td>164.447928</td>\n",
              "    </tr>\n",
              "    <tr>\n",
              "      <th>3</th>\n",
              "      <td>221.215700</td>\n",
              "    </tr>\n",
              "    <tr>\n",
              "      <th>4</th>\n",
              "      <td>192.041941</td>\n",
              "    </tr>\n",
              "  </tbody>\n",
              "</table>\n",
              "</div>"
            ],
            "text/plain": [
              "   prediction\n",
              "0  183.126327\n",
              "1  142.446331\n",
              "2  164.447928\n",
              "3  221.215700\n",
              "4  192.041941"
            ]
          },
          "metadata": {
            "tags": []
          },
          "execution_count": 295
        }
      ]
    },
    {
      "cell_type": "markdown",
      "metadata": {
        "id": "jX-QtKKSEHlU"
      },
      "source": [
        "## Task 4\r\n"
      ]
    },
    {
      "cell_type": "markdown",
      "metadata": {
        "id": "eC72ZalnlET8"
      },
      "source": [
        "### Evaluate your model "
      ]
    },
    {
      "cell_type": "code",
      "metadata": {
        "id": "Hr3Uw_HDEQu2",
        "colab": {
          "base_uri": "https://localhost:8080/"
        },
        "outputId": "5f880f58-872b-47c4-9c05-81e3780bfa50"
      },
      "source": [
        "# import metrics library\r\n",
        "from sklearn import metrics\r\n",
        "\r\n",
        "#print result of MSE\r\n",
        "print(metrics.mean_squared_error(input_test['TARGET_deathRate'], lr_df['prediction']))\r\n"
      ],
      "execution_count": 296,
      "outputs": [
        {
          "output_type": "stream",
          "text": [
            "346.79761074179913\n"
          ],
          "name": "stdout"
        }
      ]
    },
    {
      "cell_type": "markdown",
      "metadata": {
        "id": "vgBZzCDOVbFB"
      },
      "source": [
        "Now evaluating the other model"
      ]
    },
    {
      "cell_type": "markdown",
      "metadata": {
        "id": "IO57739JlKJm"
      },
      "source": [
        "## Task 5"
      ]
    },
    {
      "cell_type": "markdown",
      "metadata": {
        "id": "TnB7FjcSlNze"
      },
      "source": [
        "### Use any Feature Selection Technique and observe if the model created by selected features performs better than the previous model"
      ]
    },
    {
      "cell_type": "code",
      "metadata": {
        "colab": {
          "base_uri": "https://localhost:8080/"
        },
        "id": "uRntaLP0VeJ_",
        "outputId": "6e44e6ed-b7ab-4d8b-ae76-4dddd370b35a"
      },
      "source": [
        "#print result of MSE\r\n",
        "print(metrics.mean_squared_error(inputCopy1_test['TARGET_deathRate'], lr_dfCopy['prediction']))"
      ],
      "execution_count": 297,
      "outputs": [
        {
          "output_type": "stream",
          "text": [
            "383.3447780440351\n"
          ],
          "name": "stdout"
        }
      ]
    },
    {
      "cell_type": "code",
      "metadata": {
        "colab": {
          "base_uri": "https://localhost:8080/",
          "height": 708
        },
        "id": "ZEQzNwKTkzqf",
        "outputId": "ad699700-9e2e-405e-a4e9-6f505157f637"
      },
      "source": [
        "cancer_test.shape\r\n",
        "cancer_test.head(5)\r\n",
        "cancer_test.dtypes"
      ],
      "execution_count": 298,
      "outputs": [
        {
          "output_type": "execute_result",
          "data": {
            "text/plain": [
              "(762, 26)"
            ]
          },
          "metadata": {
            "tags": []
          },
          "execution_count": 298
        },
        {
          "output_type": "execute_result",
          "data": {
            "text/html": [
              "<div>\n",
              "<style scoped>\n",
              "    .dataframe tbody tr th:only-of-type {\n",
              "        vertical-align: middle;\n",
              "    }\n",
              "\n",
              "    .dataframe tbody tr th {\n",
              "        vertical-align: top;\n",
              "    }\n",
              "\n",
              "    .dataframe thead th {\n",
              "        text-align: right;\n",
              "    }\n",
              "</style>\n",
              "<table border=\"1\" class=\"dataframe\">\n",
              "  <thead>\n",
              "    <tr style=\"text-align: right;\">\n",
              "      <th></th>\n",
              "      <th>avgAnnCount</th>\n",
              "      <th>avgDeathsPerYear</th>\n",
              "      <th>incidenceRate</th>\n",
              "      <th>medIncome</th>\n",
              "      <th>popEst2015</th>\n",
              "      <th>povertyPercent</th>\n",
              "      <th>studyPerCap</th>\n",
              "      <th>MedianAgeFemale</th>\n",
              "      <th>AvgHouseholdSize</th>\n",
              "      <th>PercentMarried</th>\n",
              "      <th>PctNoHS18_24</th>\n",
              "      <th>PctHS18_24</th>\n",
              "      <th>PctBachDeg18_24</th>\n",
              "      <th>PctHS25_Over</th>\n",
              "      <th>PctBachDeg25_Over</th>\n",
              "      <th>PctUnemployed16_Over</th>\n",
              "      <th>PctPrivateCoverage</th>\n",
              "      <th>PctEmpPrivCoverage</th>\n",
              "      <th>PctPublicCoverage</th>\n",
              "      <th>PctPublicCoverageAlone</th>\n",
              "      <th>PctWhite</th>\n",
              "      <th>PctBlack</th>\n",
              "      <th>PctAsian</th>\n",
              "      <th>PctOtherRace</th>\n",
              "      <th>PctMarriedHouseholds</th>\n",
              "      <th>BirthRate</th>\n",
              "    </tr>\n",
              "  </thead>\n",
              "  <tbody>\n",
              "    <tr>\n",
              "      <th>0</th>\n",
              "      <td>2092.000000</td>\n",
              "      <td>763</td>\n",
              "      <td>341.000000</td>\n",
              "      <td>34368</td>\n",
              "      <td>842304</td>\n",
              "      <td>33.5</td>\n",
              "      <td>42.739913</td>\n",
              "      <td>30.1</td>\n",
              "      <td>3.62</td>\n",
              "      <td>51.0</td>\n",
              "      <td>22.3</td>\n",
              "      <td>29.0</td>\n",
              "      <td>5.1</td>\n",
              "      <td>23.2</td>\n",
              "      <td>11.9</td>\n",
              "      <td>9.9</td>\n",
              "      <td>32.6</td>\n",
              "      <td>22.9</td>\n",
              "      <td>37.3</td>\n",
              "      <td>28.2</td>\n",
              "      <td>91.409724</td>\n",
              "      <td>0.620104</td>\n",
              "      <td>1.041848</td>\n",
              "      <td>5.804689</td>\n",
              "      <td>56.335344</td>\n",
              "      <td>6.825886</td>\n",
              "    </tr>\n",
              "    <tr>\n",
              "      <th>1</th>\n",
              "      <td>94.000000</td>\n",
              "      <td>41</td>\n",
              "      <td>445.200000</td>\n",
              "      <td>35615</td>\n",
              "      <td>16704</td>\n",
              "      <td>21.5</td>\n",
              "      <td>0.000000</td>\n",
              "      <td>42.1</td>\n",
              "      <td>2.68</td>\n",
              "      <td>52.0</td>\n",
              "      <td>9.8</td>\n",
              "      <td>36.1</td>\n",
              "      <td>8.3</td>\n",
              "      <td>47.1</td>\n",
              "      <td>7.9</td>\n",
              "      <td>9.0</td>\n",
              "      <td>55.6</td>\n",
              "      <td>36.5</td>\n",
              "      <td>44.8</td>\n",
              "      <td>26.4</td>\n",
              "      <td>96.844181</td>\n",
              "      <td>0.836770</td>\n",
              "      <td>0.376547</td>\n",
              "      <td>0.029885</td>\n",
              "      <td>55.288859</td>\n",
              "      <td>2.292861</td>\n",
              "    </tr>\n",
              "    <tr>\n",
              "      <th>2</th>\n",
              "      <td>126.000000</td>\n",
              "      <td>43</td>\n",
              "      <td>425.700000</td>\n",
              "      <td>76672</td>\n",
              "      <td>32154</td>\n",
              "      <td>7.6</td>\n",
              "      <td>31.100330</td>\n",
              "      <td>36.0</td>\n",
              "      <td>2.44</td>\n",
              "      <td>55.8</td>\n",
              "      <td>13.0</td>\n",
              "      <td>26.8</td>\n",
              "      <td>10.0</td>\n",
              "      <td>30.5</td>\n",
              "      <td>17.5</td>\n",
              "      <td>2.8</td>\n",
              "      <td>83.3</td>\n",
              "      <td>55.9</td>\n",
              "      <td>19.6</td>\n",
              "      <td>5.9</td>\n",
              "      <td>92.626100</td>\n",
              "      <td>1.114294</td>\n",
              "      <td>1.257510</td>\n",
              "      <td>1.844348</td>\n",
              "      <td>52.614465</td>\n",
              "      <td>10.502567</td>\n",
              "    </tr>\n",
              "    <tr>\n",
              "      <th>3</th>\n",
              "      <td>1962.667684</td>\n",
              "      <td>16</td>\n",
              "      <td>453.549422</td>\n",
              "      <td>45856</td>\n",
              "      <td>5428</td>\n",
              "      <td>11.4</td>\n",
              "      <td>0.000000</td>\n",
              "      <td>45.5</td>\n",
              "      <td>2.29</td>\n",
              "      <td>60.5</td>\n",
              "      <td>33.2</td>\n",
              "      <td>13.9</td>\n",
              "      <td>7.6</td>\n",
              "      <td>35.3</td>\n",
              "      <td>15.5</td>\n",
              "      <td>4.3</td>\n",
              "      <td>75.8</td>\n",
              "      <td>44.5</td>\n",
              "      <td>33.4</td>\n",
              "      <td>15.5</td>\n",
              "      <td>96.855117</td>\n",
              "      <td>0.381749</td>\n",
              "      <td>0.181785</td>\n",
              "      <td>0.163607</td>\n",
              "      <td>55.044700</td>\n",
              "      <td>9.342231</td>\n",
              "    </tr>\n",
              "    <tr>\n",
              "      <th>4</th>\n",
              "      <td>1962.667684</td>\n",
              "      <td>4</td>\n",
              "      <td>453.549422</td>\n",
              "      <td>53739</td>\n",
              "      <td>1670</td>\n",
              "      <td>10.9</td>\n",
              "      <td>0.000000</td>\n",
              "      <td>44.4</td>\n",
              "      <td>2.07</td>\n",
              "      <td>55.9</td>\n",
              "      <td>25.2</td>\n",
              "      <td>31.1</td>\n",
              "      <td>3.0</td>\n",
              "      <td>29.7</td>\n",
              "      <td>15.5</td>\n",
              "      <td>2.4</td>\n",
              "      <td>78.2</td>\n",
              "      <td>48.6</td>\n",
              "      <td>29.2</td>\n",
              "      <td>11.2</td>\n",
              "      <td>98.327360</td>\n",
              "      <td>0.358423</td>\n",
              "      <td>0.000000</td>\n",
              "      <td>0.000000</td>\n",
              "      <td>47.826087</td>\n",
              "      <td>10.029499</td>\n",
              "    </tr>\n",
              "  </tbody>\n",
              "</table>\n",
              "</div>"
            ],
            "text/plain": [
              "   avgAnnCount  avgDeathsPerYear  ...  PctMarriedHouseholds  BirthRate\n",
              "0  2092.000000               763  ...             56.335344   6.825886\n",
              "1    94.000000                41  ...             55.288859   2.292861\n",
              "2   126.000000                43  ...             52.614465  10.502567\n",
              "3  1962.667684                16  ...             55.044700   9.342231\n",
              "4  1962.667684                 4  ...             47.826087  10.029499\n",
              "\n",
              "[5 rows x 26 columns]"
            ]
          },
          "metadata": {
            "tags": []
          },
          "execution_count": 298
        },
        {
          "output_type": "execute_result",
          "data": {
            "text/plain": [
              "avgAnnCount               float64\n",
              "avgDeathsPerYear            int64\n",
              "incidenceRate             float64\n",
              "medIncome                   int64\n",
              "popEst2015                  int64\n",
              "povertyPercent            float64\n",
              "studyPerCap               float64\n",
              "MedianAgeFemale           float64\n",
              "AvgHouseholdSize          float64\n",
              "PercentMarried            float64\n",
              "PctNoHS18_24              float64\n",
              "PctHS18_24                float64\n",
              "PctBachDeg18_24           float64\n",
              "PctHS25_Over              float64\n",
              "PctBachDeg25_Over         float64\n",
              "PctUnemployed16_Over      float64\n",
              "PctPrivateCoverage        float64\n",
              "PctEmpPrivCoverage        float64\n",
              "PctPublicCoverage         float64\n",
              "PctPublicCoverageAlone    float64\n",
              "PctWhite                  float64\n",
              "PctBlack                  float64\n",
              "PctAsian                  float64\n",
              "PctOtherRace              float64\n",
              "PctMarriedHouseholds      float64\n",
              "BirthRate                 float64\n",
              "dtype: object"
            ]
          },
          "metadata": {
            "tags": []
          },
          "execution_count": 298
        }
      ]
    },
    {
      "cell_type": "markdown",
      "metadata": {
        "id": "g4eYlZlIacB4"
      },
      "source": [
        "The previous model was better, so we will go with that not the less features one.\r\n",
        "Lets do the prediction now:"
      ]
    },
    {
      "cell_type": "markdown",
      "metadata": {
        "id": "qKxF3UvIa8SK"
      },
      "source": [
        "Predicting the output with the best model"
      ]
    },
    {
      "cell_type": "code",
      "metadata": {
        "colab": {
          "base_uri": "https://localhost:8080/",
          "height": 230
        },
        "id": "g3OfMmava5ZQ",
        "outputId": "11416b67-b759-4320-df64-83f68e4f4a2c"
      },
      "source": [
        "input_test_features.shape\r\n",
        "#Predictions on the Test data\r\n",
        "predictions_lr_final = lr.predict(cancer_test)\r\n",
        "\r\n",
        "#Putting the above predictions and probabilities together to create a readable df\r\n",
        "lr_df_final = pd.DataFrame(predictions_lr_final.reshape(len(predictions_lr_final),1))\r\n",
        "lr_df_final.rename(columns={0:'prediction'}, inplace=True)\r\n",
        "lr_df_final.head(5)\r\n",
        "lr_df_final.shape"
      ],
      "execution_count": 299,
      "outputs": [
        {
          "output_type": "execute_result",
          "data": {
            "text/plain": [
              "(611, 26)"
            ]
          },
          "metadata": {
            "tags": []
          },
          "execution_count": 299
        },
        {
          "output_type": "execute_result",
          "data": {
            "text/html": [
              "<div>\n",
              "<style scoped>\n",
              "    .dataframe tbody tr th:only-of-type {\n",
              "        vertical-align: middle;\n",
              "    }\n",
              "\n",
              "    .dataframe tbody tr th {\n",
              "        vertical-align: top;\n",
              "    }\n",
              "\n",
              "    .dataframe thead th {\n",
              "        text-align: right;\n",
              "    }\n",
              "</style>\n",
              "<table border=\"1\" class=\"dataframe\">\n",
              "  <thead>\n",
              "    <tr style=\"text-align: right;\">\n",
              "      <th></th>\n",
              "      <th>prediction</th>\n",
              "    </tr>\n",
              "  </thead>\n",
              "  <tbody>\n",
              "    <tr>\n",
              "      <th>0</th>\n",
              "      <td>159.381107</td>\n",
              "    </tr>\n",
              "    <tr>\n",
              "      <th>1</th>\n",
              "      <td>194.391532</td>\n",
              "    </tr>\n",
              "    <tr>\n",
              "      <th>2</th>\n",
              "      <td>155.251448</td>\n",
              "    </tr>\n",
              "    <tr>\n",
              "      <th>3</th>\n",
              "      <td>154.618633</td>\n",
              "    </tr>\n",
              "    <tr>\n",
              "      <th>4</th>\n",
              "      <td>160.694349</td>\n",
              "    </tr>\n",
              "  </tbody>\n",
              "</table>\n",
              "</div>"
            ],
            "text/plain": [
              "   prediction\n",
              "0  159.381107\n",
              "1  194.391532\n",
              "2  155.251448\n",
              "3  154.618633\n",
              "4  160.694349"
            ]
          },
          "metadata": {
            "tags": []
          },
          "execution_count": 299
        },
        {
          "output_type": "execute_result",
          "data": {
            "text/plain": [
              "(762, 1)"
            ]
          },
          "metadata": {
            "tags": []
          },
          "execution_count": 299
        }
      ]
    },
    {
      "cell_type": "code",
      "metadata": {
        "id": "nv1tL2FKR3Wq"
      },
      "source": [
        "import numpy\r\n",
        "\r\n",
        "\r\n",
        "\r\n",
        "numpy.savetxt(\"PrectedCancerLables_14012021.csv\", lr_df_final, delimiter=\",\")"
      ],
      "execution_count": 300,
      "outputs": []
    }
  ]
}