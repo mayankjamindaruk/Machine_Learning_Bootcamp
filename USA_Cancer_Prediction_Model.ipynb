{
  "nbformat": 4,
  "nbformat_minor": 0,
  "metadata": {
    "colab": {
      "name": "USA Cancer Prediction Model.ipynb",
      "provenance": [],
      "collapsed_sections": [],
      "authorship_tag": "ABX9TyMoLwmQKDLSkkvKRq4DAdWC",
      "include_colab_link": true
    },
    "kernelspec": {
      "name": "python3",
      "display_name": "Python 3"
    }
  },
  "cells": [
    {
      "cell_type": "markdown",
      "metadata": {
        "id": "view-in-github",
        "colab_type": "text"
      },
      "source": [
        "<a href=\"https://colab.research.google.com/github/mayankjamindaruk/Machine_Learning_Bootcamp/blob/master/USA_Cancer_Prediction_Model.ipynb\" target=\"_parent\"><img src=\"https://colab.research.google.com/assets/colab-badge.svg\" alt=\"Open In Colab\"/></a>"
      ]
    },
    {
      "cell_type": "code",
      "metadata": {
        "id": "iC6ZWPW25fz4"
      },
      "source": [
        "# the below code is for displaying the output from all lines of python code within a single cell\r\n",
        "from IPython.core.interactiveshell import InteractiveShell\r\n",
        "InteractiveShell.ast_node_interactivity = \"all\"\r\n",
        "\r\n",
        "# A fundamental package for linear algebra and multidimensional arrays\r\n",
        "import pandas as pd                  \r\n",
        "\r\n",
        "# Data analysis and data manipulating tool\r\n",
        "import numpy as np                   \r\n",
        "\r\n",
        "# Library to generate random numbers\r\n",
        "import random                        \r\n",
        "\r\n",
        "# Collection is a Python module that implements specialized container datatypes providing \r\n",
        "# Counter is a dict subclass for counting hashable objects\r\n",
        "from collections import Counter      \r\n",
        "                                     \r\n",
        "# Visualization libraries\r\n",
        "import matplotlib.pyplot as plt\r\n",
        "import seaborn as sns\r\n",
        "\r\n",
        "# To ignore warnings in the notebook\r\n",
        "import warnings\r\n",
        "warnings.filterwarnings(\"ignore\")\r\n",
        "\r\n",
        "# to display up to 500 rows in the output of the jupyter notebook cell\r\n",
        "pd.set_option('display.max_rows', 500)"
      ],
      "execution_count": 1,
      "outputs": []
    },
    {
      "cell_type": "code",
      "metadata": {
        "colab": {
          "base_uri": "https://localhost:8080/"
        },
        "id": "q8VPc6H26h9W",
        "outputId": "73f36808-b47e-4ade-b59b-4f04175a64bc"
      },
      "source": [
        "# import training data as pandas dataframe\r\n",
        "# the data is in csv - comma separated file. Hence we use the function 'read_csv'\r\n",
        "\r\n",
        "cancer_data  = pd.read_csv(\"https://raw.githubusercontent.com/dphi-official/Datasets/master/cancer_death_rate/Training_set_label.csv\" )\r\n",
        "\r\n",
        "# the below code will print the number of rows and columns\r\n",
        "cancer_data.shape"
      ],
      "execution_count": 2,
      "outputs": [
        {
          "output_type": "execute_result",
          "data": {
            "text/plain": [
              "(3051, 34)"
            ]
          },
          "metadata": {
            "tags": []
          },
          "execution_count": 2
        }
      ]
    },
    {
      "cell_type": "code",
      "metadata": {
        "colab": {
          "base_uri": "https://localhost:8080/"
        },
        "id": "j8JN_Fhr7-nW",
        "outputId": "8052ff65-0a46-4b4f-da2d-4635938a648e"
      },
      "source": [
        "test_data = pd.read_csv('https://raw.githubusercontent.com/dphi-official/Datasets/master/cancer_death_rate/Testing_set_label.csv')\r\n",
        "\r\n",
        "test_data.shape"
      ],
      "execution_count": 45,
      "outputs": [
        {
          "output_type": "execute_result",
          "data": {
            "text/plain": [
              "(762, 33)"
            ]
          },
          "metadata": {
            "tags": []
          },
          "execution_count": 45
        }
      ]
    },
    {
      "cell_type": "code",
      "metadata": {
        "colab": {
          "base_uri": "https://localhost:8080/"
        },
        "id": "GNoJp15A8IP7",
        "outputId": "5240867c-3102-40d4-9ba1-449e0d4df4c2"
      },
      "source": [
        "cancer_data.dtypes"
      ],
      "execution_count": 4,
      "outputs": [
        {
          "output_type": "execute_result",
          "data": {
            "text/plain": [
              "avgAnnCount                float64\n",
              "avgDeathsPerYear             int64\n",
              "incidenceRate              float64\n",
              "medIncome                    int64\n",
              "popEst2015                   int64\n",
              "povertyPercent             float64\n",
              "studyPerCap                float64\n",
              "binnedInc                   object\n",
              "MedianAge                  float64\n",
              "MedianAgeMale              float64\n",
              "MedianAgeFemale            float64\n",
              "Geography                   object\n",
              "AvgHouseholdSize           float64\n",
              "PercentMarried             float64\n",
              "PctNoHS18_24               float64\n",
              "PctHS18_24                 float64\n",
              "PctSomeCol18_24            float64\n",
              "PctBachDeg18_24            float64\n",
              "PctHS25_Over               float64\n",
              "PctBachDeg25_Over          float64\n",
              "PctEmployed16_Over         float64\n",
              "PctUnemployed16_Over       float64\n",
              "PctPrivateCoverage         float64\n",
              "PctPrivateCoverageAlone    float64\n",
              "PctEmpPrivCoverage         float64\n",
              "PctPublicCoverage          float64\n",
              "PctPublicCoverageAlone     float64\n",
              "PctWhite                   float64\n",
              "PctBlack                   float64\n",
              "PctAsian                   float64\n",
              "PctOtherRace               float64\n",
              "PctMarriedHouseholds       float64\n",
              "BirthRate                  float64\n",
              "TARGET_deathRate           float64\n",
              "dtype: object"
            ]
          },
          "metadata": {
            "tags": []
          },
          "execution_count": 4
        }
      ]
    },
    {
      "cell_type": "code",
      "metadata": {
        "colab": {
          "base_uri": "https://localhost:8080/"
        },
        "id": "Ihm1YNWz8IaS",
        "outputId": "16a2a016-f7e6-4ded-c7c2-bd90441e2bc5"
      },
      "source": [
        "test_data.dtypes"
      ],
      "execution_count": 5,
      "outputs": [
        {
          "output_type": "execute_result",
          "data": {
            "text/plain": [
              "avgAnnCount                float64\n",
              "avgDeathsPerYear             int64\n",
              "incidenceRate              float64\n",
              "medIncome                    int64\n",
              "popEst2015                   int64\n",
              "povertyPercent             float64\n",
              "studyPerCap                float64\n",
              "binnedInc                   object\n",
              "MedianAge                  float64\n",
              "MedianAgeMale              float64\n",
              "MedianAgeFemale            float64\n",
              "Geography                   object\n",
              "AvgHouseholdSize           float64\n",
              "PercentMarried             float64\n",
              "PctNoHS18_24               float64\n",
              "PctHS18_24                 float64\n",
              "PctSomeCol18_24            float64\n",
              "PctBachDeg18_24            float64\n",
              "PctHS25_Over               float64\n",
              "PctBachDeg25_Over          float64\n",
              "PctEmployed16_Over         float64\n",
              "PctUnemployed16_Over       float64\n",
              "PctPrivateCoverage         float64\n",
              "PctPrivateCoverageAlone    float64\n",
              "PctEmpPrivCoverage         float64\n",
              "PctPublicCoverage          float64\n",
              "PctPublicCoverageAlone     float64\n",
              "PctWhite                   float64\n",
              "PctBlack                   float64\n",
              "PctAsian                   float64\n",
              "PctOtherRace               float64\n",
              "PctMarriedHouseholds       float64\n",
              "BirthRate                  float64\n",
              "dtype: object"
            ]
          },
          "metadata": {
            "tags": []
          },
          "execution_count": 5
        }
      ]
    },
    {
      "cell_type": "code",
      "metadata": {
        "colab": {
          "base_uri": "https://localhost:8080/",
          "height": 716
        },
        "id": "tCERu3928SAD",
        "outputId": "b3e56b6b-df76-41b8-893d-8348353c1072"
      },
      "source": [
        "cancer_data.head(10)"
      ],
      "execution_count": 6,
      "outputs": [
        {
          "output_type": "execute_result",
          "data": {
            "text/html": [
              "<div>\n",
              "<style scoped>\n",
              "    .dataframe tbody tr th:only-of-type {\n",
              "        vertical-align: middle;\n",
              "    }\n",
              "\n",
              "    .dataframe tbody tr th {\n",
              "        vertical-align: top;\n",
              "    }\n",
              "\n",
              "    .dataframe thead th {\n",
              "        text-align: right;\n",
              "    }\n",
              "</style>\n",
              "<table border=\"1\" class=\"dataframe\">\n",
              "  <thead>\n",
              "    <tr style=\"text-align: right;\">\n",
              "      <th></th>\n",
              "      <th>avgAnnCount</th>\n",
              "      <th>avgDeathsPerYear</th>\n",
              "      <th>incidenceRate</th>\n",
              "      <th>medIncome</th>\n",
              "      <th>popEst2015</th>\n",
              "      <th>povertyPercent</th>\n",
              "      <th>studyPerCap</th>\n",
              "      <th>binnedInc</th>\n",
              "      <th>MedianAge</th>\n",
              "      <th>MedianAgeMale</th>\n",
              "      <th>MedianAgeFemale</th>\n",
              "      <th>Geography</th>\n",
              "      <th>AvgHouseholdSize</th>\n",
              "      <th>PercentMarried</th>\n",
              "      <th>PctNoHS18_24</th>\n",
              "      <th>PctHS18_24</th>\n",
              "      <th>PctSomeCol18_24</th>\n",
              "      <th>PctBachDeg18_24</th>\n",
              "      <th>PctHS25_Over</th>\n",
              "      <th>PctBachDeg25_Over</th>\n",
              "      <th>PctEmployed16_Over</th>\n",
              "      <th>PctUnemployed16_Over</th>\n",
              "      <th>PctPrivateCoverage</th>\n",
              "      <th>PctPrivateCoverageAlone</th>\n",
              "      <th>PctEmpPrivCoverage</th>\n",
              "      <th>PctPublicCoverage</th>\n",
              "      <th>PctPublicCoverageAlone</th>\n",
              "      <th>PctWhite</th>\n",
              "      <th>PctBlack</th>\n",
              "      <th>PctAsian</th>\n",
              "      <th>PctOtherRace</th>\n",
              "      <th>PctMarriedHouseholds</th>\n",
              "      <th>BirthRate</th>\n",
              "      <th>TARGET_deathRate</th>\n",
              "    </tr>\n",
              "  </thead>\n",
              "  <tbody>\n",
              "    <tr>\n",
              "      <th>0</th>\n",
              "      <td>19.0</td>\n",
              "      <td>8</td>\n",
              "      <td>481.5</td>\n",
              "      <td>50038</td>\n",
              "      <td>2704</td>\n",
              "      <td>11.1</td>\n",
              "      <td>0.000000</td>\n",
              "      <td>(48021.6, 51046.4]</td>\n",
              "      <td>48.4</td>\n",
              "      <td>49.6</td>\n",
              "      <td>46.4</td>\n",
              "      <td>Hettinger County, North Dakota</td>\n",
              "      <td>2.250</td>\n",
              "      <td>65.9</td>\n",
              "      <td>10.8</td>\n",
              "      <td>25.0</td>\n",
              "      <td>57.4</td>\n",
              "      <td>6.8</td>\n",
              "      <td>37.1</td>\n",
              "      <td>12.2</td>\n",
              "      <td>57.4</td>\n",
              "      <td>1.1</td>\n",
              "      <td>81.2</td>\n",
              "      <td>56.0</td>\n",
              "      <td>35.7</td>\n",
              "      <td>34.7</td>\n",
              "      <td>9.9</td>\n",
              "      <td>96.032049</td>\n",
              "      <td>0.724914</td>\n",
              "      <td>0.000000</td>\n",
              "      <td>0.000000</td>\n",
              "      <td>62.511457</td>\n",
              "      <td>15.157116</td>\n",
              "      <td>160.3</td>\n",
              "    </tr>\n",
              "    <tr>\n",
              "      <th>1</th>\n",
              "      <td>88.0</td>\n",
              "      <td>34</td>\n",
              "      <td>486.0</td>\n",
              "      <td>59399</td>\n",
              "      <td>14844</td>\n",
              "      <td>9.7</td>\n",
              "      <td>0.000000</td>\n",
              "      <td>(54545.6, 61494.5]</td>\n",
              "      <td>41.9</td>\n",
              "      <td>41.3</td>\n",
              "      <td>43.2</td>\n",
              "      <td>Mills County, Iowa</td>\n",
              "      <td>2.630</td>\n",
              "      <td>58.6</td>\n",
              "      <td>22.3</td>\n",
              "      <td>29.1</td>\n",
              "      <td>NaN</td>\n",
              "      <td>1.1</td>\n",
              "      <td>35.9</td>\n",
              "      <td>16.0</td>\n",
              "      <td>60.4</td>\n",
              "      <td>3.8</td>\n",
              "      <td>76.7</td>\n",
              "      <td>NaN</td>\n",
              "      <td>50.8</td>\n",
              "      <td>32.1</td>\n",
              "      <td>12.8</td>\n",
              "      <td>97.537344</td>\n",
              "      <td>0.719957</td>\n",
              "      <td>0.080743</td>\n",
              "      <td>0.040371</td>\n",
              "      <td>61.641045</td>\n",
              "      <td>3.293510</td>\n",
              "      <td>194.9</td>\n",
              "    </tr>\n",
              "    <tr>\n",
              "      <th>2</th>\n",
              "      <td>195.0</td>\n",
              "      <td>83</td>\n",
              "      <td>475.7</td>\n",
              "      <td>39721</td>\n",
              "      <td>25164</td>\n",
              "      <td>18.5</td>\n",
              "      <td>0.000000</td>\n",
              "      <td>(37413.8, 40362.7]</td>\n",
              "      <td>48.9</td>\n",
              "      <td>47.9</td>\n",
              "      <td>49.9</td>\n",
              "      <td>Gladwin County, Michigan</td>\n",
              "      <td>2.300</td>\n",
              "      <td>57.2</td>\n",
              "      <td>24.9</td>\n",
              "      <td>36.2</td>\n",
              "      <td>NaN</td>\n",
              "      <td>3.5</td>\n",
              "      <td>40.2</td>\n",
              "      <td>7.6</td>\n",
              "      <td>41.2</td>\n",
              "      <td>11.0</td>\n",
              "      <td>61.6</td>\n",
              "      <td>NaN</td>\n",
              "      <td>32.1</td>\n",
              "      <td>49.8</td>\n",
              "      <td>21.6</td>\n",
              "      <td>97.576566</td>\n",
              "      <td>0.360770</td>\n",
              "      <td>0.411749</td>\n",
              "      <td>0.082350</td>\n",
              "      <td>53.978102</td>\n",
              "      <td>6.390328</td>\n",
              "      <td>196.5</td>\n",
              "    </tr>\n",
              "    <tr>\n",
              "      <th>3</th>\n",
              "      <td>116.0</td>\n",
              "      <td>55</td>\n",
              "      <td>496.6</td>\n",
              "      <td>30299</td>\n",
              "      <td>17917</td>\n",
              "      <td>28.1</td>\n",
              "      <td>0.000000</td>\n",
              "      <td>[22640, 34218.1]</td>\n",
              "      <td>44.2</td>\n",
              "      <td>42.7</td>\n",
              "      <td>45.2</td>\n",
              "      <td>Fentress County, Tennessee</td>\n",
              "      <td>2.430</td>\n",
              "      <td>53.0</td>\n",
              "      <td>10.9</td>\n",
              "      <td>51.8</td>\n",
              "      <td>NaN</td>\n",
              "      <td>5.3</td>\n",
              "      <td>44.2</td>\n",
              "      <td>7.0</td>\n",
              "      <td>41.6</td>\n",
              "      <td>10.4</td>\n",
              "      <td>45.2</td>\n",
              "      <td>NaN</td>\n",
              "      <td>24.2</td>\n",
              "      <td>53.2</td>\n",
              "      <td>33.0</td>\n",
              "      <td>97.908650</td>\n",
              "      <td>0.161731</td>\n",
              "      <td>0.306731</td>\n",
              "      <td>0.340193</td>\n",
              "      <td>51.013143</td>\n",
              "      <td>5.124836</td>\n",
              "      <td>230.9</td>\n",
              "    </tr>\n",
              "    <tr>\n",
              "      <th>4</th>\n",
              "      <td>80.0</td>\n",
              "      <td>35</td>\n",
              "      <td>372.0</td>\n",
              "      <td>39625</td>\n",
              "      <td>14058</td>\n",
              "      <td>17.4</td>\n",
              "      <td>0.000000</td>\n",
              "      <td>(37413.8, 40362.7]</td>\n",
              "      <td>45.0</td>\n",
              "      <td>42.2</td>\n",
              "      <td>48.0</td>\n",
              "      <td>Las Animas County, Colorado</td>\n",
              "      <td>2.360</td>\n",
              "      <td>52.2</td>\n",
              "      <td>12.6</td>\n",
              "      <td>31.2</td>\n",
              "      <td>NaN</td>\n",
              "      <td>0.2</td>\n",
              "      <td>28.3</td>\n",
              "      <td>10.5</td>\n",
              "      <td>49.3</td>\n",
              "      <td>9.2</td>\n",
              "      <td>56.6</td>\n",
              "      <td>NaN</td>\n",
              "      <td>33.4</td>\n",
              "      <td>43.0</td>\n",
              "      <td>24.7</td>\n",
              "      <td>82.672551</td>\n",
              "      <td>1.834103</td>\n",
              "      <td>0.682617</td>\n",
              "      <td>8.253465</td>\n",
              "      <td>50.566426</td>\n",
              "      <td>3.897033</td>\n",
              "      <td>162.2</td>\n",
              "    </tr>\n",
              "    <tr>\n",
              "      <th>5</th>\n",
              "      <td>49.0</td>\n",
              "      <td>24</td>\n",
              "      <td>437.7</td>\n",
              "      <td>27596</td>\n",
              "      <td>9122</td>\n",
              "      <td>32.5</td>\n",
              "      <td>0.000000</td>\n",
              "      <td>[22640, 34218.1]</td>\n",
              "      <td>36.8</td>\n",
              "      <td>35.6</td>\n",
              "      <td>42.9</td>\n",
              "      <td>Wilkinson County, Mississippi</td>\n",
              "      <td>2.600</td>\n",
              "      <td>34.4</td>\n",
              "      <td>28.5</td>\n",
              "      <td>40.8</td>\n",
              "      <td>NaN</td>\n",
              "      <td>7.3</td>\n",
              "      <td>36.1</td>\n",
              "      <td>10.0</td>\n",
              "      <td>39.0</td>\n",
              "      <td>9.7</td>\n",
              "      <td>42.3</td>\n",
              "      <td>32.7</td>\n",
              "      <td>27.9</td>\n",
              "      <td>48.2</td>\n",
              "      <td>32.0</td>\n",
              "      <td>28.871054</td>\n",
              "      <td>70.658106</td>\n",
              "      <td>0.000000</td>\n",
              "      <td>0.470840</td>\n",
              "      <td>36.054846</td>\n",
              "      <td>2.790179</td>\n",
              "      <td>219.7</td>\n",
              "    </tr>\n",
              "    <tr>\n",
              "      <th>6</th>\n",
              "      <td>44.0</td>\n",
              "      <td>14</td>\n",
              "      <td>506.7</td>\n",
              "      <td>55758</td>\n",
              "      <td>6309</td>\n",
              "      <td>11.3</td>\n",
              "      <td>0.000000</td>\n",
              "      <td>(54545.6, 61494.5]</td>\n",
              "      <td>43.2</td>\n",
              "      <td>42.5</td>\n",
              "      <td>43.7</td>\n",
              "      <td>Clay County, Nebraska</td>\n",
              "      <td>0.024</td>\n",
              "      <td>61.2</td>\n",
              "      <td>25.2</td>\n",
              "      <td>28.1</td>\n",
              "      <td>40.6</td>\n",
              "      <td>6.1</td>\n",
              "      <td>32.6</td>\n",
              "      <td>14.2</td>\n",
              "      <td>63.1</td>\n",
              "      <td>2.8</td>\n",
              "      <td>69.5</td>\n",
              "      <td>NaN</td>\n",
              "      <td>37.3</td>\n",
              "      <td>32.5</td>\n",
              "      <td>15.8</td>\n",
              "      <td>96.772172</td>\n",
              "      <td>0.454403</td>\n",
              "      <td>0.376058</td>\n",
              "      <td>0.893137</td>\n",
              "      <td>57.241116</td>\n",
              "      <td>8.012821</td>\n",
              "      <td>148.9</td>\n",
              "    </tr>\n",
              "    <tr>\n",
              "      <th>7</th>\n",
              "      <td>419.0</td>\n",
              "      <td>189</td>\n",
              "      <td>426.3</td>\n",
              "      <td>39922</td>\n",
              "      <td>82005</td>\n",
              "      <td>17.2</td>\n",
              "      <td>512.163892</td>\n",
              "      <td>(37413.8, 40362.7]</td>\n",
              "      <td>40.5</td>\n",
              "      <td>39.4</td>\n",
              "      <td>41.9</td>\n",
              "      <td>Cullman County, Alabama</td>\n",
              "      <td>2.550</td>\n",
              "      <td>57.6</td>\n",
              "      <td>20.6</td>\n",
              "      <td>30.6</td>\n",
              "      <td>44.7</td>\n",
              "      <td>4.1</td>\n",
              "      <td>34.7</td>\n",
              "      <td>9.1</td>\n",
              "      <td>49.7</td>\n",
              "      <td>7.3</td>\n",
              "      <td>62.6</td>\n",
              "      <td>47.9</td>\n",
              "      <td>42.1</td>\n",
              "      <td>35.3</td>\n",
              "      <td>19.0</td>\n",
              "      <td>95.693201</td>\n",
              "      <td>1.190638</td>\n",
              "      <td>0.557031</td>\n",
              "      <td>0.737356</td>\n",
              "      <td>54.850257</td>\n",
              "      <td>3.913309</td>\n",
              "      <td>187.9</td>\n",
              "    </tr>\n",
              "    <tr>\n",
              "      <th>8</th>\n",
              "      <td>929.0</td>\n",
              "      <td>355</td>\n",
              "      <td>507.3</td>\n",
              "      <td>42728</td>\n",
              "      <td>152692</td>\n",
              "      <td>18.0</td>\n",
              "      <td>438.791816</td>\n",
              "      <td>(42724.4, 45201]</td>\n",
              "      <td>41.3</td>\n",
              "      <td>39.9</td>\n",
              "      <td>42.8</td>\n",
              "      <td>Penobscot County, Maine</td>\n",
              "      <td>2.360</td>\n",
              "      <td>48.0</td>\n",
              "      <td>10.2</td>\n",
              "      <td>21.9</td>\n",
              "      <td>58.4</td>\n",
              "      <td>9.5</td>\n",
              "      <td>34.9</td>\n",
              "      <td>15.6</td>\n",
              "      <td>56.1</td>\n",
              "      <td>7.8</td>\n",
              "      <td>63.3</td>\n",
              "      <td>NaN</td>\n",
              "      <td>42.4</td>\n",
              "      <td>39.4</td>\n",
              "      <td>20.7</td>\n",
              "      <td>95.200636</td>\n",
              "      <td>0.825746</td>\n",
              "      <td>1.099474</td>\n",
              "      <td>0.158371</td>\n",
              "      <td>48.025753</td>\n",
              "      <td>4.133114</td>\n",
              "      <td>187.5</td>\n",
              "    </tr>\n",
              "    <tr>\n",
              "      <th>9</th>\n",
              "      <td>1081.0</td>\n",
              "      <td>367</td>\n",
              "      <td>490.9</td>\n",
              "      <td>53733</td>\n",
              "      <td>212284</td>\n",
              "      <td>15.7</td>\n",
              "      <td>249.665542</td>\n",
              "      <td>(51046.4, 54545.6]</td>\n",
              "      <td>36.5</td>\n",
              "      <td>35.6</td>\n",
              "      <td>37.5</td>\n",
              "      <td>Whatcom County, Washington</td>\n",
              "      <td>2.530</td>\n",
              "      <td>47.5</td>\n",
              "      <td>9.4</td>\n",
              "      <td>22.1</td>\n",
              "      <td>NaN</td>\n",
              "      <td>7.7</td>\n",
              "      <td>23.0</td>\n",
              "      <td>21.3</td>\n",
              "      <td>57.8</td>\n",
              "      <td>8.2</td>\n",
              "      <td>68.7</td>\n",
              "      <td>54.6</td>\n",
              "      <td>44.8</td>\n",
              "      <td>31.9</td>\n",
              "      <td>17.4</td>\n",
              "      <td>85.470304</td>\n",
              "      <td>0.880734</td>\n",
              "      <td>3.925157</td>\n",
              "      <td>2.425881</td>\n",
              "      <td>48.068750</td>\n",
              "      <td>4.472986</td>\n",
              "      <td>163.3</td>\n",
              "    </tr>\n",
              "  </tbody>\n",
              "</table>\n",
              "</div>"
            ],
            "text/plain": [
              "   avgAnnCount  avgDeathsPerYear  ...  BirthRate  TARGET_deathRate\n",
              "0         19.0                 8  ...  15.157116             160.3\n",
              "1         88.0                34  ...   3.293510             194.9\n",
              "2        195.0                83  ...   6.390328             196.5\n",
              "3        116.0                55  ...   5.124836             230.9\n",
              "4         80.0                35  ...   3.897033             162.2\n",
              "5         49.0                24  ...   2.790179             219.7\n",
              "6         44.0                14  ...   8.012821             148.9\n",
              "7        419.0               189  ...   3.913309             187.9\n",
              "8        929.0               355  ...   4.133114             187.5\n",
              "9       1081.0               367  ...   4.472986             163.3\n",
              "\n",
              "[10 rows x 34 columns]"
            ]
          },
          "metadata": {
            "tags": []
          },
          "execution_count": 6
        }
      ]
    },
    {
      "cell_type": "code",
      "metadata": {
        "colab": {
          "base_uri": "https://localhost:8080/"
        },
        "id": "PWqF9wzY8SJy",
        "outputId": "731d7017-2d81-42e2-9c19-089094d78e53"
      },
      "source": [
        "cancer_data.isnull().sum()"
      ],
      "execution_count": 7,
      "outputs": [
        {
          "output_type": "execute_result",
          "data": {
            "text/plain": [
              "avgAnnCount                   0\n",
              "avgDeathsPerYear              0\n",
              "incidenceRate                 0\n",
              "medIncome                     0\n",
              "popEst2015                    0\n",
              "povertyPercent                0\n",
              "studyPerCap                   0\n",
              "binnedInc                     0\n",
              "MedianAge                     0\n",
              "MedianAgeMale                 0\n",
              "MedianAgeFemale               0\n",
              "Geography                     0\n",
              "AvgHouseholdSize              0\n",
              "PercentMarried                0\n",
              "PctNoHS18_24                  0\n",
              "PctHS18_24                    0\n",
              "PctSomeCol18_24            2266\n",
              "PctBachDeg18_24               0\n",
              "PctHS25_Over                  0\n",
              "PctBachDeg25_Over             0\n",
              "PctEmployed16_Over          152\n",
              "PctUnemployed16_Over          0\n",
              "PctPrivateCoverage            0\n",
              "PctPrivateCoverageAlone     604\n",
              "PctEmpPrivCoverage            0\n",
              "PctPublicCoverage             0\n",
              "PctPublicCoverageAlone        0\n",
              "PctWhite                      0\n",
              "PctBlack                      0\n",
              "PctAsian                      0\n",
              "PctOtherRace                  0\n",
              "PctMarriedHouseholds          0\n",
              "BirthRate                     0\n",
              "TARGET_deathRate              0\n",
              "dtype: int64"
            ]
          },
          "metadata": {
            "tags": []
          },
          "execution_count": 7
        }
      ]
    },
    {
      "cell_type": "code",
      "metadata": {
        "colab": {
          "base_uri": "https://localhost:8080/"
        },
        "id": "lwWLu1lc_lAF",
        "outputId": "f0a90178-8e06-42d0-a058-b8f294158902"
      },
      "source": [
        "input = cancer_data.copy()\r\n",
        "input.shape"
      ],
      "execution_count": 8,
      "outputs": [
        {
          "output_type": "execute_result",
          "data": {
            "text/plain": [
              "(3051, 34)"
            ]
          },
          "metadata": {
            "tags": []
          },
          "execution_count": 8
        }
      ]
    },
    {
      "cell_type": "code",
      "metadata": {
        "colab": {
          "base_uri": "https://localhost:8080/"
        },
        "id": "MlvOZ420_-p8",
        "outputId": "e7e2603b-cc11-4eed-8b46-a0e61d8c6e46"
      },
      "source": [
        "del input['TARGET_deathRate']   # Removing non-floating values\r\n",
        "del input['Geography']\r\n",
        "\r\n",
        "input.shape"
      ],
      "execution_count": 11,
      "outputs": [
        {
          "output_type": "execute_result",
          "data": {
            "text/plain": [
              "(3051, 33)"
            ]
          },
          "metadata": {
            "tags": []
          },
          "execution_count": 11
        }
      ]
    },
    {
      "cell_type": "code",
      "metadata": {
        "id": "bEeYcGTFCbMv"
      },
      "source": [
        "del input['binnedInc']"
      ],
      "execution_count": 17,
      "outputs": []
    },
    {
      "cell_type": "code",
      "metadata": {
        "colab": {
          "base_uri": "https://localhost:8080/"
        },
        "id": "QwHZokgVCDEq",
        "outputId": "2fd0aa44-4b4f-41ab-97d5-043309686b1b"
      },
      "source": [
        "input.dtypes"
      ],
      "execution_count": 18,
      "outputs": [
        {
          "output_type": "execute_result",
          "data": {
            "text/plain": [
              "avgAnnCount                float64\n",
              "avgDeathsPerYear             int64\n",
              "incidenceRate              float64\n",
              "medIncome                    int64\n",
              "popEst2015                   int64\n",
              "povertyPercent             float64\n",
              "studyPerCap                float64\n",
              "MedianAge                  float64\n",
              "MedianAgeMale              float64\n",
              "MedianAgeFemale            float64\n",
              "AvgHouseholdSize           float64\n",
              "PercentMarried             float64\n",
              "PctNoHS18_24               float64\n",
              "PctHS18_24                 float64\n",
              "PctSomeCol18_24            float64\n",
              "PctBachDeg18_24            float64\n",
              "PctHS25_Over               float64\n",
              "PctBachDeg25_Over          float64\n",
              "PctEmployed16_Over         float64\n",
              "PctUnemployed16_Over       float64\n",
              "PctPrivateCoverage         float64\n",
              "PctPrivateCoverageAlone    float64\n",
              "PctEmpPrivCoverage         float64\n",
              "PctPublicCoverage          float64\n",
              "PctPublicCoverageAlone     float64\n",
              "PctWhite                   float64\n",
              "PctBlack                   float64\n",
              "PctAsian                   float64\n",
              "PctOtherRace               float64\n",
              "PctMarriedHouseholds       float64\n",
              "BirthRate                  float64\n",
              "dtype: object"
            ]
          },
          "metadata": {
            "tags": []
          },
          "execution_count": 18
        }
      ]
    },
    {
      "cell_type": "code",
      "metadata": {
        "colab": {
          "base_uri": "https://localhost:8080/"
        },
        "id": "7n0d2q9mBSPm",
        "outputId": "36f24dd0-a16f-4c64-945e-1ba122f9406c"
      },
      "source": [
        "from sklearn.feature_selection import VarianceThreshold\r\n",
        "\r\n",
        "var = VarianceThreshold()\r\n",
        "\r\n",
        "# Perform variance thresholding\r\n",
        "var.fit_transform(input)\r\n",
        "\r\n",
        "# Print the name and variance of each feature\r\n",
        "for feature in zip(input.columns, var.variances_):\r\n",
        "    print(feature)"
      ],
      "execution_count": 19,
      "outputs": [
        {
          "output_type": "execute_result",
          "data": {
            "text/plain": [
              "array([[1.90000000e+01, 8.00000000e+00, 4.81500000e+02, ...,\n",
              "        0.00000000e+00, 6.25114574e+01, 1.51571165e+01],\n",
              "       [8.80000000e+01, 3.40000000e+01, 4.86000000e+02, ...,\n",
              "        4.03714170e-02, 6.16410446e+01, 3.29350985e+00],\n",
              "       [1.95000000e+02, 8.30000000e+01, 4.75700000e+02, ...,\n",
              "        8.23497120e-02, 5.39781022e+01, 6.39032815e+00],\n",
              "       ...,\n",
              "       [1.96266768e+03, 7.00000000e+00, 4.53549422e+02, ...,\n",
              "        1.52746181e+00, 5.71945047e+01, 9.72515856e+00],\n",
              "       [8.50000000e+01, 4.80000000e+01, 3.83800000e+02, ...,\n",
              "        2.58945386e-01, 5.20607726e+01, 6.28321350e+00],\n",
              "       [5.50000000e+01, 2.70000000e+01, 3.41600000e+02, ...,\n",
              "        5.37389562e-01, 5.07900160e+01, 1.00469484e+01]])"
            ]
          },
          "metadata": {
            "tags": []
          },
          "execution_count": 19
        },
        {
          "output_type": "stream",
          "text": [
            "('avgAnnCount', 24959.0)\n",
            "('avgDeathsPerYear', 9442.0)\n",
            "('incidenceRate', 995.8000000000001)\n",
            "('medIncome', 102995.0)\n",
            "('popEst2015', 5237389.0)\n",
            "('povertyPercent', 40.18828383771095)\n",
            "('studyPerCap', 9762.308998)\n",
            "('MedianAge', 503.3)\n",
            "('MedianAgeMale', 26.79905198643706)\n",
            "('MedianAgeFemale', 27.589938359158378)\n",
            "('AvgHouseholdSize', 0.18477603545548893)\n",
            "('PercentMarried', 46.39966134760744)\n",
            "('PctNoHS18_24', 64.1)\n",
            "('PctHS18_24', 72.5)\n",
            "('PctSomeCol18_24', 123.20843188770336)\n",
            "('PctBachDeg18_24', 20.715933863746013)\n",
            "('PctHS25_Over', 47.3)\n",
            "('PctBachDeg25_Over', 28.7238525166134)\n",
            "('PctEmployed16_Over', 68.33055610164489)\n",
            "('PctUnemployed16_Over', 11.932167852075732)\n",
            "('PctPrivateCoverage', 68.9)\n",
            "('PctPrivateCoverageAlone', 100.18352571366255)\n",
            "('PctEmpPrivCoverage', 56.400000000000006)\n",
            "('PctPublicCoverage', 53.3)\n",
            "('PctPublicCoverageAlone', 36.26661283258354)\n",
            "('PctWhite', 88.99123792)\n",
            "('PctBlack', 84.86602358)\n",
            "('PctAsian', 5.614730498794067)\n",
            "('PctOtherRace', 10.463115313927487)\n",
            "('PctMarriedHouseholds', 42.56119420130637)\n",
            "('BirthRate', 3.8215568427045588)\n"
          ],
          "name": "stdout"
        }
      ]
    },
    {
      "cell_type": "code",
      "metadata": {
        "colab": {
          "base_uri": "https://localhost:8080/",
          "height": 1000
        },
        "id": "IOMSwi9gCw5t",
        "outputId": "54c4383e-c687-409b-f877-32443a07ef9c"
      },
      "source": [
        "# Create a bar chart for visualizing the variances\r\n",
        "import matplotlib.pyplot as plt\r\n",
        "%matplotlib inline\r\n",
        "\r\n",
        "plt.figure(figsize=(20,8))\r\n",
        "plt.bar(x=input.columns, height=var.variances_)\r\n",
        "plt.xticks(rotation='vertical')\r\n",
        "plt.ylabel('Variance')\r\n",
        "plt.title('Variance Comparison')\r\n",
        "\r\n",
        "plt.show()"
      ],
      "execution_count": 27,
      "outputs": [
        {
          "output_type": "execute_result",
          "data": {
            "text/plain": [
              "<Figure size 1440x576 with 0 Axes>"
            ]
          },
          "metadata": {
            "tags": []
          },
          "execution_count": 27
        },
        {
          "output_type": "execute_result",
          "data": {
            "text/plain": [
              "<BarContainer object of 31 artists>"
            ]
          },
          "metadata": {
            "tags": []
          },
          "execution_count": 27
        },
        {
          "output_type": "execute_result",
          "data": {
            "text/plain": [
              "([0,\n",
              "  1,\n",
              "  2,\n",
              "  3,\n",
              "  4,\n",
              "  5,\n",
              "  6,\n",
              "  7,\n",
              "  8,\n",
              "  9,\n",
              "  10,\n",
              "  11,\n",
              "  12,\n",
              "  13,\n",
              "  14,\n",
              "  15,\n",
              "  16,\n",
              "  17,\n",
              "  18,\n",
              "  19,\n",
              "  20,\n",
              "  21,\n",
              "  22,\n",
              "  23,\n",
              "  24,\n",
              "  25,\n",
              "  26,\n",
              "  27,\n",
              "  28,\n",
              "  29,\n",
              "  30],\n",
              " <a list of 31 Text major ticklabel objects>)"
            ]
          },
          "metadata": {
            "tags": []
          },
          "execution_count": 27
        },
        {
          "output_type": "execute_result",
          "data": {
            "text/plain": [
              "Text(0, 0.5, 'Variance')"
            ]
          },
          "metadata": {
            "tags": []
          },
          "execution_count": 27
        },
        {
          "output_type": "execute_result",
          "data": {
            "text/plain": [
              "Text(0.5, 1.0, 'Variance Comparison')"
            ]
          },
          "metadata": {
            "tags": []
          },
          "execution_count": 27
        },
        {
          "output_type": "display_data",
          "data": {
            "image/png": "[encoded data removed]",
            "text/plain": [
              "<Figure size 1440x576 with 1 Axes>"
            ]
          },
          "metadata": {
            "tags": [],
            "needs_background": "light"
          }
        }
      ]
    },
    {
      "cell_type": "code",
      "metadata": {
        "id": "3O6YlGhpMqki"
      },
      "source": [
        "# This is least contributing due to mimimum variance so dropping AvgHouseholdSize\r\n",
        "\r\n",
        "del input['AvgHouseholdSize']"
      ],
      "execution_count": 28,
      "outputs": []
    },
    {
      "cell_type": "code",
      "metadata": {
        "id": "nZOa1OmHO0IJ"
      },
      "source": [
        "del input['PctSomeCol18_24']\r\n",
        "del input['PctEmployed16_Over']\r\n",
        "del input['PctPrivateCoverageAlone']"
      ],
      "execution_count": 37,
      "outputs": []
    },
    {
      "cell_type": "code",
      "metadata": {
        "colab": {
          "base_uri": "https://localhost:8080/"
        },
        "id": "av59izdDM3iP",
        "outputId": "0d42193d-c180-47c0-9e30-6d5c26ee3515"
      },
      "source": [
        "# getting target only\r\n",
        "\r\n",
        "target = cancer_data['TARGET_deathRate']\r\n",
        "\r\n",
        "target.shape"
      ],
      "execution_count": 29,
      "outputs": [
        {
          "output_type": "execute_result",
          "data": {
            "text/plain": [
              "(3051,)"
            ]
          },
          "metadata": {
            "tags": []
          },
          "execution_count": 29
        }
      ]
    },
    {
      "cell_type": "code",
      "metadata": {
        "colab": {
          "base_uri": "https://localhost:8080/",
          "height": 708
        },
        "id": "uNo_aUwwOZjh",
        "outputId": "fe901e0f-a391-4823-c237-507aacaeb00f"
      },
      "source": [
        "input.dtypes\r\n",
        "\r\n",
        "input.head(5)"
      ],
      "execution_count": 38,
      "outputs": [
        {
          "output_type": "execute_result",
          "data": {
            "text/plain": [
              "avgAnnCount               float64\n",
              "avgDeathsPerYear            int64\n",
              "incidenceRate             float64\n",
              "medIncome                   int64\n",
              "popEst2015                  int64\n",
              "povertyPercent            float64\n",
              "studyPerCap               float64\n",
              "MedianAge                 float64\n",
              "MedianAgeMale             float64\n",
              "MedianAgeFemale           float64\n",
              "PercentMarried            float64\n",
              "PctNoHS18_24              float64\n",
              "PctHS18_24                float64\n",
              "PctBachDeg18_24           float64\n",
              "PctHS25_Over              float64\n",
              "PctBachDeg25_Over         float64\n",
              "PctUnemployed16_Over      float64\n",
              "PctPrivateCoverage        float64\n",
              "PctEmpPrivCoverage        float64\n",
              "PctPublicCoverage         float64\n",
              "PctPublicCoverageAlone    float64\n",
              "PctWhite                  float64\n",
              "PctBlack                  float64\n",
              "PctAsian                  float64\n",
              "PctOtherRace              float64\n",
              "PctMarriedHouseholds      float64\n",
              "BirthRate                 float64\n",
              "dtype: object"
            ]
          },
          "metadata": {
            "tags": []
          },
          "execution_count": 38
        },
        {
          "output_type": "execute_result",
          "data": {
            "text/html": [
              "<div>\n",
              "<style scoped>\n",
              "    .dataframe tbody tr th:only-of-type {\n",
              "        vertical-align: middle;\n",
              "    }\n",
              "\n",
              "    .dataframe tbody tr th {\n",
              "        vertical-align: top;\n",
              "    }\n",
              "\n",
              "    .dataframe thead th {\n",
              "        text-align: right;\n",
              "    }\n",
              "</style>\n",
              "<table border=\"1\" class=\"dataframe\">\n",
              "  <thead>\n",
              "    <tr style=\"text-align: right;\">\n",
              "      <th></th>\n",
              "      <th>avgAnnCount</th>\n",
              "      <th>avgDeathsPerYear</th>\n",
              "      <th>incidenceRate</th>\n",
              "      <th>medIncome</th>\n",
              "      <th>popEst2015</th>\n",
              "      <th>povertyPercent</th>\n",
              "      <th>studyPerCap</th>\n",
              "      <th>MedianAge</th>\n",
              "      <th>MedianAgeMale</th>\n",
              "      <th>MedianAgeFemale</th>\n",
              "      <th>PercentMarried</th>\n",
              "      <th>PctNoHS18_24</th>\n",
              "      <th>PctHS18_24</th>\n",
              "      <th>PctBachDeg18_24</th>\n",
              "      <th>PctHS25_Over</th>\n",
              "      <th>PctBachDeg25_Over</th>\n",
              "      <th>PctUnemployed16_Over</th>\n",
              "      <th>PctPrivateCoverage</th>\n",
              "      <th>PctEmpPrivCoverage</th>\n",
              "      <th>PctPublicCoverage</th>\n",
              "      <th>PctPublicCoverageAlone</th>\n",
              "      <th>PctWhite</th>\n",
              "      <th>PctBlack</th>\n",
              "      <th>PctAsian</th>\n",
              "      <th>PctOtherRace</th>\n",
              "      <th>PctMarriedHouseholds</th>\n",
              "      <th>BirthRate</th>\n",
              "    </tr>\n",
              "  </thead>\n",
              "  <tbody>\n",
              "    <tr>\n",
              "      <th>0</th>\n",
              "      <td>19.0</td>\n",
              "      <td>8</td>\n",
              "      <td>481.5</td>\n",
              "      <td>50038</td>\n",
              "      <td>2704</td>\n",
              "      <td>11.1</td>\n",
              "      <td>0.0</td>\n",
              "      <td>48.4</td>\n",
              "      <td>49.6</td>\n",
              "      <td>46.4</td>\n",
              "      <td>65.9</td>\n",
              "      <td>10.8</td>\n",
              "      <td>25.0</td>\n",
              "      <td>6.8</td>\n",
              "      <td>37.1</td>\n",
              "      <td>12.2</td>\n",
              "      <td>1.1</td>\n",
              "      <td>81.2</td>\n",
              "      <td>35.7</td>\n",
              "      <td>34.7</td>\n",
              "      <td>9.9</td>\n",
              "      <td>96.032049</td>\n",
              "      <td>0.724914</td>\n",
              "      <td>0.000000</td>\n",
              "      <td>0.000000</td>\n",
              "      <td>62.511457</td>\n",
              "      <td>15.157116</td>\n",
              "    </tr>\n",
              "    <tr>\n",
              "      <th>1</th>\n",
              "      <td>88.0</td>\n",
              "      <td>34</td>\n",
              "      <td>486.0</td>\n",
              "      <td>59399</td>\n",
              "      <td>14844</td>\n",
              "      <td>9.7</td>\n",
              "      <td>0.0</td>\n",
              "      <td>41.9</td>\n",
              "      <td>41.3</td>\n",
              "      <td>43.2</td>\n",
              "      <td>58.6</td>\n",
              "      <td>22.3</td>\n",
              "      <td>29.1</td>\n",
              "      <td>1.1</td>\n",
              "      <td>35.9</td>\n",
              "      <td>16.0</td>\n",
              "      <td>3.8</td>\n",
              "      <td>76.7</td>\n",
              "      <td>50.8</td>\n",
              "      <td>32.1</td>\n",
              "      <td>12.8</td>\n",
              "      <td>97.537344</td>\n",
              "      <td>0.719957</td>\n",
              "      <td>0.080743</td>\n",
              "      <td>0.040371</td>\n",
              "      <td>61.641045</td>\n",
              "      <td>3.293510</td>\n",
              "    </tr>\n",
              "    <tr>\n",
              "      <th>2</th>\n",
              "      <td>195.0</td>\n",
              "      <td>83</td>\n",
              "      <td>475.7</td>\n",
              "      <td>39721</td>\n",
              "      <td>25164</td>\n",
              "      <td>18.5</td>\n",
              "      <td>0.0</td>\n",
              "      <td>48.9</td>\n",
              "      <td>47.9</td>\n",
              "      <td>49.9</td>\n",
              "      <td>57.2</td>\n",
              "      <td>24.9</td>\n",
              "      <td>36.2</td>\n",
              "      <td>3.5</td>\n",
              "      <td>40.2</td>\n",
              "      <td>7.6</td>\n",
              "      <td>11.0</td>\n",
              "      <td>61.6</td>\n",
              "      <td>32.1</td>\n",
              "      <td>49.8</td>\n",
              "      <td>21.6</td>\n",
              "      <td>97.576566</td>\n",
              "      <td>0.360770</td>\n",
              "      <td>0.411749</td>\n",
              "      <td>0.082350</td>\n",
              "      <td>53.978102</td>\n",
              "      <td>6.390328</td>\n",
              "    </tr>\n",
              "    <tr>\n",
              "      <th>3</th>\n",
              "      <td>116.0</td>\n",
              "      <td>55</td>\n",
              "      <td>496.6</td>\n",
              "      <td>30299</td>\n",
              "      <td>17917</td>\n",
              "      <td>28.1</td>\n",
              "      <td>0.0</td>\n",
              "      <td>44.2</td>\n",
              "      <td>42.7</td>\n",
              "      <td>45.2</td>\n",
              "      <td>53.0</td>\n",
              "      <td>10.9</td>\n",
              "      <td>51.8</td>\n",
              "      <td>5.3</td>\n",
              "      <td>44.2</td>\n",
              "      <td>7.0</td>\n",
              "      <td>10.4</td>\n",
              "      <td>45.2</td>\n",
              "      <td>24.2</td>\n",
              "      <td>53.2</td>\n",
              "      <td>33.0</td>\n",
              "      <td>97.908650</td>\n",
              "      <td>0.161731</td>\n",
              "      <td>0.306731</td>\n",
              "      <td>0.340193</td>\n",
              "      <td>51.013143</td>\n",
              "      <td>5.124836</td>\n",
              "    </tr>\n",
              "    <tr>\n",
              "      <th>4</th>\n",
              "      <td>80.0</td>\n",
              "      <td>35</td>\n",
              "      <td>372.0</td>\n",
              "      <td>39625</td>\n",
              "      <td>14058</td>\n",
              "      <td>17.4</td>\n",
              "      <td>0.0</td>\n",
              "      <td>45.0</td>\n",
              "      <td>42.2</td>\n",
              "      <td>48.0</td>\n",
              "      <td>52.2</td>\n",
              "      <td>12.6</td>\n",
              "      <td>31.2</td>\n",
              "      <td>0.2</td>\n",
              "      <td>28.3</td>\n",
              "      <td>10.5</td>\n",
              "      <td>9.2</td>\n",
              "      <td>56.6</td>\n",
              "      <td>33.4</td>\n",
              "      <td>43.0</td>\n",
              "      <td>24.7</td>\n",
              "      <td>82.672551</td>\n",
              "      <td>1.834103</td>\n",
              "      <td>0.682617</td>\n",
              "      <td>8.253465</td>\n",
              "      <td>50.566426</td>\n",
              "      <td>3.897033</td>\n",
              "    </tr>\n",
              "  </tbody>\n",
              "</table>\n",
              "</div>"
            ],
            "text/plain": [
              "   avgAnnCount  avgDeathsPerYear  ...  PctMarriedHouseholds  BirthRate\n",
              "0         19.0                 8  ...             62.511457  15.157116\n",
              "1         88.0                34  ...             61.641045   3.293510\n",
              "2        195.0                83  ...             53.978102   6.390328\n",
              "3        116.0                55  ...             51.013143   5.124836\n",
              "4         80.0                35  ...             50.566426   3.897033\n",
              "\n",
              "[5 rows x 27 columns]"
            ]
          },
          "metadata": {
            "tags": []
          },
          "execution_count": 38
        }
      ]
    },
    {
      "cell_type": "code",
      "metadata": {
        "colab": {
          "base_uri": "https://localhost:8080/"
        },
        "id": "EHzongLTPjX7",
        "outputId": "a31d2bb7-cba2-4086-d787-5ef388924b86"
      },
      "source": [
        "target.dtypes"
      ],
      "execution_count": 41,
      "outputs": [
        {
          "output_type": "execute_result",
          "data": {
            "text/plain": [
              "dtype('float64')"
            ]
          },
          "metadata": {
            "tags": []
          },
          "execution_count": 41
        }
      ]
    },
    {
      "cell_type": "code",
      "metadata": {
        "colab": {
          "base_uri": "https://localhost:8080/"
        },
        "id": "VauhL_v3NIqw",
        "outputId": "1dc7fdab-8aa1-4c94-f8fb-9c5632ecb4cc"
      },
      "source": [
        "\r\n",
        "from sklearn.linear_model import LinearRegression\r\n",
        "\r\n",
        "# create the model object\r\n",
        "lr = LinearRegression()\r\n",
        "\r\n",
        "# fit the model on train data\r\n",
        "lr.fit(input, target)"
      ],
      "execution_count": 42,
      "outputs": [
        {
          "output_type": "execute_result",
          "data": {
            "text/plain": [
              "LinearRegression(copy_X=True, fit_intercept=True, n_jobs=None, normalize=False)"
            ]
          },
          "metadata": {
            "tags": []
          },
          "execution_count": 42
        }
      ]
    },
    {
      "cell_type": "code",
      "metadata": {
        "colab": {
          "base_uri": "https://localhost:8080/"
        },
        "id": "FbnfCkXfRf1F",
        "outputId": "3f5234f0-ddf8-4945-8886-4c8ba812e54f"
      },
      "source": [
        "input.shape"
      ],
      "execution_count": 47,
      "outputs": [
        {
          "output_type": "execute_result",
          "data": {
            "text/plain": [
              "(3051, 27)"
            ]
          },
          "metadata": {
            "tags": []
          },
          "execution_count": 47
        }
      ]
    },
    {
      "cell_type": "code",
      "metadata": {
        "colab": {
          "base_uri": "https://localhost:8080/"
        },
        "id": "BpbvZOP6Qnzt",
        "outputId": "159dcf74-b723-44e1-b0c7-582fcbb630c5"
      },
      "source": [
        "\r\n",
        "del test_data['PctSomeCol18_24']\r\n",
        "del test_data['PctEmployed16_Over']\r\n",
        "del test_data['PctPrivateCoverageAlone']\r\n",
        "del test_data['AvgHouseholdSize']\r\n",
        " # Removing non-floating values\r\n",
        "del test_data['Geography']\r\n",
        "del test_data['binnedInc']\r\n",
        "\r\n",
        "test_data.shape"
      ],
      "execution_count": 46,
      "outputs": [
        {
          "output_type": "execute_result",
          "data": {
            "text/plain": [
              "(762, 27)"
            ]
          },
          "metadata": {
            "tags": []
          },
          "execution_count": 46
        }
      ]
    },
    {
      "cell_type": "code",
      "metadata": {
        "colab": {
          "base_uri": "https://localhost:8080/",
          "height": 195
        },
        "id": "qhhm75lUQoND",
        "outputId": "e634cfb0-ea45-4124-b9a4-501b468b4523"
      },
      "source": [
        "#Predictions on the Test data\r\n",
        "predictions_lr = lr.predict(test_data)\r\n",
        "\r\n",
        "#Putting the above predictions and probabilities together to create a readable df\r\n",
        "lr_df = pd.DataFrame(predictions_lr.reshape(len(predictions_lr),1))\r\n",
        "lr_df.rename(columns={0:'prediction'}, inplace=True)\r\n",
        "lr_df.head(5)"
      ],
      "execution_count": 49,
      "outputs": [
        {
          "output_type": "execute_result",
          "data": {
            "text/html": [
              "<div>\n",
              "<style scoped>\n",
              "    .dataframe tbody tr th:only-of-type {\n",
              "        vertical-align: middle;\n",
              "    }\n",
              "\n",
              "    .dataframe tbody tr th {\n",
              "        vertical-align: top;\n",
              "    }\n",
              "\n",
              "    .dataframe thead th {\n",
              "        text-align: right;\n",
              "    }\n",
              "</style>\n",
              "<table border=\"1\" class=\"dataframe\">\n",
              "  <thead>\n",
              "    <tr style=\"text-align: right;\">\n",
              "      <th></th>\n",
              "      <th>prediction</th>\n",
              "    </tr>\n",
              "  </thead>\n",
              "  <tbody>\n",
              "    <tr>\n",
              "      <th>0</th>\n",
              "      <td>162.545533</td>\n",
              "    </tr>\n",
              "    <tr>\n",
              "      <th>1</th>\n",
              "      <td>194.783486</td>\n",
              "    </tr>\n",
              "    <tr>\n",
              "      <th>2</th>\n",
              "      <td>155.910328</td>\n",
              "    </tr>\n",
              "    <tr>\n",
              "      <th>3</th>\n",
              "      <td>152.715270</td>\n",
              "    </tr>\n",
              "    <tr>\n",
              "      <th>4</th>\n",
              "      <td>156.977817</td>\n",
              "    </tr>\n",
              "  </tbody>\n",
              "</table>\n",
              "</div>"
            ],
            "text/plain": [
              "   prediction\n",
              "0  162.545533\n",
              "1  194.783486\n",
              "2  155.910328\n",
              "3  152.715270\n",
              "4  156.977817"
            ]
          },
          "metadata": {
            "tags": []
          },
          "execution_count": 49
        }
      ]
    },
    {
      "cell_type": "code",
      "metadata": {
        "id": "nv1tL2FKR3Wq"
      },
      "source": [
        "import numpy\r\n",
        "numpy.savetxt(\"cancer.csv\", lr_df, delimiter=\",\")"
      ],
      "execution_count": 51,
      "outputs": []
    }
  ]
}