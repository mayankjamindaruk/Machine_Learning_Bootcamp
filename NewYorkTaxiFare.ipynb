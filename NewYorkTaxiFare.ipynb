{
  "nbformat": 4,
  "nbformat_minor": 0,
  "metadata": {
    "colab": {
      "name": "NewYorkTaxiFare.ipynb",
      "provenance": [],
      "collapsed_sections": [],
      "toc_visible": true,
      "authorship_tag": "ABX9TyO5wUDS78pwlg7wOS4UPKTD",
      "include_colab_link": true
    },
    "kernelspec": {
      "name": "python3",
      "display_name": "Python 3"
    }
  },
  "cells": [
    {
      "cell_type": "markdown",
      "metadata": {
        "id": "view-in-github",
        "colab_type": "text"
      },
      "source": [
        "<a href=\"https://colab.research.google.com/github/mayankjamindaruk/Machine_Learning_Bootcamp/blob/master/NewYorkTaxiFare.ipynb\" target=\"_parent\"><img src=\"https://colab.research.google.com/assets/colab-badge.svg\" alt=\"Open In Colab\"/></a>"
      ]
    },
    {
      "cell_type": "code",
      "metadata": {
        "id": "Ts91S2GBGEAX"
      },
      "source": [
        "# To get the outpout in single window ?\r\n",
        "from IPython.core.interactiveshell import InteractiveShell\r\n",
        "InteractiveShell.ast_node_interactivity = \"all\"\r\n",
        "\r\n",
        "# Linear Algebra and multidimentional arrays\r\n",
        "import pandas as pd\r\n",
        "\r\n",
        "# Data analysis and manipulation tool\r\n",
        "import numpy as np\r\n",
        "\r\n",
        "# Random number generator\r\n",
        "import random \r\n",
        "\r\n",
        "# Specialized container data types, Counter is dictionary sub-class for counting hashtable objects\r\n",
        "from collections import Counter\r\n",
        "\r\n",
        "# Visualization libraries\r\n",
        "import matplotlib.pyplot as plt\r\n",
        "\r\n",
        "import seaborn as sns\r\n",
        "\r\n",
        "import warnings\r\n",
        "warnings.filterwarnings(\"ignore\")\r\n",
        "\r\n",
        "# setting option to set data rows as max 500\r\n",
        "pd.set_option('display.max_rows', 500)\r\n"
      ],
      "execution_count": null,
      "outputs": []
    },
    {
      "cell_type": "code",
      "metadata": {
        "colab": {
          "base_uri": "https://localhost:8080/"
        },
        "id": "I4AO0wkTGQAo",
        "outputId": "81d2764c-296b-46f7-83d2-f37326b146e2"
      },
      "source": [
        "# Getting pandas dataframe\r\n",
        "td = pd.read_csv('/content/nyc_yellow_taxi_data.csv')\r\n",
        "\r\n",
        "# get data volume\r\n",
        "td.shape"
      ],
      "execution_count": null,
      "outputs": [
        {
          "output_type": "execute_result",
          "data": {
            "text/plain": [
              "(1243241, 7)"
            ]
          },
          "metadata": {
            "tags": []
          },
          "execution_count": 30
        }
      ]
    },
    {
      "cell_type": "code",
      "metadata": {
        "colab": {
          "base_uri": "https://localhost:8080/",
          "height": 195
        },
        "id": "u6brbmX2HncU",
        "outputId": "6cf12bd6-6b40-4c7b-d4eb-898d3886dcc0"
      },
      "source": [
        "td.head()"
      ],
      "execution_count": null,
      "outputs": [
        {
          "output_type": "execute_result",
          "data": {
            "text/html": [
              "<div>\n",
              "<style scoped>\n",
              "    .dataframe tbody tr th:only-of-type {\n",
              "        vertical-align: middle;\n",
              "    }\n",
              "\n",
              "    .dataframe tbody tr th {\n",
              "        vertical-align: top;\n",
              "    }\n",
              "\n",
              "    .dataframe thead th {\n",
              "        text-align: right;\n",
              "    }\n",
              "</style>\n",
              "<table border=\"1\" class=\"dataframe\">\n",
              "  <thead>\n",
              "    <tr style=\"text-align: right;\">\n",
              "      <th></th>\n",
              "      <th>VendorID</th>\n",
              "      <th>tpep_pickup_datetime</th>\n",
              "      <th>tpep_dropoff_datetime</th>\n",
              "      <th>passenger_count</th>\n",
              "      <th>PULocationID</th>\n",
              "      <th>DOLocationID</th>\n",
              "      <th>fare_amount</th>\n",
              "    </tr>\n",
              "  </thead>\n",
              "  <tbody>\n",
              "    <tr>\n",
              "      <th>0</th>\n",
              "      <td>1.0</td>\n",
              "      <td>2020-01-01 00:28:15</td>\n",
              "      <td>2020-01-01 00:33:03</td>\n",
              "      <td>1.0</td>\n",
              "      <td>238</td>\n",
              "      <td>239</td>\n",
              "      <td>6.0</td>\n",
              "    </tr>\n",
              "    <tr>\n",
              "      <th>1</th>\n",
              "      <td>1.0</td>\n",
              "      <td>2020-01-01 00:35:39</td>\n",
              "      <td>2020-01-01 00:43:04</td>\n",
              "      <td>1.0</td>\n",
              "      <td>239</td>\n",
              "      <td>238</td>\n",
              "      <td>7.0</td>\n",
              "    </tr>\n",
              "    <tr>\n",
              "      <th>2</th>\n",
              "      <td>1.0</td>\n",
              "      <td>2020-01-01 00:47:41</td>\n",
              "      <td>2020-01-01 00:53:52</td>\n",
              "      <td>1.0</td>\n",
              "      <td>238</td>\n",
              "      <td>238</td>\n",
              "      <td>6.0</td>\n",
              "    </tr>\n",
              "    <tr>\n",
              "      <th>3</th>\n",
              "      <td>1.0</td>\n",
              "      <td>2020-01-01 00:55:23</td>\n",
              "      <td>2020-01-01 01:00:14</td>\n",
              "      <td>1.0</td>\n",
              "      <td>238</td>\n",
              "      <td>151</td>\n",
              "      <td>5.5</td>\n",
              "    </tr>\n",
              "    <tr>\n",
              "      <th>4</th>\n",
              "      <td>2.0</td>\n",
              "      <td>2020-01-01 00:01:58</td>\n",
              "      <td>2020-01-01 00:04:16</td>\n",
              "      <td>1.0</td>\n",
              "      <td>193</td>\n",
              "      <td>193</td>\n",
              "      <td>3.5</td>\n",
              "    </tr>\n",
              "  </tbody>\n",
              "</table>\n",
              "</div>"
            ],
            "text/plain": [
              "   VendorID tpep_pickup_datetime  ... DOLocationID  fare_amount\n",
              "0       1.0  2020-01-01 00:28:15  ...          239          6.0\n",
              "1       1.0  2020-01-01 00:35:39  ...          238          7.0\n",
              "2       1.0  2020-01-01 00:47:41  ...          238          6.0\n",
              "3       1.0  2020-01-01 00:55:23  ...          151          5.5\n",
              "4       2.0  2020-01-01 00:01:58  ...          193          3.5\n",
              "\n",
              "[5 rows x 7 columns]"
            ]
          },
          "metadata": {
            "tags": []
          },
          "execution_count": 34
        }
      ]
    },
    {
      "cell_type": "code",
      "metadata": {
        "colab": {
          "base_uri": "https://localhost:8080/"
        },
        "id": "5ODfY0xZHt1R",
        "outputId": "8c7f1a1a-2e92-4e40-d108-c4919f6b8a42"
      },
      "source": [
        "td.dtypes"
      ],
      "execution_count": null,
      "outputs": [
        {
          "output_type": "execute_result",
          "data": {
            "text/plain": [
              "VendorID                 float64\n",
              "tpep_pickup_datetime      object\n",
              "tpep_dropoff_datetime     object\n",
              "passenger_count          float64\n",
              "PULocationID             float64\n",
              "DOLocationID             float64\n",
              "fare_amount              float64\n",
              "dtype: object"
            ]
          },
          "metadata": {
            "tags": []
          },
          "execution_count": 6
        }
      ]
    },
    {
      "cell_type": "code",
      "metadata": {
        "colab": {
          "base_uri": "https://localhost:8080/"
        },
        "id": "_sOD3NyiH7m6",
        "outputId": "e7ab8e73-df18-4b4e-92f7-e7ae9c11fe6c"
      },
      "source": [
        "td.isnull().sum()"
      ],
      "execution_count": null,
      "outputs": [
        {
          "output_type": "execute_result",
          "data": {
            "text/plain": [
              "VendorID                 0\n",
              "tpep_pickup_datetime     1\n",
              "tpep_dropoff_datetime    1\n",
              "passenger_count          1\n",
              "PULocationID             1\n",
              "DOLocationID             1\n",
              "fare_amount              1\n",
              "dtype: int64"
            ]
          },
          "metadata": {
            "tags": []
          },
          "execution_count": 9
        }
      ]
    },
    {
      "cell_type": "code",
      "metadata": {
        "colab": {
          "base_uri": "https://localhost:8080/",
          "height": 284
        },
        "id": "JmM5e3g8Ib1v",
        "outputId": "5fad36b7-fd01-45a1-a225-91f95fd70614"
      },
      "source": [
        "td.describe()"
      ],
      "execution_count": null,
      "outputs": [
        {
          "output_type": "execute_result",
          "data": {
            "text/html": [
              "<div>\n",
              "<style scoped>\n",
              "    .dataframe tbody tr th:only-of-type {\n",
              "        vertical-align: middle;\n",
              "    }\n",
              "\n",
              "    .dataframe tbody tr th {\n",
              "        vertical-align: top;\n",
              "    }\n",
              "\n",
              "    .dataframe thead th {\n",
              "        text-align: right;\n",
              "    }\n",
              "</style>\n",
              "<table border=\"1\" class=\"dataframe\">\n",
              "  <thead>\n",
              "    <tr style=\"text-align: right;\">\n",
              "      <th></th>\n",
              "      <th>VendorID</th>\n",
              "      <th>passenger_count</th>\n",
              "      <th>PULocationID</th>\n",
              "      <th>DOLocationID</th>\n",
              "      <th>fare_amount</th>\n",
              "    </tr>\n",
              "  </thead>\n",
              "  <tbody>\n",
              "    <tr>\n",
              "      <th>count</th>\n",
              "      <td>1.227632e+06</td>\n",
              "      <td>1.227632e+06</td>\n",
              "      <td>1.243241e+06</td>\n",
              "      <td>1.243241e+06</td>\n",
              "      <td>1.243241e+06</td>\n",
              "    </tr>\n",
              "    <tr>\n",
              "      <th>mean</th>\n",
              "      <td>1.676771e+00</td>\n",
              "      <td>1.568692e+00</td>\n",
              "      <td>1.627453e+02</td>\n",
              "      <td>1.607467e+02</td>\n",
              "      <td>1.302977e+01</td>\n",
              "    </tr>\n",
              "    <tr>\n",
              "      <th>std</th>\n",
              "      <td>4.677094e-01</td>\n",
              "      <td>1.181809e+00</td>\n",
              "      <td>6.610786e+01</td>\n",
              "      <td>7.098176e+01</td>\n",
              "      <td>1.293962e+01</td>\n",
              "    </tr>\n",
              "    <tr>\n",
              "      <th>min</th>\n",
              "      <td>1.000000e+00</td>\n",
              "      <td>0.000000e+00</td>\n",
              "      <td>1.000000e+00</td>\n",
              "      <td>1.000000e+00</td>\n",
              "      <td>-1.238000e+03</td>\n",
              "    </tr>\n",
              "    <tr>\n",
              "      <th>25%</th>\n",
              "      <td>1.000000e+00</td>\n",
              "      <td>1.000000e+00</td>\n",
              "      <td>1.250000e+02</td>\n",
              "      <td>1.070000e+02</td>\n",
              "      <td>6.000000e+00</td>\n",
              "    </tr>\n",
              "    <tr>\n",
              "      <th>50%</th>\n",
              "      <td>2.000000e+00</td>\n",
              "      <td>1.000000e+00</td>\n",
              "      <td>1.610000e+02</td>\n",
              "      <td>1.620000e+02</td>\n",
              "      <td>9.000000e+00</td>\n",
              "    </tr>\n",
              "    <tr>\n",
              "      <th>75%</th>\n",
              "      <td>2.000000e+00</td>\n",
              "      <td>2.000000e+00</td>\n",
              "      <td>2.330000e+02</td>\n",
              "      <td>2.330000e+02</td>\n",
              "      <td>1.400000e+01</td>\n",
              "    </tr>\n",
              "    <tr>\n",
              "      <th>max</th>\n",
              "      <td>2.000000e+00</td>\n",
              "      <td>9.000000e+00</td>\n",
              "      <td>2.650000e+02</td>\n",
              "      <td>2.650000e+02</td>\n",
              "      <td>1.238000e+03</td>\n",
              "    </tr>\n",
              "  </tbody>\n",
              "</table>\n",
              "</div>"
            ],
            "text/plain": [
              "           VendorID  passenger_count  PULocationID  DOLocationID   fare_amount\n",
              "count  1.227632e+06     1.227632e+06  1.243241e+06  1.243241e+06  1.243241e+06\n",
              "mean   1.676771e+00     1.568692e+00  1.627453e+02  1.607467e+02  1.302977e+01\n",
              "std    4.677094e-01     1.181809e+00  6.610786e+01  7.098176e+01  1.293962e+01\n",
              "min    1.000000e+00     0.000000e+00  1.000000e+00  1.000000e+00 -1.238000e+03\n",
              "25%    1.000000e+00     1.000000e+00  1.250000e+02  1.070000e+02  6.000000e+00\n",
              "50%    2.000000e+00     1.000000e+00  1.610000e+02  1.620000e+02  9.000000e+00\n",
              "75%    2.000000e+00     2.000000e+00  2.330000e+02  2.330000e+02  1.400000e+01\n",
              "max    2.000000e+00     9.000000e+00  2.650000e+02  2.650000e+02  1.238000e+03"
            ]
          },
          "metadata": {
            "tags": []
          },
          "execution_count": 41
        }
      ]
    },
    {
      "cell_type": "code",
      "metadata": {
        "id": "JW9Rcq3XKUGn"
      },
      "source": [
        "td['PULocationID'].value_counts()"
      ],
      "execution_count": null,
      "outputs": []
    },
    {
      "cell_type": "code",
      "metadata": {
        "id": "aRhcA-t9LlWS"
      },
      "source": [
        "td['DOLocationID'].value_counts()"
      ],
      "execution_count": null,
      "outputs": []
    },
    {
      "cell_type": "code",
      "metadata": {
        "colab": {
          "base_uri": "https://localhost:8080/"
        },
        "id": "cx-vebTdRhfL",
        "outputId": "d160f17c-9296-491e-fa3b-436bd82f1cf0"
      },
      "source": [
        "print('tpep_pickup_datetime->')\r\n",
        "\r\n",
        "dateday = td[ (td['tpep_pickup_datetime'] >= '2020-01-01 00:00:00') & (td['tpep_pickup_datetime'] < '2020-01-02 00:00:00')]\r\n",
        "print('Wed:' , dateday.shape[0])\r\n",
        "\r\n",
        "dateday = td[ (td['tpep_pickup_datetime'] >= '2020-01-02 00:00:00') & (td['tpep_pickup_datetime'] < '2020-01-03 00:00:00')]\r\n",
        "print('Thur:' , dateday.shape[0])\r\n",
        "\r\n",
        "dateday = td[ (td['tpep_pickup_datetime'] >= '2020-01-03 00:00:00') & (td['tpep_pickup_datetime'] < '2020-01-04 00:00:00')]\r\n",
        "print('Fri:' , dateday.shape[0])\r\n",
        "\r\n",
        "dateday = td[ (td['tpep_pickup_datetime'] >= '2020-01-04 00:00:00') & (td['tpep_pickup_datetime'] < '2020-01-05 00:00:00')]\r\n",
        "print('Sat:' , dateday.shape[0])\r\n",
        "\r\n",
        "dateday = td[ (td['tpep_pickup_datetime'] >= '2020-01-05 00:00:00') & (td['tpep_pickup_datetime'] < '2020-01-06 00:00:00')]\r\n",
        "print('Sun:' , dateday.shape[0])\r\n",
        "\r\n",
        "dateday = td[ (td['tpep_pickup_datetime'] >= '2020-01-06 00:00:00') & (td['tpep_pickup_datetime'] < '2020-01-07 00:00:00')]\r\n",
        "print('Monday:' , dateday.shape[0])\r\n",
        "\r\n",
        "dateday = td[ (td['tpep_pickup_datetime'] >= '2020-01-07 00:00:00') & (td['tpep_pickup_datetime'] < '2020-01-08 00:00:00')]\r\n",
        "print('Tue:' , dateday.shape[0])\r\n"
      ],
      "execution_count": null,
      "outputs": [
        {
          "output_type": "stream",
          "text": [
            "tpep_pickup_datetime->\n",
            "Wed: 169437\n",
            "Thur: 162141\n",
            "Fri: 183477\n",
            "Sat: 182752\n",
            "Sun: 164399\n",
            "Monday: 179515\n",
            "Tue: 201520\n"
          ],
          "name": "stdout"
        }
      ]
    },
    {
      "cell_type": "code",
      "metadata": {
        "colab": {
          "base_uri": "https://localhost:8080/"
        },
        "id": "RX7j7rnRmeo4",
        "outputId": "1cba133b-8ac3-46f7-e958-3c8a1cacac4f"
      },
      "source": [
        "print('tpep_dropoff_datetime->')\r\n",
        "\r\n",
        "dateday = td[ (td['tpep_dropoff_datetime'] >= '2020-01-01 00:00:00') & (td['tpep_dropoff_datetime'] < '2020-01-02 00:00:00')]\r\n",
        "print('Wed:' , dateday.shape[0])\r\n",
        "\r\n",
        "dateday = td[ (td['tpep_dropoff_datetime'] >= '2020-01-02 00:00:00') & (td['tpep_dropoff_datetime'] < '2020-01-03 00:00:00')]\r\n",
        "print('Thur:' , dateday.shape[0])\r\n",
        "\r\n",
        "dateday = td[ (td['tpep_dropoff_datetime'] >= '2020-01-03 00:00:00') & (td['tpep_dropoff_datetime'] < '2020-01-04 00:00:00')]\r\n",
        "print('Fri:' , dateday.shape[0])\r\n",
        "\r\n",
        "dateday = td[ (td['tpep_dropoff_datetime'] >= '2020-01-04 00:00:00') & (td['tpep_dropoff_datetime'] < '2020-01-05 00:00:00')]\r\n",
        "print('Sat:' , dateday.shape[0])\r\n",
        "\r\n",
        "dateday = td[ (td['tpep_dropoff_datetime'] >= '2020-01-05 00:00:00') & (td['tpep_dropoff_datetime'] < '2020-01-06 00:00:00')]\r\n",
        "print('Sun:' , dateday.shape[0])\r\n",
        "\r\n",
        "dateday = td[ (td['tpep_dropoff_datetime'] >= '2020-01-06 00:00:00') & (td['tpep_dropoff_datetime'] < '2020-01-07 00:00:00')]\r\n",
        "print('Monday:' , dateday.shape[0])\r\n",
        "\r\n",
        "dateday = td[ (td['tpep_dropoff_datetime'] >= '2020-01-07 00:00:00') & (td['tpep_dropoff_datetime'] < '2020-01-08 00:00:00')]\r\n",
        "print('Tue:' , dateday.shape[0])\r\n"
      ],
      "execution_count": null,
      "outputs": [
        {
          "output_type": "stream",
          "text": [
            "tpep_dropoff_datetime->\n",
            "Wed: 168195\n",
            "Thur: 162052\n",
            "Fri: 182810\n",
            "Sat: 182314\n",
            "Sun: 165612\n",
            "Monday: 179696\n",
            "Tue: 201286\n"
          ],
          "name": "stdout"
        }
      ]
    },
    {
      "cell_type": "code",
      "metadata": {
        "colab": {
          "base_uri": "https://localhost:8080/"
        },
        "id": "yXCzlaY0pDA1",
        "outputId": "d7565e7b-912e-4a80-9d05-1b18badbe029"
      },
      "source": [
        "ds = td[(td['VendorID'] == 2) & (td['fare_amount'] < td['fare_amount'].mean()) & (td['passenger_count'] > int('5'))]\r\n",
        "\r\n",
        "print(ds.head())\r\n",
        "print(ds.shape)"
      ],
      "execution_count": null,
      "outputs": [
        {
          "output_type": "stream",
          "text": [
            "     VendorID tpep_pickup_datetime  ... DOLocationID  fare_amount\n",
            "195       2.0  2020-01-01 00:38:43  ...          170         12.0\n",
            "218       2.0  2020-01-01 00:24:07  ...          260          5.5\n",
            "219       2.0  2020-01-01 00:39:43  ...          260          7.0\n",
            "220       2.0  2020-01-01 00:48:29  ...          129          6.5\n",
            "453       2.0  2020-01-01 00:47:13  ...          140          7.5\n",
            "\n",
            "[5 rows x 7 columns]\n",
            "(19443, 7)\n"
          ],
          "name": "stdout"
        }
      ]
    },
    {
      "cell_type": "code",
      "metadata": {
        "colab": {
          "base_uri": "https://localhost:8080/",
          "height": 284
        },
        "id": "OekthNqArP_Y",
        "outputId": "09c9f588-84ec-4a43-e3ec-643259909c65"
      },
      "source": [
        "ds.describe()"
      ],
      "execution_count": null,
      "outputs": [
        {
          "output_type": "execute_result",
          "data": {
            "text/html": [
              "<div>\n",
              "<style scoped>\n",
              "    .dataframe tbody tr th:only-of-type {\n",
              "        vertical-align: middle;\n",
              "    }\n",
              "\n",
              "    .dataframe tbody tr th {\n",
              "        vertical-align: top;\n",
              "    }\n",
              "\n",
              "    .dataframe thead th {\n",
              "        text-align: right;\n",
              "    }\n",
              "</style>\n",
              "<table border=\"1\" class=\"dataframe\">\n",
              "  <thead>\n",
              "    <tr style=\"text-align: right;\">\n",
              "      <th></th>\n",
              "      <th>VendorID</th>\n",
              "      <th>passenger_count</th>\n",
              "      <th>PULocationID</th>\n",
              "      <th>DOLocationID</th>\n",
              "      <th>fare_amount</th>\n",
              "    </tr>\n",
              "  </thead>\n",
              "  <tbody>\n",
              "    <tr>\n",
              "      <th>count</th>\n",
              "      <td>19443.0</td>\n",
              "      <td>19443.000000</td>\n",
              "      <td>19443.000000</td>\n",
              "      <td>19443.000000</td>\n",
              "      <td>19443.000000</td>\n",
              "    </tr>\n",
              "    <tr>\n",
              "      <th>mean</th>\n",
              "      <td>2.0</td>\n",
              "      <td>6.000257</td>\n",
              "      <td>165.997994</td>\n",
              "      <td>165.288381</td>\n",
              "      <td>7.632995</td>\n",
              "    </tr>\n",
              "    <tr>\n",
              "      <th>std</th>\n",
              "      <td>0.0</td>\n",
              "      <td>0.025857</td>\n",
              "      <td>66.614747</td>\n",
              "      <td>68.441004</td>\n",
              "      <td>2.623450</td>\n",
              "    </tr>\n",
              "    <tr>\n",
              "      <th>min</th>\n",
              "      <td>2.0</td>\n",
              "      <td>6.000000</td>\n",
              "      <td>4.000000</td>\n",
              "      <td>4.000000</td>\n",
              "      <td>-65.000000</td>\n",
              "    </tr>\n",
              "    <tr>\n",
              "      <th>25%</th>\n",
              "      <td>2.0</td>\n",
              "      <td>6.000000</td>\n",
              "      <td>114.000000</td>\n",
              "      <td>114.000000</td>\n",
              "      <td>5.500000</td>\n",
              "    </tr>\n",
              "    <tr>\n",
              "      <th>50%</th>\n",
              "      <td>2.0</td>\n",
              "      <td>6.000000</td>\n",
              "      <td>162.000000</td>\n",
              "      <td>162.000000</td>\n",
              "      <td>7.500000</td>\n",
              "    </tr>\n",
              "    <tr>\n",
              "      <th>75%</th>\n",
              "      <td>2.0</td>\n",
              "      <td>6.000000</td>\n",
              "      <td>234.000000</td>\n",
              "      <td>234.000000</td>\n",
              "      <td>9.500000</td>\n",
              "    </tr>\n",
              "    <tr>\n",
              "      <th>max</th>\n",
              "      <td>2.0</td>\n",
              "      <td>9.000000</td>\n",
              "      <td>265.000000</td>\n",
              "      <td>265.000000</td>\n",
              "      <td>13.000000</td>\n",
              "    </tr>\n",
              "  </tbody>\n",
              "</table>\n",
              "</div>"
            ],
            "text/plain": [
              "       VendorID  passenger_count  PULocationID  DOLocationID   fare_amount\n",
              "count   19443.0     19443.000000  19443.000000  19443.000000  19443.000000\n",
              "mean        2.0         6.000257    165.997994    165.288381      7.632995\n",
              "std         0.0         0.025857     66.614747     68.441004      2.623450\n",
              "min         2.0         6.000000      4.000000      4.000000    -65.000000\n",
              "25%         2.0         6.000000    114.000000    114.000000      5.500000\n",
              "50%         2.0         6.000000    162.000000    162.000000      7.500000\n",
              "75%         2.0         6.000000    234.000000    234.000000      9.500000\n",
              "max         2.0         9.000000    265.000000    265.000000     13.000000"
            ]
          },
          "metadata": {
            "tags": []
          },
          "execution_count": 27
        }
      ]
    },
    {
      "cell_type": "code",
      "metadata": {
        "colab": {
          "base_uri": "https://localhost:8080/"
        },
        "id": "HtKq-UcNsN0f",
        "outputId": "3862c2ef-3ecb-4446-81ef-01e397f17970"
      },
      "source": [
        "print('Selected Data tpep_pickup_datetime->')\r\n",
        "\r\n",
        "dateday = ds[ (ds['tpep_pickup_datetime'] >= '2020-01-01 00:00:00') & (ds['tpep_pickup_datetime'] < '2020-01-02 00:00:00')]\r\n",
        "print('Wed:' , dateday.shape[0])\r\n",
        "\r\n",
        "dateday = ds[ (ds['tpep_pickup_datetime'] >= '2020-01-02 00:00:00') & (ds['tpep_pickup_datetime'] < '2020-01-03 00:00:00')]\r\n",
        "print('Thur:' , dateday.shape[0])\r\n",
        "\r\n",
        "dateday = ds[ (ds['tpep_pickup_datetime'] >= '2020-01-03 00:00:00') & (ds['tpep_pickup_datetime'] < '2020-01-04 00:00:00')]\r\n",
        "print('Fri:' , dateday.shape[0])\r\n",
        "\r\n",
        "dateday = ds[ (ds['tpep_pickup_datetime'] >= '2020-01-04 00:00:00') & (ds['tpep_pickup_datetime'] < '2020-01-05 00:00:00')]\r\n",
        "print('Sat:' , dateday.shape[0])\r\n",
        "\r\n",
        "dateday = ds[ (ds['tpep_pickup_datetime'] >= '2020-01-05 00:00:00') & (ds['tpep_pickup_datetime'] < '2020-01-06 00:00:00')]\r\n",
        "print('Sun:' , dateday.shape[0])\r\n",
        "\r\n",
        "dateday = ds[ (ds['tpep_pickup_datetime'] >= '2020-01-06 00:00:00') & (ds['tpep_pickup_datetime'] < '2020-01-07 00:00:00')]\r\n",
        "print('Monday:' , dateday.shape[0])\r\n",
        "\r\n",
        "dateday = ds[ (ds['tpep_pickup_datetime'] >= '2020-01-07 00:00:00') & (ds['tpep_pickup_datetime'] < '2020-01-08 00:00:00')]\r\n",
        "print('Tue:' , dateday.shape[0])\r\n"
      ],
      "execution_count": null,
      "outputs": [
        {
          "output_type": "stream",
          "text": [
            "Selected Data tpep_pickup_datetime->\n",
            "Wed: 2622\n",
            "Thur: 2627\n",
            "Fri: 2892\n",
            "Sat: 3090\n",
            "Sun: 2482\n",
            "Monday: 2655\n",
            "Tue: 3075\n"
          ],
          "name": "stdout"
        }
      ]
    },
    {
      "cell_type": "code",
      "metadata": {
        "colab": {
          "base_uri": "https://localhost:8080/"
        },
        "id": "EJ65Ds2or1nL",
        "outputId": "0416436d-2007-4d47-c8f2-8c97ea333066"
      },
      "source": [
        "print('Selected Data tpep_dropoff_datetime->')\r\n",
        "\r\n",
        "dateday = ds[ (ds['tpep_dropoff_datetime'] >= '2020-01-01 00:00:00') & (ds['tpep_dropoff_datetime'] < '2020-01-02 00:00:00')]\r\n",
        "print('Wed:' , dateday.shape[0])\r\n",
        "\r\n",
        "dateday = ds[ (ds['tpep_dropoff_datetime'] >= '2020-01-02 00:00:00') & (ds['tpep_dropoff_datetime'] < '2020-01-03 00:00:00')]\r\n",
        "print('Thur:' , dateday.shape[0])\r\n",
        "\r\n",
        "dateday = ds[ (ds['tpep_dropoff_datetime'] >= '2020-01-03 00:00:00') & (ds['tpep_dropoff_datetime'] < '2020-01-04 00:00:00')]\r\n",
        "print('Fri:' , dateday.shape[0])\r\n",
        "\r\n",
        "dateday = ds[ (ds['tpep_dropoff_datetime'] >= '2020-01-04 00:00:00') & (ds['tpep_dropoff_datetime'] < '2020-01-05 00:00:00')]\r\n",
        "print('Sat:' , dateday.shape[0])\r\n",
        "\r\n",
        "dateday = ds[ (ds['tpep_dropoff_datetime'] >= '2020-01-05 00:00:00') & (ds['tpep_dropoff_datetime'] < '2020-01-06 00:00:00')]\r\n",
        "print('Sun:' , dateday.shape[0])\r\n",
        "\r\n",
        "dateday = ds[ (ds['tpep_dropoff_datetime'] >= '2020-01-06 00:00:00') & (ds['tpep_dropoff_datetime'] < '2020-01-07 00:00:00')]\r\n",
        "print('Monday:' , dateday.shape[0])\r\n",
        "\r\n",
        "dateday = ds[ (ds['tpep_dropoff_datetime'] >= '2020-01-07 00:00:00') & (ds['tpep_dropoff_datetime'] < '2020-01-08 00:00:00')]\r\n",
        "print('Tue:' , dateday.shape[0])\r\n"
      ],
      "execution_count": null,
      "outputs": [
        {
          "output_type": "stream",
          "text": [
            "Selected Data tpep_dropoff_datetime->\n",
            "Wed: 2606\n",
            "Thur: 2618\n",
            "Fri: 2895\n",
            "Sat: 3072\n",
            "Sun: 2505\n",
            "Monday: 2663\n",
            "Tue: 3062\n"
          ],
          "name": "stdout"
        }
      ]
    },
    {
      "cell_type": "code",
      "metadata": {
        "colab": {
          "base_uri": "https://localhost:8080/",
          "height": 284
        },
        "id": "g-6HJRcxuYm8",
        "outputId": "33f373ab-40a0-4c03-bbd6-5989db96d613"
      },
      "source": [
        "td1 = td.copy()\r\n",
        "\r\n",
        "td2 = td.copy()\r\n",
        "\r\n",
        "td1.describe()\r\n",
        "\r\n"
      ],
      "execution_count": null,
      "outputs": [
        {
          "output_type": "execute_result",
          "data": {
            "text/html": [
              "<div>\n",
              "<style scoped>\n",
              "    .dataframe tbody tr th:only-of-type {\n",
              "        vertical-align: middle;\n",
              "    }\n",
              "\n",
              "    .dataframe tbody tr th {\n",
              "        vertical-align: top;\n",
              "    }\n",
              "\n",
              "    .dataframe thead th {\n",
              "        text-align: right;\n",
              "    }\n",
              "</style>\n",
              "<table border=\"1\" class=\"dataframe\">\n",
              "  <thead>\n",
              "    <tr style=\"text-align: right;\">\n",
              "      <th></th>\n",
              "      <th>VendorID</th>\n",
              "      <th>passenger_count</th>\n",
              "      <th>PULocationID</th>\n",
              "      <th>DOLocationID</th>\n",
              "      <th>fare_amount</th>\n",
              "    </tr>\n",
              "  </thead>\n",
              "  <tbody>\n",
              "    <tr>\n",
              "      <th>count</th>\n",
              "      <td>1.227632e+06</td>\n",
              "      <td>1.227632e+06</td>\n",
              "      <td>1.243241e+06</td>\n",
              "      <td>1.243241e+06</td>\n",
              "      <td>1.243241e+06</td>\n",
              "    </tr>\n",
              "    <tr>\n",
              "      <th>mean</th>\n",
              "      <td>1.676771e+00</td>\n",
              "      <td>1.568692e+00</td>\n",
              "      <td>1.627453e+02</td>\n",
              "      <td>1.607467e+02</td>\n",
              "      <td>1.302977e+01</td>\n",
              "    </tr>\n",
              "    <tr>\n",
              "      <th>std</th>\n",
              "      <td>4.677094e-01</td>\n",
              "      <td>1.181809e+00</td>\n",
              "      <td>6.610786e+01</td>\n",
              "      <td>7.098176e+01</td>\n",
              "      <td>1.293962e+01</td>\n",
              "    </tr>\n",
              "    <tr>\n",
              "      <th>min</th>\n",
              "      <td>1.000000e+00</td>\n",
              "      <td>0.000000e+00</td>\n",
              "      <td>1.000000e+00</td>\n",
              "      <td>1.000000e+00</td>\n",
              "      <td>-1.238000e+03</td>\n",
              "    </tr>\n",
              "    <tr>\n",
              "      <th>25%</th>\n",
              "      <td>1.000000e+00</td>\n",
              "      <td>1.000000e+00</td>\n",
              "      <td>1.250000e+02</td>\n",
              "      <td>1.070000e+02</td>\n",
              "      <td>6.000000e+00</td>\n",
              "    </tr>\n",
              "    <tr>\n",
              "      <th>50%</th>\n",
              "      <td>2.000000e+00</td>\n",
              "      <td>1.000000e+00</td>\n",
              "      <td>1.610000e+02</td>\n",
              "      <td>1.620000e+02</td>\n",
              "      <td>9.000000e+00</td>\n",
              "    </tr>\n",
              "    <tr>\n",
              "      <th>75%</th>\n",
              "      <td>2.000000e+00</td>\n",
              "      <td>2.000000e+00</td>\n",
              "      <td>2.330000e+02</td>\n",
              "      <td>2.330000e+02</td>\n",
              "      <td>1.400000e+01</td>\n",
              "    </tr>\n",
              "    <tr>\n",
              "      <th>max</th>\n",
              "      <td>2.000000e+00</td>\n",
              "      <td>9.000000e+00</td>\n",
              "      <td>2.650000e+02</td>\n",
              "      <td>2.650000e+02</td>\n",
              "      <td>1.238000e+03</td>\n",
              "    </tr>\n",
              "  </tbody>\n",
              "</table>\n",
              "</div>"
            ],
            "text/plain": [
              "           VendorID  passenger_count  PULocationID  DOLocationID   fare_amount\n",
              "count  1.227632e+06     1.227632e+06  1.243241e+06  1.243241e+06  1.243241e+06\n",
              "mean   1.676771e+00     1.568692e+00  1.627453e+02  1.607467e+02  1.302977e+01\n",
              "std    4.677094e-01     1.181809e+00  6.610786e+01  7.098176e+01  1.293962e+01\n",
              "min    1.000000e+00     0.000000e+00  1.000000e+00  1.000000e+00 -1.238000e+03\n",
              "25%    1.000000e+00     1.000000e+00  1.250000e+02  1.070000e+02  6.000000e+00\n",
              "50%    2.000000e+00     1.000000e+00  1.610000e+02  1.620000e+02  9.000000e+00\n",
              "75%    2.000000e+00     2.000000e+00  2.330000e+02  2.330000e+02  1.400000e+01\n",
              "max    2.000000e+00     9.000000e+00  2.650000e+02  2.650000e+02  1.238000e+03"
            ]
          },
          "metadata": {
            "tags": []
          },
          "execution_count": 43
        }
      ]
    },
    {
      "cell_type": "code",
      "metadata": {
        "id": "ou5xvbQAw8SA"
      },
      "source": [
        "from sklearn.impute import SimpleImputer "
      ],
      "execution_count": null,
      "outputs": []
    },
    {
      "cell_type": "code",
      "metadata": {
        "colab": {
          "base_uri": "https://localhost:8080/"
        },
        "id": "QbzCJFHjw9Em",
        "outputId": "86adf755-b0c8-4f2b-efa2-fed197f3f6da"
      },
      "source": [
        "td['passenger_count'].value_counts()"
      ],
      "execution_count": null,
      "outputs": [
        {
          "output_type": "execute_result",
          "data": {
            "text/plain": [
              "1.0    847452\n",
              "2.0    200439\n",
              "3.0     56019\n",
              "5.0     45092\n",
              "4.0     31127\n",
              "6.0     26542\n",
              "0.0     20939\n",
              "7.0        11\n",
              "8.0         6\n",
              "9.0         5\n",
              "Name: passenger_count, dtype: int64"
            ]
          },
          "metadata": {
            "tags": []
          },
          "execution_count": 36
        }
      ]
    },
    {
      "cell_type": "code",
      "metadata": {
        "colab": {
          "base_uri": "https://localhost:8080/"
        },
        "id": "XdwR6Hl9I0xk",
        "outputId": "8cc30eeb-0320-428c-aa99-533fe13192a4"
      },
      "source": [
        "td.isnull().sum()"
      ],
      "execution_count": null,
      "outputs": [
        {
          "output_type": "execute_result",
          "data": {
            "text/plain": [
              "VendorID                 15609\n",
              "tpep_pickup_datetime         0\n",
              "tpep_dropoff_datetime        0\n",
              "passenger_count          15609\n",
              "PULocationID                 0\n",
              "DOLocationID                 0\n",
              "fare_amount                  0\n",
              "dtype: int64"
            ]
          },
          "metadata": {
            "tags": []
          },
          "execution_count": 44
        }
      ]
    },
    {
      "cell_type": "code",
      "metadata": {
        "colab": {
          "base_uri": "https://localhost:8080/"
        },
        "id": "jnn64k-UDNE-",
        "outputId": "5ec9064b-f45c-43f0-dedb-346608f933b2"
      },
      "source": [
        "td1.isnull().sum()"
      ],
      "execution_count": null,
      "outputs": [
        {
          "output_type": "execute_result",
          "data": {
            "text/plain": [
              "VendorID                 15609\n",
              "tpep_pickup_datetime         0\n",
              "tpep_dropoff_datetime        0\n",
              "passenger_count          15609\n",
              "PULocationID                 0\n",
              "DOLocationID                 0\n",
              "fare_amount                  0\n",
              "dtype: int64"
            ]
          },
          "metadata": {
            "tags": []
          },
          "execution_count": 37
        }
      ]
    },
    {
      "cell_type": "code",
      "metadata": {
        "id": "s1PfVugRCpYT"
      },
      "source": [
        "td1['passenger_count'].fillna('1.0', inplace = True)"
      ],
      "execution_count": null,
      "outputs": []
    },
    {
      "cell_type": "code",
      "metadata": {
        "colab": {
          "base_uri": "https://localhost:8080/"
        },
        "id": "ycHGgkC7Db2-",
        "outputId": "79473f0a-9f81-4979-f27d-3a285827d15f"
      },
      "source": [
        "td1.isnull().sum()"
      ],
      "execution_count": null,
      "outputs": [
        {
          "output_type": "execute_result",
          "data": {
            "text/plain": [
              "VendorID                 15609\n",
              "tpep_pickup_datetime         0\n",
              "tpep_dropoff_datetime        0\n",
              "passenger_count              0\n",
              "PULocationID                 0\n",
              "DOLocationID                 0\n",
              "fare_amount                  0\n",
              "dtype: int64"
            ]
          },
          "metadata": {
            "tags": []
          },
          "execution_count": 39
        }
      ]
    },
    {
      "cell_type": "code",
      "metadata": {
        "colab": {
          "base_uri": "https://localhost:8080/",
          "height": 284
        },
        "id": "oCqPtVeCDjB2",
        "outputId": "375500a9-57a0-4b71-ada2-d9b69898c608"
      },
      "source": [
        "td1.describe()"
      ],
      "execution_count": null,
      "outputs": [
        {
          "output_type": "execute_result",
          "data": {
            "text/html": [
              "<div>\n",
              "<style scoped>\n",
              "    .dataframe tbody tr th:only-of-type {\n",
              "        vertical-align: middle;\n",
              "    }\n",
              "\n",
              "    .dataframe tbody tr th {\n",
              "        vertical-align: top;\n",
              "    }\n",
              "\n",
              "    .dataframe thead th {\n",
              "        text-align: right;\n",
              "    }\n",
              "</style>\n",
              "<table border=\"1\" class=\"dataframe\">\n",
              "  <thead>\n",
              "    <tr style=\"text-align: right;\">\n",
              "      <th></th>\n",
              "      <th>VendorID</th>\n",
              "      <th>passenger_count</th>\n",
              "      <th>PULocationID</th>\n",
              "      <th>DOLocationID</th>\n",
              "      <th>fare_amount</th>\n",
              "    </tr>\n",
              "  </thead>\n",
              "  <tbody>\n",
              "    <tr>\n",
              "      <th>count</th>\n",
              "      <td>1.227632e+06</td>\n",
              "      <td>1.227632e+06</td>\n",
              "      <td>1.243241e+06</td>\n",
              "      <td>1.243241e+06</td>\n",
              "      <td>1.243241e+06</td>\n",
              "    </tr>\n",
              "    <tr>\n",
              "      <th>mean</th>\n",
              "      <td>1.676771e+00</td>\n",
              "      <td>1.568692e+00</td>\n",
              "      <td>1.627453e+02</td>\n",
              "      <td>1.607467e+02</td>\n",
              "      <td>1.302977e+01</td>\n",
              "    </tr>\n",
              "    <tr>\n",
              "      <th>std</th>\n",
              "      <td>4.677094e-01</td>\n",
              "      <td>1.181809e+00</td>\n",
              "      <td>6.610786e+01</td>\n",
              "      <td>7.098176e+01</td>\n",
              "      <td>1.293962e+01</td>\n",
              "    </tr>\n",
              "    <tr>\n",
              "      <th>min</th>\n",
              "      <td>1.000000e+00</td>\n",
              "      <td>0.000000e+00</td>\n",
              "      <td>1.000000e+00</td>\n",
              "      <td>1.000000e+00</td>\n",
              "      <td>-1.238000e+03</td>\n",
              "    </tr>\n",
              "    <tr>\n",
              "      <th>25%</th>\n",
              "      <td>1.000000e+00</td>\n",
              "      <td>1.000000e+00</td>\n",
              "      <td>1.250000e+02</td>\n",
              "      <td>1.070000e+02</td>\n",
              "      <td>6.000000e+00</td>\n",
              "    </tr>\n",
              "    <tr>\n",
              "      <th>50%</th>\n",
              "      <td>2.000000e+00</td>\n",
              "      <td>1.000000e+00</td>\n",
              "      <td>1.610000e+02</td>\n",
              "      <td>1.620000e+02</td>\n",
              "      <td>9.000000e+00</td>\n",
              "    </tr>\n",
              "    <tr>\n",
              "      <th>75%</th>\n",
              "      <td>2.000000e+00</td>\n",
              "      <td>2.000000e+00</td>\n",
              "      <td>2.330000e+02</td>\n",
              "      <td>2.330000e+02</td>\n",
              "      <td>1.400000e+01</td>\n",
              "    </tr>\n",
              "    <tr>\n",
              "      <th>max</th>\n",
              "      <td>2.000000e+00</td>\n",
              "      <td>9.000000e+00</td>\n",
              "      <td>2.650000e+02</td>\n",
              "      <td>2.650000e+02</td>\n",
              "      <td>1.238000e+03</td>\n",
              "    </tr>\n",
              "  </tbody>\n",
              "</table>\n",
              "</div>"
            ],
            "text/plain": [
              "           VendorID  passenger_count  PULocationID  DOLocationID   fare_amount\n",
              "count  1.227632e+06     1.227632e+06  1.243241e+06  1.243241e+06  1.243241e+06\n",
              "mean   1.676771e+00     1.568692e+00  1.627453e+02  1.607467e+02  1.302977e+01\n",
              "std    4.677094e-01     1.181809e+00  6.610786e+01  7.098176e+01  1.293962e+01\n",
              "min    1.000000e+00     0.000000e+00  1.000000e+00  1.000000e+00 -1.238000e+03\n",
              "25%    1.000000e+00     1.000000e+00  1.250000e+02  1.070000e+02  6.000000e+00\n",
              "50%    2.000000e+00     1.000000e+00  1.610000e+02  1.620000e+02  9.000000e+00\n",
              "75%    2.000000e+00     2.000000e+00  2.330000e+02  2.330000e+02  1.400000e+01\n",
              "max    2.000000e+00     9.000000e+00  2.650000e+02  2.650000e+02  1.238000e+03"
            ]
          },
          "metadata": {
            "tags": []
          },
          "execution_count": 45
        }
      ]
    },
    {
      "cell_type": "code",
      "metadata": {
        "id": "DW63_a_aJJPV"
      },
      "source": [
        "td2['passenger_count'].fillna('1.0', inplace = True)"
      ],
      "execution_count": null,
      "outputs": []
    }
  ]
}